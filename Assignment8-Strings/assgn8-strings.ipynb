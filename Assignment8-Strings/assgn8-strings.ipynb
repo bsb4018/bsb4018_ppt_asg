{
 "cells": [
  {
   "attachments": {},
   "cell_type": "markdown",
   "metadata": {},
   "source": [
    "QUESTION 1"
   ]
  },
  {
   "cell_type": "code",
   "execution_count": null,
   "metadata": {},
   "outputs": [],
   "source": [
    "'''\n",
    "**Question 1**\n",
    "Given two strings s1 and s2, return *the lowest **ASCII** sum of deleted characters to make two strings equal*.\n",
    "**Example 1:**\n",
    "**Input:** s1 = \"sea\", s2 = \"eat\"\n",
    "**Output:** 231\n",
    "**Explanation:** Deleting \"s\" from \"sea\" adds the ASCII value of \"s\" (115) to the sum.\n",
    "Deleting \"t\" from \"eat\" adds 116 to the sum.\n",
    "At the end, both strings are equal, and 115 + 116 = 231 is the minimum sum possible to achieve this.\n",
    "'''\n",
    "pass"
   ]
  },
  {
   "cell_type": "code",
   "execution_count": 3,
   "metadata": {},
   "outputs": [],
   "source": [
    "def stringasciiminsum(s1,s2):\n",
    "\n",
    "    dp = {}\n",
    "    def minasciisum(i,j):\n",
    "        '''return the minimum ASCII sum for s1[i:] and s2[j:]'''\n",
    "\n",
    "        if i >= len(s1):\n",
    "            return sum([ord(x) for x in s2[j:]]) #return s2 ascii sum\n",
    "        if j >= len(s2):\n",
    "            return sum([ord(x) for x in s1[i:]]) #return s1 ascii sum\n",
    "            \n",
    "        if (i,j) not in dp:\n",
    "            if s1[i] == s2[j]: #match\n",
    "                dp[(i,j)] = minasciisum(i+1,j+1) #move to next characters\n",
    "\n",
    "            else:\n",
    "                dp[(i,j)] = min(minasciisum(i+1,j) + ord(s1[i]), \\\n",
    "                minasciisum(i,j+1) + ord(s2[j]))  #delete ith char from s1, add ascii and delete jth char from s2, add ascii and store the minimum of the two      \n",
    "\n",
    "        return dp[(i,j)]\n",
    "\n",
    "    return minasciisum(0,0)"
   ]
  },
  {
   "cell_type": "code",
   "execution_count": 4,
   "metadata": {},
   "outputs": [
    {
     "name": "stdout",
     "output_type": "stream",
     "text": [
      "231\n"
     ]
    }
   ],
   "source": [
    "s1 = \"sea\"\n",
    "s2 = \"eat\"\n",
    "print(stringasciiminsum(s1, s2))"
   ]
  },
  {
   "cell_type": "code",
   "execution_count": null,
   "metadata": {},
   "outputs": [],
   "source": [
    "'''\n",
    "T.C = O(m * n) where m and n are the lengths of the strings m and n\n",
    "S.C = O(m * n) where m and n are the lengths of the strings m and n\n",
    "'''"
   ]
  },
  {
   "attachments": {},
   "cell_type": "markdown",
   "metadata": {},
   "source": [
    "QUESTION 2"
   ]
  },
  {
   "cell_type": "code",
   "execution_count": null,
   "metadata": {},
   "outputs": [],
   "source": [
    "'''\n",
    "**Question 2**\n",
    "Given a string s containing only three types of characters: '(', ')' and '*', return true *if* s *is **valid***.\n",
    "The following rules define a **valid** string:\n",
    "\n",
    "- Any left parenthesis '(' must have a corresponding right parenthesis ')'.\n",
    "- Any right parenthesis ')' must have a corresponding left parenthesis '('.\n",
    "- Left parenthesis '(' must go before the corresponding right parenthesis ')'.\n",
    "- '*' could be treated as a single right parenthesis ')' or a single left parenthesis '(' or an empty string \"\".\n",
    "\n",
    "**Example 1:**\n",
    "**Input:** s = \"()\"\n",
    "**Output:**\n",
    "true\n",
    "'''"
   ]
  },
  {
   "cell_type": "code",
   "execution_count": 5,
   "metadata": {},
   "outputs": [],
   "source": [
    "def charmatch(s):\n",
    "    matches = 0\n",
    "    # all * will be used as left parenthesis\n",
    "    for c in s:\n",
    "        if c == '(': \n",
    "            matches += 1\n",
    "        elif c == ')': \n",
    "            matches -= 1\n",
    "        else:\n",
    "            matches += 1\n",
    "\n",
    "\t\t# check as pointer goes\n",
    "        if matches < 0: #we can never have less than 0 matches for valid\n",
    "            return False\n",
    "\n",
    "    matches = 0\n",
    "    # all * will be used as right parenthesis\n",
    "    for c in s[::-1]:\n",
    "        if c == ')': \n",
    "            matches += 1\n",
    "        elif c == '(': \n",
    "            matches -= 1\n",
    "        else:\n",
    "            matches += 1\n",
    "\t\t\t\n",
    "        # check as pointer goes\n",
    "        if matches < 0: #we can never have less than 0 matches for valid\n",
    "            return False\n",
    "        \n",
    "    return True"
   ]
  },
  {
   "cell_type": "code",
   "execution_count": 6,
   "metadata": {},
   "outputs": [
    {
     "name": "stdout",
     "output_type": "stream",
     "text": [
      "True\n"
     ]
    }
   ],
   "source": [
    "s = \"()\"\n",
    "print(charmatch(s))"
   ]
  },
  {
   "cell_type": "code",
   "execution_count": null,
   "metadata": {},
   "outputs": [],
   "source": [
    "'''\n",
    "T.C = O(N) where n is the length of the string\n",
    "S.C = O(1) \n",
    "'''"
   ]
  },
  {
   "attachments": {},
   "cell_type": "markdown",
   "metadata": {},
   "source": [
    "QUESTION 3"
   ]
  },
  {
   "cell_type": "code",
   "execution_count": null,
   "metadata": {},
   "outputs": [],
   "source": [
    "'''\n",
    "**Question 3**\n",
    "Given two strings word1 and word2, return *the minimum number of **steps** required to make* word1 *and* word2 *the same*.\n",
    "In one **step**, you can delete exactly one character in either string.\n",
    "**Example 1:**\n",
    "**Input:** word1 = \"sea\", word2 = \"eat\"\n",
    "**Output:** 2\n",
    "**Explanation:** You need one step to make \"sea\" to \"ea\" and another step to make \"eat\" to \"ea\".\n",
    "'''"
   ]
  },
  {
   "cell_type": "code",
   "execution_count": 7,
   "metadata": {},
   "outputs": [],
   "source": [
    "def mindelstr(word1,word2):\n",
    "\n",
    "    def md(i,j):\n",
    "        if i == 0 or j == 0:\n",
    "            return 0\n",
    "        \n",
    "        if dp[i][j] != -1: #already result calculated\n",
    "            return dp[i][j]\n",
    "\n",
    "        if word1[i-1] == word2[j-1]: #characetrs match we move\n",
    "            dp[i][j] = 1 + md(i-1,j-1)\n",
    "        else:\n",
    "            dp[i][j] = max(md(i,j-1) , md(i-1,j)) #not match condition\n",
    "\n",
    "        return dp[i][j]\n",
    "\n",
    "    m = len(word1)\n",
    "    n = len(word2)\n",
    "\n",
    "    dp = [[-1]*(n+1) for i in range(m+1)] #store the longest common subsequence\n",
    "\n",
    "    return m + n - 2*md(m,n)"
   ]
  },
  {
   "cell_type": "code",
   "execution_count": 8,
   "metadata": {},
   "outputs": [
    {
     "name": "stdout",
     "output_type": "stream",
     "text": [
      "2\n"
     ]
    }
   ],
   "source": [
    "word1 = \"sea\"\n",
    "word2 = \"eat\"\n",
    "print(mindelstr(word1, word2))"
   ]
  },
  {
   "cell_type": "code",
   "execution_count": null,
   "metadata": {},
   "outputs": [],
   "source": [
    "'''\n",
    "T.C = O(m * n) where m and n are the lengths of the worrds word1 and word2\n",
    "S.C = O(m * n) where m and n are the lengths of the worrds word1 and word2\n",
    "'''"
   ]
  },
  {
   "attachments": {},
   "cell_type": "markdown",
   "metadata": {},
   "source": [
    "QUESTION 4"
   ]
  },
  {
   "cell_type": "code",
   "execution_count": null,
   "metadata": {},
   "outputs": [],
   "source": [
    "'''\n",
    "**Question 4**\n",
    "You need to construct a binary tree from a string consisting of parenthesis and integers.\n",
    "The whole input represents a binary tree. It contains an integer followed by zero, one or \n",
    "two pairs of parenthesis. The integer represents the root's value and a pair of parenthesis \n",
    "contains a child binary tree with the same structure.\n",
    "You always start to construct the **left** child node of the parent first if it exists.\n",
    "**Input:** s = \"4(2(3)(1))(6(5))\"\n",
    "**Output:** [4,2,6,3,1,5]\n",
    "'''"
   ]
  },
  {
   "cell_type": "code",
   "execution_count": 10,
   "metadata": {},
   "outputs": [],
   "source": [
    "class TreeNode:\n",
    "    def __init__(self, val=0, left=None, right=None):\n",
    "        self.val = val\n",
    "        self.left = left\n",
    "        self.right = right\n",
    "        \n",
    "class Solution:\n",
    "    def str2tree(self, s: str) -> TreeNode:\n",
    "\n",
    "        if not s:\n",
    "            return None\n",
    "        \n",
    "        stack = [] #initialize an empty stack\n",
    "        n = len(s)\n",
    "        i = 0\n",
    "        while i < n:\n",
    "            if s[i] == '-': #negative element skip the sign\n",
    "                i += 1 #start from next index\n",
    "                num = 0\n",
    "                while i < n and s[i].isdigit(): #find next digit\n",
    "                    num = num*10 + int(s[i]) #create the element \n",
    "                    i += 1\n",
    "                stack.append(TreeNode(-num)) #push the element\n",
    "                i -= 1\n",
    "            elif s[i].isdigit(): #find next digit\n",
    "                num = 0\n",
    "                while i < n and s[i].isdigit(): #create the element \n",
    "                    num = num*10 + int(s[i])\n",
    "                    i += 1\n",
    "                stack.append(TreeNode(num)) #push the element\n",
    "                i -= 1\n",
    "            elif s[i] == ')': #right pointer indicates pop and assign left or right sub tree\n",
    "                curnode = stack.pop()\n",
    "                if stack:\n",
    "                    parent = stack[-1] #parent will be the root\n",
    "                    if not parent.left: #if parent left subtree yet not build\n",
    "                        parent.left = curnode\n",
    "                    else:\n",
    "                        parent.right = curnode\n",
    "            i += 1 #goto next character\n",
    "\n",
    "        return stack[0] #stack top has the root node"
   ]
  },
  {
   "cell_type": "code",
   "execution_count": 11,
   "metadata": {},
   "outputs": [],
   "source": [
    "def printTrav(node: TreeNode, res):\n",
    "    if (node == None):\n",
    "        return\n",
    "    if node.val not in res:\n",
    "        res.append(node.val)\n",
    "        \n",
    "        if node.left != None:\n",
    "            res.append(node.left.val)\n",
    "        \n",
    "        if node.right != None:\n",
    "            res.append(node.right.val)\n",
    "    \n",
    "    printTrav(node.left, res)\n",
    "    printTrav(node.right, res)"
   ]
  },
  {
   "cell_type": "code",
   "execution_count": 12,
   "metadata": {},
   "outputs": [
    {
     "name": "stdout",
     "output_type": "stream",
     "text": [
      "[4, 2, 6, 3, 1, 5]\n"
     ]
    }
   ],
   "source": [
    "s = \"4(2(3)(1))(6(5))\"\n",
    "solobj = Solution()\n",
    "res = []\n",
    "root = solobj.str2tree(s)\n",
    "printTrav(root,res)\n",
    "print(res)"
   ]
  },
  {
   "cell_type": "code",
   "execution_count": null,
   "metadata": {},
   "outputs": [],
   "source": [
    "'''\n",
    "T.C = O(N) where n is the number of characters in the input string\n",
    "S.C = O(N)\n",
    "'''"
   ]
  },
  {
   "attachments": {},
   "cell_type": "markdown",
   "metadata": {},
   "source": [
    "QUESTION 5"
   ]
  },
  {
   "cell_type": "code",
   "execution_count": null,
   "metadata": {},
   "outputs": [],
   "source": [
    "'''\n",
    "**Question 5**\n",
    "Given an array of characters chars, compress it using the following algorithm:\n",
    "Begin with an empty string s. For each group of **consecutive repeating characters** in chars:\n",
    "- If the group's length is 1, append the character to s.\n",
    "- Otherwise, append the character followed by the group's length.\n",
    "\n",
    "The compressed string s **should not be returned separately**, but instead, \n",
    "be stored **in the input character array chars**. Note that group lengths that \n",
    "are 10 or longer will be split into multiple characters in chars.\n",
    "After you are done **modifying the input array,** return *the new length of the array*.\n",
    "You must write an algorithm that uses only constant extra space.\n",
    "\n",
    "**Example 1:**\n",
    "**Input:** chars = [\"a\",\"a\",\"b\",\"b\",\"c\",\"c\",\"c\"]\n",
    "**Output:** Return 6, and the first 6 characters of the input array should be: [\"a\",\"2\",\"b\",\"2\",\"c\",\"3\"]\n",
    "**Explanation:**\n",
    "The groups are \"aa\", \"bb\", and \"ccc\". This compresses to \"a2b2c3\".\n",
    "'''"
   ]
  },
  {
   "cell_type": "code",
   "execution_count": 3,
   "metadata": {},
   "outputs": [],
   "source": [
    "def func(chars):\n",
    "    i = 0\n",
    "    index = 0 #position in array where we store the encoding\n",
    "\n",
    "    while i < len(chars):\n",
    "        j = i\n",
    "        while j < len(chars) and chars[j] == chars[i]: #we move j till same character repeated \n",
    "            j += 1\n",
    "        \n",
    "        chars[index] = chars[i] #replace with the ith character to modify the input array in place\n",
    "        index += 1 #increment position to store the encoding value / next character\n",
    "\n",
    "        count = j - i #find number of times the character is repeated\n",
    "        \n",
    "        if count > 1: #if count is more than 1 time\n",
    "            for c in str(count): #store each digit as an element of the array\n",
    "                chars[index] = c\n",
    "                index += 1\n",
    "\n",
    "        i = j #reset i to j to goto next character\n",
    "\n",
    "    chars = chars[:index] #modify the chars array till index since that is our new modified chars\n",
    "    return index\n"
   ]
  },
  {
   "cell_type": "code",
   "execution_count": 4,
   "metadata": {},
   "outputs": [
    {
     "name": "stdout",
     "output_type": "stream",
     "text": [
      "6\n"
     ]
    }
   ],
   "source": [
    "chars = [\"a\",\"a\",\"b\",\"b\",\"c\",\"c\",\"c\"]\n",
    "print(func(chars))"
   ]
  },
  {
   "cell_type": "code",
   "execution_count": null,
   "metadata": {},
   "outputs": [],
   "source": [
    "'''\n",
    "T.C = O(N) where n is the number of characters in the input char array\n",
    "S.C = O(1)\n",
    "'''"
   ]
  },
  {
   "attachments": {},
   "cell_type": "markdown",
   "metadata": {},
   "source": [
    "QUESTION 6"
   ]
  },
  {
   "cell_type": "code",
   "execution_count": null,
   "metadata": {},
   "outputs": [],
   "source": [
    "'''\n",
    "**Question 6**\n",
    "Given two strings s and p, return *an array of all the start indices of* p*'s anagrams in* s. \n",
    "You may return the answer in **any order**.\n",
    "An **Anagram** is a word or phrase formed by rearranging the letters of a different word or phrase, \n",
    "typically using all the original letters exactly once.\n",
    "\n",
    "**Example 1:**\n",
    "**Input:** s = \"cbaebabacd\", p = \"abc\"\n",
    "**Output:** [0,6]\n",
    "\n",
    "**Explanation:**\n",
    "The substring with start index = 0 is \"cba\", which is an anagram of \"abc\".\n",
    "The substring with start index = 6 is \"bac\", which is an anagram of \"abc\".\n",
    "'''"
   ]
  },
  {
   "cell_type": "code",
   "execution_count": 5,
   "metadata": {},
   "outputs": [],
   "source": [
    "def allanagram(s,p):\n",
    "    \n",
    "    if len(p) > len(s):\n",
    "        return []\n",
    "   \n",
    "    pcount = {} #store the numbe of occurrence of each character in p\n",
    "    scount = {} #store the numbe of occurrence of each character in s\n",
    "\n",
    "    #building the starting hashmap from index 0\n",
    "    for i in range(len(p)): #increment count of first p characters \n",
    "        pcount[p[i]] = 1 + pcount.get(p[i], 0)\n",
    "        scount[s[i]] = 1 + scount.get(s[i], 0)\n",
    "\n",
    "    res = [0] if scount == pcount else [] #inserted 0 as starting index match if both hashmaps are equal i.e. anagrams\n",
    "    \n",
    "    l = 0 #left pointer\n",
    "    #starting from index p and increment one by one\n",
    "    for r in range(len(p), len(s)):\n",
    "        scount[s[r]] = 1 + scount.get(s[r], 0)\n",
    "        scount[s[l]] -= 1 #decrement the count of left pointer character\n",
    "        if scount[s[l]] == 0: #decrement lead to 0\n",
    "            scount.pop(s[l]) #remove the character\n",
    "        l += 1 #increment the left pointer to next index\n",
    "\n",
    "        #again check if both the hasmaps are equal i.e. anagram\n",
    "        if scount == pcount:\n",
    "            res.append(l)\n",
    "\n",
    "\n",
    "    return res        \n"
   ]
  },
  {
   "cell_type": "code",
   "execution_count": 6,
   "metadata": {},
   "outputs": [
    {
     "name": "stdout",
     "output_type": "stream",
     "text": [
      "[0, 6]\n"
     ]
    }
   ],
   "source": [
    "s = \"cbaebabacd\"\n",
    "p = \"abc\"\n",
    "print(allanagram(s,p))"
   ]
  },
  {
   "cell_type": "code",
   "execution_count": null,
   "metadata": {},
   "outputs": [],
   "source": [
    "'''\n",
    "T.C = O(N) where N is the number of characters in s \n",
    "S.C = O(N) where N is the number of characters in s\n",
    "'''"
   ]
  },
  {
   "attachments": {},
   "cell_type": "markdown",
   "metadata": {},
   "source": [
    "QUESTION 7"
   ]
  },
  {
   "cell_type": "code",
   "execution_count": null,
   "metadata": {},
   "outputs": [],
   "source": [
    "'''\n",
    "**Question 7**\n",
    "Given an encoded string, return its decoded string.\n",
    "The encoding rule is: k[encoded_string], where the encoded_string inside the square brackets is \n",
    "being repeated exactly k times. Note that k is guaranteed to be a positive integer.\n",
    "You may assume that the input string is always valid; there are no extra white spaces, \n",
    "square brackets are well-formed, etc. Furthermore, you may assume that the original data \n",
    "does not contain any digits and that digits are only for those repeat numbers, k. \n",
    "For example, there will not be input like 3a or 2[4].\n",
    "The test cases are generated so that the length of the output will never exceed 105.\n",
    "\n",
    "**Example 1:**\n",
    "**Input:** s = \"3[a]2[bc]\"\n",
    "**Output:** \"aaabcbc\"\n",
    "'''"
   ]
  },
  {
   "cell_type": "code",
   "execution_count": 13,
   "metadata": {},
   "outputs": [],
   "source": [
    "def decode(s):\n",
    "    \n",
    "    stack = []\n",
    "\n",
    "    for i in range(len(s)):\n",
    "        if s[i] != \"]\":\n",
    "            stack.append(s[i]) #not closing bracket - add to stack\n",
    "        else: \n",
    "            substr = \"\" #get the substring inside the bracket\n",
    "            while stack[-1] != \"[\":\n",
    "                substr = stack.pop() + substr #ceate the substring\n",
    "            stack.pop() #pop the opening bracket\n",
    "\n",
    "            k = \"\" #get the integer value before the bracket\n",
    "            while stack and stack[-1].isdigit():\n",
    "                k = stack.pop() + k #form the integer\n",
    "\n",
    "            stack.append(int(k) * substr) #appending the substring k times\n",
    "    \n",
    "    return \"\".join(stack) #form the output string"
   ]
  },
  {
   "cell_type": "code",
   "execution_count": 14,
   "metadata": {},
   "outputs": [
    {
     "name": "stdout",
     "output_type": "stream",
     "text": [
      "aaabcbc\n"
     ]
    }
   ],
   "source": [
    "s = \"3[a]2[bc]\"\n",
    "print(decode(s))"
   ]
  },
  {
   "cell_type": "code",
   "execution_count": null,
   "metadata": {},
   "outputs": [],
   "source": [
    "'''\n",
    "T.C = O(N) where N is the length of the string\n",
    "S.C = O(N) where N is the length of the stringS\n",
    "'''"
   ]
  },
  {
   "cell_type": "code",
   "execution_count": null,
   "metadata": {},
   "outputs": [],
   "source": []
  },
  {
   "attachments": {},
   "cell_type": "markdown",
   "metadata": {},
   "source": [
    "QUESTION 8"
   ]
  },
  {
   "cell_type": "code",
   "execution_count": null,
   "metadata": {},
   "outputs": [],
   "source": [
    "'''\n",
    "**Question 8**\n",
    "Given two strings s and goal, return true *if you can swap two letters in* s *so the result is equal to* goal*, \n",
    "otherwise, return* false*.*\n",
    "Swapping letters is defined as taking two indices i and j (0-indexed) such that i != j and \n",
    "swapping the characters at s[i] and s[j].\n",
    "- For example, swapping at indices 0 and 2 in \"abcd\" results in \"cbad\".\n",
    "**Example 1:**\n",
    "**Input:** s = \"ab\", goal = \"ba\"\n",
    "**Output:** true\n",
    "**Explanation:** You can swap s[0] = 'a' and s[1] = 'b' to get \"ba\", which is equal to goal.\n",
    "'''"
   ]
  },
  {
   "cell_type": "code",
   "execution_count": 15,
   "metadata": {},
   "outputs": [],
   "source": [
    "def funcStr(s,goal):\n",
    "\n",
    "    # Case 1: If both strings length not matching, return false\n",
    "    if len(s) != len(goal):\n",
    "        return False\n",
    "        \n",
    "    # Case 2: If both strings are equal but any character repeating more than once, its swappable return true\n",
    "    if s == goal:\n",
    "        non_repeat = []\n",
    "        f =False\n",
    "        for i in s:\n",
    "            if i not in non_repeat:\n",
    "                non_repeat.append(i)\n",
    "            else:\n",
    "                f = True\n",
    "                break\n",
    "        if f:\n",
    "            return True\n",
    "        else:\n",
    "            return False\n",
    "        \n",
    "    # Case 3: If both different strings and has more than 2 different letter\n",
    "    temp = []\n",
    "    for i in range(len(s)):\n",
    "        if s[i] != goal[i]:\n",
    "            temp.append(i)\n",
    "        else:\n",
    "            continue\n",
    "    if len(temp) != 2:\n",
    "        return False\n",
    "        \n",
    "    # Case 4: Continue from case 3 but check both letters are correctly swapped\n",
    "    if s[temp[0]] == goal[temp[1]] and s[temp[1]] == goal[temp[0]]:\n",
    "        return True\n",
    "    \n",
    "    return False"
   ]
  },
  {
   "cell_type": "code",
   "execution_count": 16,
   "metadata": {},
   "outputs": [
    {
     "name": "stdout",
     "output_type": "stream",
     "text": [
      "True\n"
     ]
    }
   ],
   "source": [
    "s = \"ab\"\n",
    "goal = \"ba\"\n",
    "print(funcStr(s,goal))"
   ]
  },
  {
   "cell_type": "code",
   "execution_count": null,
   "metadata": {},
   "outputs": [],
   "source": [
    "'''\n",
    "T.C = O(N) where N is the number of characters in s\n",
    "S.C = O(N) where N is the number of characters in s\n",
    "'''"
   ]
  },
  {
   "cell_type": "code",
   "execution_count": null,
   "metadata": {},
   "outputs": [],
   "source": []
  },
  {
   "cell_type": "code",
   "execution_count": null,
   "metadata": {},
   "outputs": [],
   "source": []
  }
 ],
 "metadata": {
  "kernelspec": {
   "display_name": "gendev",
   "language": "python",
   "name": "python3"
  },
  "language_info": {
   "codemirror_mode": {
    "name": "ipython",
    "version": 3
   },
   "file_extension": ".py",
   "mimetype": "text/x-python",
   "name": "python",
   "nbconvert_exporter": "python",
   "pygments_lexer": "ipython3",
   "version": "3.8.13"
  },
  "orig_nbformat": 4
 },
 "nbformat": 4,
 "nbformat_minor": 2
}
