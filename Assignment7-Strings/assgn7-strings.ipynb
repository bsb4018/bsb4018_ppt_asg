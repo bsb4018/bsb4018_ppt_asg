{
 "cells": [
  {
   "attachments": {},
   "cell_type": "markdown",
   "metadata": {},
   "source": [
    "QUESTION 1"
   ]
  },
  {
   "cell_type": "code",
   "execution_count": null,
   "metadata": {},
   "outputs": [],
   "source": [
    "'''\n",
    "**Question 1**\n",
    "Given two strings s and t, *determine if they are isomorphic*.\n",
    "Two strings s and t are isomorphic if the characters in s can be replaced to get t.\n",
    "All occurrences of a character must be replaced with another character while preserving \n",
    "the order of characters. No two characters may map to the same character, but a character may map to itself.\n",
    "**Example 1:**\n",
    "**Input:** s = \"egg\", t = \"add\"\n",
    "**Output:** true\n",
    "'''"
   ]
  },
  {
   "cell_type": "code",
   "execution_count": 7,
   "metadata": {},
   "outputs": [],
   "source": [
    "def isostring(s,t):\n",
    "    \n",
    "    if len(s) != len(t):\n",
    "        return False\n",
    "    \n",
    "    mapping1 = dict() #to check mappings from s->t\n",
    "    mapping2 = dict() #to check mappings from t->s\n",
    "\n",
    "    #checking mappings from s-> t\n",
    "    for i in range(len(s)):\n",
    "        \n",
    "        if mapping1.get(s[i]) == None: #not seen\n",
    "            mapping1[s[i]] = t[i]  #mark seen\n",
    "\n",
    "        if mapping1.get(s[i]) != None:\n",
    "            previous_mapping = mapping1[s[i]]\n",
    "            if previous_mapping != t[i]: #means different mapping\n",
    "                return False\n",
    "\n",
    "    #checking mappings from t-> s        \n",
    "    for i in range(len(t)):\n",
    "        \n",
    "        if mapping2.get(t[i]) == None:\n",
    "            mapping2[t[i]] = s[i]\n",
    "\n",
    "        if mapping2.get(t[i]) != None:\n",
    "            previous_mapping = mapping2[t[i]]\n",
    "            if previous_mapping != s[i]: #means different mapping\n",
    "                return False\n",
    "            \n",
    "    return True   \n"
   ]
  },
  {
   "cell_type": "code",
   "execution_count": 9,
   "metadata": {},
   "outputs": [
    {
     "name": "stdout",
     "output_type": "stream",
     "text": [
      "True\n",
      "False\n"
     ]
    }
   ],
   "source": [
    "s = \"egg\"\n",
    "t = \"add\"\n",
    "print(isostring(s,t))\n",
    "\n",
    "s = \"add\"\n",
    "t = \"egd\"\n",
    "print(isostring(s,t))"
   ]
  },
  {
   "cell_type": "code",
   "execution_count": null,
   "metadata": {},
   "outputs": [],
   "source": [
    "'''\n",
    "T.C = O(N) where N is the length of the string\n",
    "S.C = O(1)\n",
    "'''"
   ]
  },
  {
   "attachments": {},
   "cell_type": "markdown",
   "metadata": {},
   "source": [
    "QUESTION 2"
   ]
  },
  {
   "cell_type": "code",
   "execution_count": null,
   "metadata": {},
   "outputs": [],
   "source": [
    "'''\n",
    "**Question 2**\n",
    "Given a string num which represents an integer, return true *if* num *is a **strobogrammatic number***.\n",
    "A **strobogrammatic number** is a number that looks the same when rotated 180 degrees (looked at upside down).\n",
    "**Example 1:**\n",
    "**Input:** num = \"69\"\n",
    "**Output:**\n",
    "true\n",
    "'''"
   ]
  },
  {
   "cell_type": "code",
   "execution_count": 27,
   "metadata": {},
   "outputs": [],
   "source": [
    "def subprogrammatic(num):\n",
    "    \n",
    "    start = 0 \n",
    "    end = len(num) - 1\n",
    "    \n",
    "    while start <= end:\n",
    "\n",
    "      #only possible if both numbers are 0,1,8 i.e. 00/11/88 or either are 6,9 or 9,6 i.e. 69/96\n",
    "      if \"\".join(num[start] + num[end]) not in [\"00\", \"11\", \"88\", \"69\", \"96\"]:\n",
    "          return False\n",
    "      \n",
    "      start += 1\n",
    "      end -= 1\n",
    "    \n",
    "    return True"
   ]
  },
  {
   "cell_type": "code",
   "execution_count": 28,
   "metadata": {},
   "outputs": [
    {
     "name": "stdout",
     "output_type": "stream",
     "text": [
      "True\n"
     ]
    }
   ],
   "source": [
    "num = \"69\"\n",
    "print(subprogrammatic(num))"
   ]
  },
  {
   "cell_type": "code",
   "execution_count": null,
   "metadata": {},
   "outputs": [],
   "source": [
    "'''\n",
    "T.C = O(N) , where N is the length of the input string\n",
    "S.C = O(1), for each of the N digits in the string, we do a single lookup and comparison.\n",
    "'''\n",
    "pass"
   ]
  },
  {
   "attachments": {},
   "cell_type": "markdown",
   "metadata": {},
   "source": [
    "QUESTION 3"
   ]
  },
  {
   "cell_type": "code",
   "execution_count": null,
   "metadata": {},
   "outputs": [],
   "source": [
    "'''\n",
    "**Question 3**\n",
    "Given two non-negative integers, num1 and num2 represented as string, \n",
    "return *the sum of* num1 *and* num2 *as a string*.\n",
    "You must solve the problem without using any built-in library for handling large \n",
    "integers (such as BigInteger). You must also not convert the inputs to integers directly.\n",
    "**Example 1:**\n",
    "**Input:** num1 = \"11\", num2 = \"123\"\n",
    "**Output:**\n",
    "\"134\"\n",
    "'''"
   ]
  },
  {
   "cell_type": "code",
   "execution_count": 1,
   "metadata": {},
   "outputs": [],
   "source": [
    "def strsum(num1,num2):\n",
    "    \n",
    "    res = \"\"\n",
    "    idx1 = len(num1) - 1\n",
    "    idx2 = len(num2) - 1\n",
    "    carry = 0\n",
    "    \n",
    "    #start from end of both strings \n",
    "    while idx1 >= 0 or idx2 >= 0 or carry:\n",
    "        if idx1 >= 0:\n",
    "            carry += int(num1[idx1])\n",
    "            idx1 -= 1\n",
    "\n",
    "        if idx2 >= 0:\n",
    "            carry += int(num2[idx2])\n",
    "            idx2 -= 1\n",
    "\n",
    "        res = str(carry % 10) + res #add the new integer to the beginning of the string\n",
    "        carry = carry // 10\n",
    "\n",
    "    return res\n"
   ]
  },
  {
   "cell_type": "code",
   "execution_count": 2,
   "metadata": {},
   "outputs": [
    {
     "name": "stdout",
     "output_type": "stream",
     "text": [
      "134\n"
     ]
    }
   ],
   "source": [
    "num1 = \"11\"\n",
    "num2 = \"123\"\n",
    "print(strsum(num1,num2))"
   ]
  },
  {
   "cell_type": "code",
   "execution_count": null,
   "metadata": {},
   "outputs": [],
   "source": [
    "'''\n",
    "T.C = O(N) where N is the length of the largest string i.e. number of digits in the largest number\n",
    "S.C = O(1)\n",
    "'''"
   ]
  },
  {
   "attachments": {},
   "cell_type": "markdown",
   "metadata": {},
   "source": [
    "QUESTION 4"
   ]
  },
  {
   "cell_type": "code",
   "execution_count": null,
   "metadata": {},
   "outputs": [],
   "source": [
    "'''\n",
    "**Question 4**\n",
    "Given a string s, reverse the order of characters in each word within a \n",
    "sentence while still preserving whitespace and initial word order.\n",
    "**Example 1:**\n",
    "**Input:** s = \"Let's take LeetCode contest\"\n",
    "**Output:** \"s'teL ekat edoCteeL tsetnoc\"\n",
    "'''"
   ]
  },
  {
   "cell_type": "code",
   "execution_count": 7,
   "metadata": {},
   "outputs": [],
   "source": [
    "def revwordorder(s):\n",
    "\n",
    "    res = \"\"\n",
    "    words = s.split() #get all the words\n",
    "\n",
    "    #for each word\n",
    "    for word in words:\n",
    "        tempres = \"\"\n",
    "\n",
    "        #for each character\n",
    "        for ch in word:\n",
    "            tempres = ch + tempres\n",
    "        \n",
    "        #first word will be added without space in the beginning\n",
    "        if res == \"\":\n",
    "            res = tempres\n",
    "        else:\n",
    "            res = res + \" \" + tempres\n",
    "\n",
    "    return res"
   ]
  },
  {
   "cell_type": "code",
   "execution_count": 8,
   "metadata": {},
   "outputs": [
    {
     "name": "stdout",
     "output_type": "stream",
     "text": [
      "s'teL ekat edoCteeL tsetnoc\n"
     ]
    }
   ],
   "source": [
    "s = \"Let's take LeetCode contest\"\n",
    "print(revwordorder(s))"
   ]
  },
  {
   "cell_type": "code",
   "execution_count": null,
   "metadata": {},
   "outputs": [],
   "source": [
    "'''\n",
    "T.C = O(N*k) where N is the number of words and k is the length of the largest word\n",
    "S.C = O(1)\n",
    "'''"
   ]
  },
  {
   "attachments": {},
   "cell_type": "markdown",
   "metadata": {},
   "source": [
    "QUESTION 5"
   ]
  },
  {
   "cell_type": "code",
   "execution_count": null,
   "metadata": {},
   "outputs": [],
   "source": [
    "'''\n",
    "**Question 5**\n",
    "Given a string s and an integer k, reverse the first k characters for every 2k characters \n",
    "counting from the start of the string.\n",
    "If there are fewer than k characters left, reverse all of them. If there are less than 2k but \n",
    "greater than or equal to k characters, then reverse the first k characters and leave the other as original.\n",
    "**Example 1:**\n",
    "**Input:** s = \"abcdefg\", k = 2\n",
    "**Output:**\n",
    "\"bacdfeg\"\n",
    "'''"
   ]
  },
  {
   "cell_type": "code",
   "execution_count": 9,
   "metadata": {},
   "outputs": [],
   "source": [
    "def blockrevstr(s,k):\n",
    "    reach  = 0\n",
    "    res = \"\"\n",
    "    n = len(s)\n",
    "\n",
    "    while reach<n:\n",
    "        temp = \"\"\n",
    "            \n",
    "        #first k characters reverse\n",
    "        for j in range(k):\n",
    "            if reach<n:\n",
    "                temp = s[reach] + temp # reversed concatenation\n",
    "            reach += 1\n",
    "        res += temp\n",
    "\n",
    "        #next k character normal\n",
    "        for j in range(k):\n",
    "            if reach<n:\n",
    "                res = res + s[reach] #normal concatenation\n",
    "            reach += 1\n",
    "\n",
    "    return res"
   ]
  },
  {
   "cell_type": "code",
   "execution_count": null,
   "metadata": {},
   "outputs": [],
   "source": [
    "s = \"abcdefg\"\n",
    "k = 2\n",
    "print(blockrevstr(s,k))"
   ]
  },
  {
   "cell_type": "code",
   "execution_count": null,
   "metadata": {},
   "outputs": [],
   "source": [
    "'''\n",
    "T.C = O(N) where n is the length of the string\n",
    "S.C = O(1)\n",
    "'''"
   ]
  },
  {
   "attachments": {},
   "cell_type": "markdown",
   "metadata": {},
   "source": [
    "QUESTION 6"
   ]
  },
  {
   "cell_type": "code",
   "execution_count": null,
   "metadata": {},
   "outputs": [],
   "source": [
    "'''\n",
    "**Question 6**\n",
    "Given two strings s and goal, return true *if and only if* s *can become* goal *after some number of **shifts** on* s.\n",
    "A **shift** on s consists of moving the leftmost character of s to the rightmost position.\n",
    "- For example, if s = \"abcde\", then it will be \"bcdea\" after one shift.\n",
    "**Example 1:**\n",
    "**Input:** s = \"abcde\", goal = \"cdeab\"\n",
    "**Output:**\n",
    "true\n",
    "'''"
   ]
  },
  {
   "cell_type": "code",
   "execution_count": 5,
   "metadata": {},
   "outputs": [],
   "source": [
    "def shifttest(s,goal):\n",
    "    \n",
    "    #Try for shift at every index\n",
    "    for i in range(0,len(s)):\n",
    "        #shift at ith index\n",
    "        shiftedstr = s[i+1:]+s[:i+1]\n",
    "        if shiftedstr == goal: #if the shift matches with goal\n",
    "            return True\n",
    "        \n",
    "    return False"
   ]
  },
  {
   "cell_type": "code",
   "execution_count": 6,
   "metadata": {},
   "outputs": [
    {
     "name": "stdout",
     "output_type": "stream",
     "text": [
      "True\n"
     ]
    }
   ],
   "source": [
    "s = \"abcde\"\n",
    "goal = \"cdeab\"\n",
    "print(shifttest(s,goal))"
   ]
  },
  {
   "cell_type": "code",
   "execution_count": null,
   "metadata": {},
   "outputs": [],
   "source": [
    "'''\n",
    "T.C = O(N) where N is the length of the string \n",
    "S.C = O(1)\n",
    "'''"
   ]
  },
  {
   "attachments": {},
   "cell_type": "markdown",
   "metadata": {},
   "source": [
    "QUESTION 7"
   ]
  },
  {
   "cell_type": "code",
   "execution_count": null,
   "metadata": {},
   "outputs": [],
   "source": [
    "'''\n",
    "**Question 7**\n",
    "Given two strings s and t, return true *if they are equal when both are typed into empty text editors*. \n",
    "'#' means a backspace character.\n",
    "Note that after backspacing an empty text, the text will continue empty.\n",
    "**Example 1:**\n",
    "**Input:** s = \"ab#c\", t = \"ad#c\"\n",
    "**Output:** true\n",
    "**Explanation:**\n",
    "Both s and t become \"ac\".\n",
    "'''"
   ]
  },
  {
   "cell_type": "code",
   "execution_count": 7,
   "metadata": {},
   "outputs": [],
   "source": [
    "def backstrcomp(s,t):\n",
    "\n",
    "    # create stack for s and t string\n",
    "    stack1 = []\n",
    "    stack2 = []\n",
    "\n",
    "    # iterate string and append to stack if not '#'\n",
    "    # if '#' pop the element from stack.\n",
    "    for ch1 in s:\n",
    "        if ch1 != '#':\n",
    "            stack1.append(ch1)\n",
    "        else:\n",
    "            if stack1:\n",
    "                stack1.pop()\n",
    "        \n",
    "    # iterate string and append to stack if not '#'\n",
    "    # if '#' pop the element from stack.\n",
    "    for ch2 in t:\n",
    "        if ch2 != '#':\n",
    "            stack2.append(ch2)\n",
    "        else:\n",
    "            if stack2:\n",
    "                stack2.pop()\n",
    "\n",
    "    return \"\".join(stack1) == \"\".join(stack2)\n",
    " \n",
    " "
   ]
  },
  {
   "cell_type": "code",
   "execution_count": 8,
   "metadata": {},
   "outputs": [
    {
     "name": "stdout",
     "output_type": "stream",
     "text": [
      "True\n"
     ]
    }
   ],
   "source": [
    "s = \"ab#c\"\n",
    "t = \"ad#c\"\n",
    "print(backstrcomp(s,t))"
   ]
  },
  {
   "cell_type": "code",
   "execution_count": null,
   "metadata": {},
   "outputs": [],
   "source": [
    "'''\n",
    "T.C = O(N) where N is the length of the string \n",
    "S.C = O(N)\n",
    "'''"
   ]
  },
  {
   "attachments": {},
   "cell_type": "markdown",
   "metadata": {},
   "source": [
    "QUESTION 8"
   ]
  },
  {
   "cell_type": "code",
   "execution_count": null,
   "metadata": {},
   "outputs": [],
   "source": [
    "'''\n",
    "**Question 8**\n",
    "You are given an array coordinates, coordinates[i] = [x, y], where [x, y] represents the coordinate of a point. \n",
    "Check if these points make a straight line in the XY plane.\n",
    "**Example 1:**\n",
    "**Input:** coordinates = [[1,2],[2,3],[3,4],[4,5],[5,6],[6,7]]\n",
    "**Output:** true\n",
    "'''"
   ]
  },
  {
   "cell_type": "code",
   "execution_count": 9,
   "metadata": {},
   "outputs": [],
   "source": [
    "def validcoordinate(coordinates):\n",
    "    #get the x,y coordinates\n",
    "    x1, y1 = coordinates[0]\n",
    "    x2, y2 = coordinates[1]\n",
    "        \n",
    "    #start check for 2nd coordinates\n",
    "    for x, y in coordinates[2:]:\n",
    "\n",
    "        #valid condition check if the slopes between \n",
    "        #consecutive points are equal\n",
    "        if (x - x1) * (y2 - y1) != (y - y1) * (x2 - x1):\n",
    "            return False\n",
    "        \n",
    "    return True"
   ]
  },
  {
   "cell_type": "code",
   "execution_count": 10,
   "metadata": {},
   "outputs": [
    {
     "name": "stdout",
     "output_type": "stream",
     "text": [
      "True\n"
     ]
    }
   ],
   "source": [
    "coordinates = [[1,2],[2,3],[3,4],[4,5],[5,6],[6,7]]\n",
    "print(validcoordinate(coordinates))"
   ]
  },
  {
   "cell_type": "code",
   "execution_count": null,
   "metadata": {},
   "outputs": [],
   "source": [
    "'''\n",
    "T.C = O(N) where N is the number of coordinate points\n",
    "S.C = O(1)\n",
    "'''"
   ]
  },
  {
   "cell_type": "code",
   "execution_count": null,
   "metadata": {},
   "outputs": [],
   "source": []
  }
 ],
 "metadata": {
  "kernelspec": {
   "display_name": "gendev",
   "language": "python",
   "name": "python3"
  },
  "language_info": {
   "codemirror_mode": {
    "name": "ipython",
    "version": 3
   },
   "file_extension": ".py",
   "mimetype": "text/x-python",
   "name": "python",
   "nbconvert_exporter": "python",
   "pygments_lexer": "ipython3",
   "version": "3.8.13"
  },
  "orig_nbformat": 4
 },
 "nbformat": 4,
 "nbformat_minor": 2
}
