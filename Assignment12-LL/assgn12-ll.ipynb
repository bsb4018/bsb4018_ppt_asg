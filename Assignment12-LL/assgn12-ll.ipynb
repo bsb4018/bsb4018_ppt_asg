{
 "cells": [
  {
   "cell_type": "code",
   "execution_count": null,
   "metadata": {},
   "outputs": [],
   "source": []
  },
  {
   "attachments": {},
   "cell_type": "markdown",
   "metadata": {},
   "source": [
    "QUESTION 1"
   ]
  },
  {
   "cell_type": "code",
   "execution_count": null,
   "metadata": {},
   "outputs": [],
   "source": [
    "'''\n",
    "**Question 1**\n",
    "\n",
    "Given a singly linked list, delete **middle** of the linked list. \n",
    "For example, if given linked list is 1->2->**3**->4->5 then linked list \n",
    "should be modified to 1->2->4->5.If there are **even** nodes, then there \n",
    "would be **two middle** nodes, we need to delete the second middle element. \n",
    "For example, if given linked list is 1->2->3->4->5->6 then it should be \n",
    "modified to 1->2->3->5->6.If the input linked list is NULL or has 1 node, then it should return NULL\n",
    "\n",
    "**Example 1:**\n",
    "Input:\n",
    "LinkedList: 1->2->3->4->5\n",
    "Output:1 2 4 5\n",
    "Example 2:\n",
    "Input:\n",
    "LinkedList: 2->4->6->7->5->1\n",
    "Output:2 4 6 5 1\n",
    "'''"
   ]
  },
  {
   "cell_type": "code",
   "execution_count": 8,
   "metadata": {},
   "outputs": [],
   "source": [
    "class Node:\n",
    "      \n",
    "    def __init__(self, data):\n",
    "          \n",
    "        self.data = data\n",
    "        self.next = None\n",
    "  \n",
    "class LinkedList:\n",
    "      \n",
    "    def __init__(self):\n",
    "          \n",
    "        # Head of the list\n",
    "        self.head = None \n",
    "  \n",
    "    # Add new node to the list end\n",
    "    def addNode(self, data):\n",
    "          \n",
    "        newNode = Node(data)\n",
    "        if self.head is None:\n",
    "            self.head = newNode\n",
    "            return\n",
    "              \n",
    "        last = self.head\n",
    "          \n",
    "        while last.next:\n",
    "            last = last.next\n",
    "              \n",
    "        last.next = newNode\n",
    "  \n",
    "    # Returns the list in string format\n",
    "    def __str__(self):\n",
    "          \n",
    "        linkedListStr = \"\"\n",
    "        temp = self.head\n",
    "          \n",
    "        while temp:\n",
    "            linkedListStr += str(temp.data) + \" \"\n",
    "            temp = temp.next\n",
    "              \n",
    "        return linkedListStr\n",
    "  \n",
    "    # Method deletes middle node\n",
    "    def deletemiddlenode(self):\n",
    "  \n",
    "        # Base cases\n",
    "        if (self.head is None or \n",
    "            self.head.next is None):\n",
    "            return\n",
    "  \n",
    "        # Initialize slow and fast pointers\n",
    "        # to reach middle of linked list\n",
    "        slow_Ptr = self.head\n",
    "        fast_Ptr = self.head\n",
    "  \n",
    "        # Find the middle and previous of middle\n",
    "        prev = None\n",
    "  \n",
    "        # To store previous of slow pointer\n",
    "        while (fast_Ptr is not None and \n",
    "               fast_Ptr.next is not None):\n",
    "            fast_Ptr = fast_Ptr.next.next\n",
    "            prev = slow_Ptr\n",
    "            slow_Ptr = slow_Ptr.next\n",
    "  \n",
    "        # Delete the middle node\n",
    "        prev.next = slow_Ptr.next\n",
    "  "
   ]
  },
  {
   "cell_type": "code",
   "execution_count": 10,
   "metadata": {},
   "outputs": [
    {
     "name": "stdout",
     "output_type": "stream",
     "text": [
      "Input Linked List\n",
      "1 2 3 4 5 \n",
      "Linked List after deletion of middle\n",
      "1 2 4 5 \n"
     ]
    }
   ],
   "source": [
    "ll1 = LinkedList()\n",
    "  \n",
    "ll1.addNode(1)\n",
    "ll1.addNode(2)\n",
    "ll1.addNode(3)\n",
    "ll1.addNode(4)\n",
    "ll1.addNode(5)\n",
    "  \n",
    "print(\"Input Linked List\")\n",
    "print(ll1)\n",
    "  \n",
    "ll1.deletemiddlenode()\n",
    "  \n",
    "print(\"Linked List after deletion of middle\")\n",
    "print(ll1)\n"
   ]
  },
  {
   "cell_type": "code",
   "execution_count": null,
   "metadata": {},
   "outputs": [],
   "source": [
    "'''\n",
    "T.C = O(N), Only one traversal of the linked list is needed\n",
    "S.C = O(1)\n",
    "'''"
   ]
  },
  {
   "attachments": {},
   "cell_type": "markdown",
   "metadata": {},
   "source": [
    "QUESTION 2"
   ]
  },
  {
   "cell_type": "code",
   "execution_count": null,
   "metadata": {},
   "outputs": [],
   "source": [
    "'''\n",
    "**Question 2**\n",
    "Given a linked list of **N** nodes. The task is to check if the linked list has a loop. \n",
    "Linked list can contain self loop.\n",
    "**Example 1:**\n",
    "\n",
    "```\n",
    "Input:\n",
    "N = 3\n",
    "value[] = {1,3,4}\n",
    "x(position at which tail is connected) = 2\n",
    "Output:True\n",
    "Explanation:In above test case N = 3.\n",
    "The linked list with nodes N = 3 is\n",
    "given. Then value of x=2 is given which\n",
    "means last node is connected with xth\n",
    "node of linked list. Therefore, there\n",
    "exists a loop.\n",
    "```\n",
    "\n",
    "**Example 2:**\n",
    "Input:\n",
    "N = 4\n",
    "value[] = {1,8,3,4}\n",
    "x = 0\n",
    "Output:False\n",
    "Explanation:For N = 4 ,x = 0 means\n",
    "then lastNode->next = NULL, then\n",
    "the Linked list does not contains\n",
    "any loop.\n",
    "'''"
   ]
  },
  {
   "cell_type": "code",
   "execution_count": 15,
   "metadata": {},
   "outputs": [],
   "source": [
    "class Node:\n",
    " \n",
    "    def __init__(self):\n",
    "        self.data = 0\n",
    "        self.next = None\n",
    " \n",
    "def addNode(head_ref, new_data):\n",
    "\n",
    "    new_node = Node()\n",
    " \n",
    "    new_node.data = new_data\n",
    " \n",
    "    new_node.next = (head_ref)\n",
    " \n",
    "    (head_ref) = new_node\n",
    "    return head_ref\n",
    "\n",
    "\n",
    "def detectLLloop(head):\n",
    " \n",
    "    slow = fast = head\n",
    "\n",
    "    while fast and fast.next:\n",
    "        slow = slow.next\n",
    "        fast = fast.next.next\n",
    "\n",
    "        if slow == fast:\n",
    "            return True\n",
    "\n",
    "    return False"
   ]
  },
  {
   "cell_type": "code",
   "execution_count": 17,
   "metadata": {},
   "outputs": [
    {
     "name": "stdout",
     "output_type": "stream",
     "text": [
      "True\n"
     ]
    }
   ],
   "source": [
    "head = None\n",
    " \n",
    "head = addNode(head, 20)\n",
    "head = addNode(head, 4)\n",
    "head = addNode(head, 15)\n",
    "head = addNode(head, 10)\n",
    " \n",
    "head.next.next.next.next = head\n",
    " \n",
    "print(detectLLloop(head))"
   ]
  },
  {
   "cell_type": "code",
   "execution_count": null,
   "metadata": {},
   "outputs": [],
   "source": [
    "'''\n",
    "T.C = O(N)\n",
    "S.C = O(1)\n",
    "'''"
   ]
  },
  {
   "attachments": {},
   "cell_type": "markdown",
   "metadata": {},
   "source": [
    "QUESTION 3"
   ]
  },
  {
   "cell_type": "code",
   "execution_count": null,
   "metadata": {},
   "outputs": [],
   "source": [
    "'''\n",
    "<aside>\n",
    "💡 **Question 3**\n",
    "\n",
    "Given a linked list consisting of **L** nodes and given a number **N**. \n",
    "The task is to find the **N**th node from the end of the linked list.\n",
    "\n",
    "**Example 1:**\n",
    "\n",
    "```\n",
    "Input:\n",
    "N = 2\n",
    "LinkedList: 1->2->3->4->5->6->7->8->9\n",
    "Output:8\n",
    "Explanation:In the first example, there\n",
    "are 9 nodes in linked list and we need\n",
    "to find 2nd node from end. 2nd node\n",
    "from end is 8.\n",
    "\n",
    "```\n",
    "\n",
    "**Example 2:**\n",
    "Input:\n",
    "N = 5\n",
    "LinkedList: 10->5->100->5\n",
    "Output:-1\n",
    "Explanation:In the second example, there\n",
    "are 4 nodes in the linked list and we\n",
    "need to find 5th from the end. Since 'n'\n",
    "is more than the number of nodes in the\n",
    "linked list, the output is -1.\n",
    "'''"
   ]
  },
  {
   "cell_type": "code",
   "execution_count": 52,
   "metadata": {},
   "outputs": [],
   "source": [
    "class Node:\n",
    "    def __init__(self, new_data):\n",
    "        self.data = new_data\n",
    "        self.next = None\n",
    " \n",
    " \n",
    "class LinkedList:\n",
    "    def __init__(self):\n",
    "        self.head = None\n",
    " \n",
    "    # CreateNode and make linked list\n",
    "    def addNode(self, new_data):\n",
    "        new_node = Node(new_data)\n",
    "        new_node.next = self.head\n",
    "        self.head = new_node\n",
    " \n",
    "    \n",
    "    def Nthfromend(self,n):\n",
    "        temp = self.head  # Used temp variable\n",
    " \n",
    "        length = 0\n",
    "        while temp is not None:\n",
    "            temp = temp.next\n",
    "            length += 1\n",
    " \n",
    "        temp = self.head\n",
    "        for _ in range(0, length - n):\n",
    "            temp = temp.next\n",
    "        \n",
    "        return temp.data\n"
   ]
  },
  {
   "cell_type": "code",
   "execution_count": 54,
   "metadata": {},
   "outputs": [
    {
     "name": "stdout",
     "output_type": "stream",
     "text": [
      "8\n"
     ]
    }
   ],
   "source": [
    "llist = LinkedList()\n",
    "\n",
    "llist.addNode(9)\n",
    "llist.addNode(8)\n",
    "llist.addNode(7)\n",
    "llist.addNode(6)\n",
    "llist.addNode(5)\n",
    "llist.addNode(4)\n",
    "llist.addNode(3)\n",
    "llist.addNode(2)\n",
    "llist.addNode(1)\n",
    "\n",
    "\n",
    "n = 2\n",
    "\n",
    "print(llist.Nthfromend(n))"
   ]
  },
  {
   "cell_type": "code",
   "execution_count": null,
   "metadata": {},
   "outputs": [],
   "source": [
    "'''\n",
    "T.C = O(N)\n",
    "S.C = O(1)\n",
    "'''"
   ]
  },
  {
   "attachments": {},
   "cell_type": "markdown",
   "metadata": {},
   "source": [
    "QUESTION 4"
   ]
  },
  {
   "cell_type": "code",
   "execution_count": null,
   "metadata": {},
   "outputs": [],
   "source": [
    "'''\n",
    "**Question 4**\n",
    "Given a singly linked list of characters, write a function that returns \n",
    "true if the given list is a palindrome, else false.\n",
    "**Examples:**\n",
    "\n",
    "> Input: R->A->D->A->R->NULL\n",
    "> **Output:** Yes\n",
    "\n",
    "> **Input:** C->O->D->E->NULL\n",
    "> **Output:** No\n",
    "\n",
    "'''"
   ]
  },
  {
   "cell_type": "code",
   "execution_count": 57,
   "metadata": {},
   "outputs": [],
   "source": [
    "class Node:\n",
    "\tdef __init__(self, data):\n",
    "\n",
    "\t\tself.data = data\n",
    "\t\tself.ptr = None\n",
    "\n",
    "\n",
    "def ispalindrome(head):\n",
    "\n",
    "\t# Temp pointer\n",
    "\tslow = head\n",
    "\n",
    "\t# Declare a stack\n",
    "\tstack = []\n",
    "\n",
    "\tispalin = True\n",
    "\n",
    "\t# Push all elements of the list\n",
    "\t# to the stack\n",
    "\twhile slow != None:\n",
    "\t\tstack.append(slow.data)\n",
    "\n",
    "\t\t# Move ahead\n",
    "\t\tslow = slow.ptr\n",
    "\n",
    "\t# Iterate in the list again and\n",
    "\t# check by popping from the stack\n",
    "\twhile head != None:\n",
    "\n",
    "\t\t# Get the top most element\n",
    "\t\ti = stack.pop()\n",
    "\n",
    "\t\t# Check if data is not\n",
    "\t\t# same as popped element\n",
    "\t\tif head.data == i:\n",
    "\t\t\tispalin = True\n",
    "\t\telse:\n",
    "\t\t\tispalin = False\n",
    "\t\t\tbreak\n",
    "\n",
    "\t\t# Move ahead\n",
    "\t\thead = head.ptr\n",
    "\n",
    "\tif ispalin == True:\n",
    "\t\treturn \"Yes\"\n",
    "\telse:\n",
    "\t\treturn \"No\"\n"
   ]
  },
  {
   "cell_type": "code",
   "execution_count": 58,
   "metadata": {},
   "outputs": [
    {
     "name": "stdout",
     "output_type": "stream",
     "text": [
      "Yes\n"
     ]
    }
   ],
   "source": [
    "one = Node(1)\n",
    "two = Node(2)\n",
    "three = Node(3)\n",
    "four = Node(4)\n",
    "five = Node(3)\n",
    "six = Node(2)\n",
    "seven = Node(1)\n",
    "\n",
    "one.ptr = two\n",
    "two.ptr = three\n",
    "three.ptr = four\n",
    "four.ptr = five\n",
    "five.ptr = six\n",
    "six.ptr = seven\n",
    "seven.ptr = None\n",
    "\n",
    "print(ispalindrome(one))"
   ]
  },
  {
   "cell_type": "code",
   "execution_count": null,
   "metadata": {},
   "outputs": [],
   "source": [
    "'''\n",
    "T.C = O(N)\n",
    "S.C = O(N)\n",
    "'''"
   ]
  },
  {
   "attachments": {},
   "cell_type": "markdown",
   "metadata": {},
   "source": [
    "QUESTION 5"
   ]
  },
  {
   "cell_type": "code",
   "execution_count": null,
   "metadata": {},
   "outputs": [],
   "source": [
    "'''\n",
    " **Question 5**\n",
    "\n",
    "Given a linked list of **N** nodes such that it may contain a loop.\n",
    "\n",
    "A loop here means that the last node of the link list is connected to the node at position X(1-based index).\n",
    "If the link list does not have any loop, X=0.\n",
    "\n",
    "Remove the loop from the linked list, if it is present, i.e. unlink the last node which is forming the loop.\n",
    "\n",
    "**Example 1:**\n",
    "Input:\n",
    "N = 3\n",
    "value[] = {1,3,4}\n",
    "X = 2\n",
    "Output:1\n",
    "Explanation:The link list looks like\n",
    "1 -> 3 -> 4\n",
    "     ^    |\n",
    "     |____|\n",
    "A loop is present. If you remove it\n",
    "successfully, the answer will be 1.\n",
    "'''"
   ]
  },
  {
   "cell_type": "code",
   "execution_count": 78,
   "metadata": {},
   "outputs": [],
   "source": [
    "class Node:\n",
    "\n",
    "\tdef __init__(self, data):\n",
    "\t\tself.data = data\n",
    "\t\tself.next = None\n",
    "\n",
    "\n",
    "class LinkedList:\n",
    "\n",
    "\tdef __init__(self):\n",
    "\t\tself.head = None\n",
    "\n",
    "\t# Function to insert a new node at the beginning\n",
    "\tdef push(self, new_data):\n",
    "\t\tnew_node = Node(new_data)\n",
    "\t\tnew_node.next = self.head\n",
    "\t\tself.head = new_node\n",
    "\n",
    "\tdef detectAndRemoveLoop(self):\n",
    "\t\tif self.head is None:\n",
    "\t\t\treturn\n",
    "\t\t\n",
    "\t\tif self.head.next is None:\n",
    "\t\t\treturn\n",
    "\t\t\n",
    "\t\tslow_p = self.head\n",
    "\t\tfast_p = self.head\n",
    "\n",
    "\t\twhile(slow_p and fast_p and fast_p.next):\n",
    "\t\t\tslow_p = slow_p.next\n",
    "\t\t\tfast_p = fast_p.next.next\n",
    "\n",
    "\t\t\tif slow_p == fast_p:\n",
    "\t\t\t\tslow_p = self.head\n",
    "\t\t\t\t# Finding the beginning of the loop\n",
    "\t\t\t\t\n",
    "\t\t\t\twhile (slow_p.next != fast_p.next):\n",
    "\t\t\t\t\tslow_p = slow_p.next\n",
    "\t\t\t\t\tfast_p = fast_p.next\n",
    "\n",
    "\t\t\t\tfast_p.next = None\n",
    "\n",
    "\tdef printList(self):\n",
    "\t\ttemp = self.head\n",
    "\t\tprint(temp.data)\n"
   ]
  },
  {
   "cell_type": "code",
   "execution_count": 81,
   "metadata": {},
   "outputs": [
    {
     "name": "stdout",
     "output_type": "stream",
     "text": [
      "1\n"
     ]
    }
   ],
   "source": [
    "llist = LinkedList()\n",
    "llist.head = Node(1)\n",
    "llist.head.next = Node(3)\n",
    "llist.head.next.next = Node(4)\n",
    "\n",
    "llist.head.next.next.next = llist.head.next\n",
    "\n",
    "llist.detectAndRemoveLoop()\n",
    "\n",
    "llist.printList()"
   ]
  },
  {
   "cell_type": "code",
   "execution_count": null,
   "metadata": {},
   "outputs": [],
   "source": [
    "'''\n",
    "T.C = O(N)\n",
    "S.C = O(1)\n",
    "'''"
   ]
  },
  {
   "attachments": {},
   "cell_type": "markdown",
   "metadata": {},
   "source": [
    "QUESTION 6"
   ]
  },
  {
   "cell_type": "code",
   "execution_count": null,
   "metadata": {},
   "outputs": [],
   "source": [
    "'''\n",
    "**Question 6**\n",
    "\n",
    "Given a linked list and two integers M and N. Traverse the linked list such that you retain \n",
    "M nodes then delete next N nodes, continue the same till end of the linked list.\n",
    "\n",
    "Difficulty Level: Rookie\n",
    "\n",
    "**Examples**:\n",
    "Input:\n",
    "M = 2, N = 2\n",
    "Linked List: 1->2->3->4->5->6->7->8\n",
    "Output:\n",
    "Linked List: 1->2->5->6\n",
    "\n",
    "Input:\n",
    "M = 3, N = 2\n",
    "Linked List: 1->2->3->4->5->6->7->8->9->10\n",
    "Output:\n",
    "Linked List: 1->2->3->6->7->8\n",
    "\n",
    "Input:\n",
    "M = 1, N = 1\n",
    "Linked List: 1->2->3->4->5->6->7->8->9->10\n",
    "Output:\n",
    "Linked List: 1->3->5->7->9\n",
    "\n",
    "'''"
   ]
  },
  {
   "cell_type": "code",
   "execution_count": 83,
   "metadata": {},
   "outputs": [],
   "source": [
    "class Node:\n",
    "\n",
    "\t# Constructor to initialize the node object\n",
    "\tdef __init__(self, data):\n",
    "\t\tself.data = data\n",
    "\t\tself.next = None\n",
    "\n",
    "class LinkedList:\n",
    "\n",
    "\t# Function to initialize head\n",
    "\tdef __init__(self):\n",
    "\t\tself.head = None\n",
    "\n",
    "\t# Function to insert a new node at the beginning\n",
    "\tdef push(self, new_data):\n",
    "\t\tnew_node = Node(new_data)\n",
    "\t\tnew_node.next = self.head\n",
    "\t\tself.head = new_node\n",
    "\n",
    "\t# Utility function to print the linked LinkedList\n",
    "\tdef printList(self):\n",
    "\t\ttemp = self.head\n",
    "\t\twhile(temp):\n",
    "\t\t\tprint (temp.data,end=\" \")\n",
    "\t\t\ttemp = temp.next\n",
    "\n",
    "\tdef skipMdeleteN(self, M, N):\n",
    "\t\tcurr = self.head\n",
    "\t\t\n",
    "\t\t# The main loop that traverses through the\n",
    "\t\t# whole list\n",
    "\t\twhile(curr):\n",
    "\t\t\t# Skip M nodes\n",
    "\t\t\tfor count in range(1, M):\n",
    "\t\t\t\tif curr is None:\n",
    "\t\t\t\t\treturn\n",
    "\t\t\t\tcurr = curr.next\n",
    "\t\t\t\t\t\n",
    "\t\t\tif curr is None :\n",
    "\t\t\t\treturn\n",
    "\n",
    "\t\t\t# Start from next node and delete N nodes\n",
    "\t\t\tt = curr.next\n",
    "\t\t\tfor count in range(1, N+1):\n",
    "\t\t\t\tif t is None:\n",
    "\t\t\t\t\tbreak\n",
    "\t\t\t\tt = t.next\n",
    "\t\n",
    "\t\t\t# Link the previous list with remaining nodes\n",
    "\t\t\tcurr.next = t\n",
    "\t\t\t# Set Current pointer for next iteration\n",
    "\t\t\tcurr = t"
   ]
  },
  {
   "cell_type": "code",
   "execution_count": 84,
   "metadata": {},
   "outputs": [
    {
     "name": "stdout",
     "output_type": "stream",
     "text": [
      "1 2 3 4 5 6 7 8 9 10 \n",
      "1 2 6 7 "
     ]
    }
   ],
   "source": [
    "llist = LinkedList()\n",
    "M = 2\n",
    "N = 3\n",
    "llist.push(10)\n",
    "llist.push(9)\n",
    "llist.push(8)\n",
    "llist.push(7)\n",
    "llist.push(6)\n",
    "llist.push(5)\n",
    "llist.push(4)\n",
    "llist.push(3)\n",
    "llist.push(2)\n",
    "llist.push(1)\n",
    "\n",
    "llist.printList()\n",
    "print()\n",
    "\n",
    "llist.skipMdeleteN(M, N)\n",
    "llist.printList()\n"
   ]
  },
  {
   "cell_type": "code",
   "execution_count": null,
   "metadata": {},
   "outputs": [],
   "source": [
    "'''\n",
    "T.C = O(N)\n",
    "S.C = O(1)\n",
    "'''"
   ]
  },
  {
   "attachments": {},
   "cell_type": "markdown",
   "metadata": {},
   "source": [
    "QUESTION 7"
   ]
  },
  {
   "cell_type": "code",
   "execution_count": null,
   "metadata": {},
   "outputs": [],
   "source": [
    "'''\n",
    "**Question 7**\n",
    "\n",
    "Given two linked lists, insert nodes of second list into first list at alternate positions of first list.\n",
    "For example, if first list is 5->7->17->13->11 and second is 12->10->2->4->6, \n",
    "the first list should become 5->12->7->10->17->2->13->4->11->6 and second list should become empty. \n",
    "The nodes of second list should only be inserted when there are positions available. \n",
    "For example, if the first list is 1->2->3 and second list is 4->5->6->7->8, \n",
    "then first list should become 1->4->2->5->3->6 and second list to 7->8.\n",
    "\n",
    "Use of extra space is not allowed (Not allowed to create additional nodes), i.e., insertion must be done in-place. \n",
    "Expected time complexity is O(n) where n is number of nodes in first list.\n",
    "'''"
   ]
  },
  {
   "cell_type": "code",
   "execution_count": 86,
   "metadata": {},
   "outputs": [],
   "source": [
    "# Python program to merge a linked list into another at\n",
    "# alternate positions\n",
    "\n",
    "class Node(object):\n",
    "\tdef __init__(self, data:int):\n",
    "\t\tself.data = data\n",
    "\t\tself.next = None\n",
    "\n",
    "\n",
    "class LinkedList(object):\n",
    "\tdef __init__(self):\n",
    "\t\tself.head = None\n",
    "\t\t\n",
    "\tdef push(self, new_data:int):\n",
    "\t\tnew_node = Node(new_data)\n",
    "\t\tnew_node.next = self.head\n",
    "\t\t# 4. Move the head to point to new Node\n",
    "\t\tself.head = new_node\n",
    "\t\t\n",
    "\t# Function to print linked list from the Head\n",
    "\tdef printList(self):\n",
    "\t\ttemp = self.head\n",
    "\t\twhile temp != None:\n",
    "\t\t\tprint(temp.data)\n",
    "\t\t\ttemp = temp.next\n",
    "\t\t\t\n",
    "\t# Main function that inserts nodes of linked list q into p at alternate positions.\n",
    "\t# Since head of first list never changes\n",
    "\t# but head of second list/ may change,\n",
    "\t# we need single pointer for first list and double pointer for second list.\n",
    "\tdef merge(self, p, q):\n",
    "\t\tp_curr = p.head\n",
    "\t\tq_curr = q.head\n",
    "\n",
    "\t\t# swap their positions until one finishes off\n",
    "\t\twhile p_curr != None and q_curr != None:\n",
    "\n",
    "\t\t\t# Save next pointers\n",
    "\t\t\tp_next = p_curr.next\n",
    "\t\t\tq_next = q_curr.next\n",
    "\n",
    "\t\t\t# make q_curr as next of p_curr\n",
    "\t\t\tq_curr.next = p_next # change next pointer of q_curr\n",
    "\t\t\tp_curr.next = q_curr # change next pointer of p_curr\n",
    "\n",
    "\t\t\t# update current pointers for next iteration\n",
    "\t\t\tp_curr = p_next\n",
    "\t\t\tq_curr = q_next\n",
    "\t\t\tq.head = q_curr\n"
   ]
  },
  {
   "cell_type": "code",
   "execution_count": 88,
   "metadata": {},
   "outputs": [
    {
     "name": "stdout",
     "output_type": "stream",
     "text": [
      "First Linked List:\n",
      "11\n",
      "13\n",
      "17\n",
      "7\n",
      "5\n",
      "Second Linked List:\n",
      "6\n",
      "4\n",
      "2\n",
      "10\n",
      "12\n",
      "Modified first linked list:\n",
      "11\n",
      "6\n",
      "13\n",
      "4\n",
      "17\n",
      "2\n",
      "7\n",
      "10\n",
      "5\n",
      "12\n",
      "Modified second linked list:\n"
     ]
    }
   ],
   "source": [
    "llist1 = LinkedList()\n",
    "llist2 = LinkedList()\n",
    "\n",
    "llist1.push(5)\n",
    "llist1.push(7)\n",
    "llist1.push(17)\n",
    "llist1.push(13)\n",
    "llist1.push(11)\n",
    "\n",
    "\n",
    "llist2.push(12)\n",
    "llist2.push(10)\n",
    "llist2.push(2)\n",
    "llist2.push(4)\n",
    "llist2.push(6)\n",
    "\n",
    "\n",
    "print(\"First Linked List:\")\n",
    "llist1.printList()\n",
    "\n",
    "print(\"Second Linked List:\")\n",
    "llist2.printList()\n",
    "\n",
    "# Merging the LLs\n",
    "llist1.merge(p=llist1, q=llist2)\n",
    "\n",
    "print(\"Modified first linked list:\")\n",
    "llist1.printList()\n",
    "\n",
    "print(\"Modified second linked list:\")\n",
    "llist2.printList()"
   ]
  },
  {
   "cell_type": "code",
   "execution_count": null,
   "metadata": {},
   "outputs": [],
   "source": [
    "'''\n",
    "T.C = O(min(n1, n2))\n",
    "S.C = O(1)\n",
    "'''"
   ]
  },
  {
   "attachments": {},
   "cell_type": "markdown",
   "metadata": {},
   "source": [
    "QUESTION 8"
   ]
  },
  {
   "cell_type": "code",
   "execution_count": null,
   "metadata": {},
   "outputs": [],
   "source": [
    "'''\n",
    "**Question 8**\n",
    "\n",
    "Given a singly linked list, find if the linked list is [circular]\n",
    "(https://www.geeksforgeeks.org/circular-linked-list/amp/) or not.\n",
    "\n",
    "A linked list is called circular if it is not NULL-terminated and all nodes \n",
    "are connected in the form of a cycle. Below is an example of a circular linked list.\n",
    "'''"
   ]
  },
  {
   "cell_type": "code",
   "execution_count": 89,
   "metadata": {},
   "outputs": [],
   "source": [
    "class Node:\n",
    "\tdef __init__(self, data):\n",
    "\t\tself.data = data\n",
    "\t\tself.next = None\n",
    "\n",
    "class LinkedList:\n",
    "\tdef __init__(self):\n",
    "\t\tself.head = None\n",
    "\n",
    "\tdef add_to_front(self, data):\n",
    "\t\tnew_node = Node(data)\n",
    "\t\tnew_node.next = self.head\n",
    "\t\tself.head = new_node\n",
    "\n",
    "\tdef is_circular(self):\n",
    "\t\tif self.head is None:\n",
    "\t\t\treturn False\n",
    "\t\tslow = self.head\n",
    "\t\tfast = self.head.next\n",
    "\t\twhile fast is not None and fast.next is not None:\n",
    "\t\t\tif slow == fast:\n",
    "\t\t\t\treturn True\n",
    "\t\t\tslow = slow.next\n",
    "\t\t\tfast = fast.next.next\n",
    "\t\treturn False"
   ]
  },
  {
   "cell_type": "code",
   "execution_count": 90,
   "metadata": {},
   "outputs": [
    {
     "name": "stdout",
     "output_type": "stream",
     "text": [
      "False\n"
     ]
    }
   ],
   "source": [
    "\n",
    "list = LinkedList()\n",
    "list.add_to_front(1)\n",
    "list.add_to_front(2)\n",
    "list.add_to_front(3)\n",
    "list.add_to_front(4)\n",
    "print(list.is_circular())"
   ]
  },
  {
   "cell_type": "code",
   "execution_count": null,
   "metadata": {},
   "outputs": [],
   "source": [
    "'''\n",
    "T.C = O(min(n1, n2))\n",
    "S.C = O(1)\n",
    "'''"
   ]
  },
  {
   "cell_type": "code",
   "execution_count": null,
   "metadata": {},
   "outputs": [],
   "source": []
  },
  {
   "cell_type": "code",
   "execution_count": null,
   "metadata": {},
   "outputs": [],
   "source": []
  }
 ],
 "metadata": {
  "kernelspec": {
   "display_name": "gendev",
   "language": "python",
   "name": "python3"
  },
  "language_info": {
   "codemirror_mode": {
    "name": "ipython",
    "version": 3
   },
   "file_extension": ".py",
   "mimetype": "text/x-python",
   "name": "python",
   "nbconvert_exporter": "python",
   "pygments_lexer": "ipython3",
   "version": "3.8.13"
  },
  "orig_nbformat": 4
 },
 "nbformat": 4,
 "nbformat_minor": 2
}
