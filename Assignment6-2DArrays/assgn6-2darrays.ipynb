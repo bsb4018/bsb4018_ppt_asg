{
 "cells": [
  {
   "attachments": {},
   "cell_type": "markdown",
   "metadata": {},
   "source": [
    "QUESTION 1"
   ]
  },
  {
   "cell_type": "code",
   "execution_count": null,
   "metadata": {},
   "outputs": [],
   "source": [
    "'''\n",
    "**Question 1**\n",
    "A permutation perm of n + 1 integers of all the integers in the range [0, n] can be represented as a \n",
    "string s of length n where:\n",
    "- s[i] == 'I' if perm[i] < perm[i + 1], and\n",
    "- s[i] == 'D' if perm[i] > perm[i + 1].\n",
    "Given a string s, reconstruct the permutation perm and return it. \n",
    "If there are multiple valid permutations perm, return **any of them**.\n",
    "**Example 1:**\n",
    "**Input:** s = \"IDID\"\n",
    "**Output:**\n",
    "[0,4,1,3,2]\n",
    "'''"
   ]
  },
  {
   "cell_type": "code",
   "execution_count": 1,
   "metadata": {},
   "outputs": [],
   "source": [
    "def strperm(s):\n",
    "    permutation = [] #store the permutation\n",
    "    left = 0    \n",
    "    right = len(s)\n",
    "\n",
    "    for ch in s:\n",
    "        if ch == 'I':\n",
    "            permutation.append(left) #smaller value\n",
    "            left += 1\n",
    "\n",
    "        if ch == 'D': \n",
    "            permutation.append(right) #higher value\n",
    "            right -= 1\n",
    "\n",
    "    \n",
    "    permutation.append(left) #remaining smaller value\n",
    "    \n",
    "    return permutation"
   ]
  },
  {
   "cell_type": "code",
   "execution_count": 2,
   "metadata": {},
   "outputs": [
    {
     "name": "stdout",
     "output_type": "stream",
     "text": [
      "[0, 4, 1, 3, 2]\n"
     ]
    }
   ],
   "source": [
    "s = \"IDID\"\n",
    "print(strperm(s))"
   ]
  },
  {
   "cell_type": "code",
   "execution_count": null,
   "metadata": {},
   "outputs": [],
   "source": [
    "'''\n",
    "T.C = O(N)\n",
    "S.C = O(1)\n",
    "'''"
   ]
  },
  {
   "attachments": {},
   "cell_type": "markdown",
   "metadata": {},
   "source": [
    "QUESTION 2"
   ]
  },
  {
   "cell_type": "code",
   "execution_count": null,
   "metadata": {},
   "outputs": [],
   "source": [
    "'''\n",
    "**Question 2**\n",
    "You are given an m x n integer matrix matrix with the following two properties:\n",
    "- Each row is sorted in non-decreasing order.\n",
    "- The first integer of each row is greater than the last integer of the previous row.\n",
    "Given an integer target, return true *if* target *is in* matrix *or* false *otherwise*.\n",
    "You must write a solution in O(log(m * n)) time complexity.\n",
    "**Example 1:**\n",
    "**Input:** matrix = [[1,3,5,7],[10,11,16,20],[23,30,34,60]], target = 3\n",
    "**Output:** true\n",
    "'''"
   ]
  },
  {
   "cell_type": "code",
   "execution_count": 3,
   "metadata": {},
   "outputs": [],
   "source": [
    "def searsortmatrix(matrix,target):\n",
    "    row=len(matrix)\n",
    "    col=len(matrix[0])\n",
    "    r = 0\n",
    "    c = col-1\n",
    "\n",
    "    while r<row and c>=0: #we start first row last column\n",
    "        current = matrix[r][c]\n",
    "        if current == target: #found element\n",
    "            return True\n",
    "        elif current < target: #no possibility to find in current row\n",
    "            r += 1 #move next row\n",
    "        elif current > target: #no possibility to find in current column\n",
    "            c -= 1 #move previous column\n",
    "        \n",
    "    return False"
   ]
  },
  {
   "cell_type": "code",
   "execution_count": 4,
   "metadata": {},
   "outputs": [
    {
     "name": "stdout",
     "output_type": "stream",
     "text": [
      "True\n"
     ]
    }
   ],
   "source": [
    "matrix = [[1,3,5,7],[10,11,16,20],[23,30,34,60]]\n",
    "target = 3\n",
    "print(searsortmatrix(matrix,target))"
   ]
  },
  {
   "cell_type": "code",
   "execution_count": null,
   "metadata": {},
   "outputs": [],
   "source": [
    "'''\n",
    "T.C = O(log(m * n))\n",
    "S.C = O(1)\n",
    "'''"
   ]
  },
  {
   "attachments": {},
   "cell_type": "markdown",
   "metadata": {},
   "source": [
    "QUESTION 3"
   ]
  },
  {
   "cell_type": "code",
   "execution_count": null,
   "metadata": {},
   "outputs": [],
   "source": [
    "'''\n",
    "**Question 3**\n",
    "Given an array of integers arr, return *true if and only if it is a valid mountain array*.\n",
    "Recall that arr is a mountain array if and only if:\n",
    "- arr.length >= 3\n",
    "- There exists some i with 0 < i < arr.length - 1 such that:\n",
    "    - arr[0] < arr[1] < ... < arr[i - 1] < arr[i]\n",
    "    - arr[i] > arr[i + 1] > ... > arr[arr.length - 1]\n",
    "**Example 1:**\n",
    "**Input:** arr = [2,1]\n",
    "**Output:**\n",
    "false\n",
    "'''"
   ]
  },
  {
   "cell_type": "code",
   "execution_count": 6,
   "metadata": {},
   "outputs": [],
   "source": [
    "def validmountain(arr):\n",
    "    n = len(arr)\n",
    "    i = 0\n",
    "\n",
    "    #walk up the mountain strictly\n",
    "    while i+1 < n and arr[i] < arr[i+1]:\n",
    "        i += 1\n",
    "\n",
    "    #we reached last or are still at first means we are at a peak but peak can't be first / last\n",
    "    if i == 0 or i == n-1:\n",
    "        return False\n",
    "\n",
    "    #walk down the mountain strictly\n",
    "    while i+1 < n and arr[i] > arr[i+1]:\n",
    "        i += 1\n",
    "\n",
    "    #successfully reached end hence proper mountain found\n",
    "    if i == n-1:\n",
    "        return True\n",
    "    else:\n",
    "        return False"
   ]
  },
  {
   "cell_type": "code",
   "execution_count": 7,
   "metadata": {},
   "outputs": [
    {
     "name": "stdout",
     "output_type": "stream",
     "text": [
      "False\n"
     ]
    }
   ],
   "source": [
    "arr = [2,1]\n",
    "print(validmountain(arr))"
   ]
  },
  {
   "cell_type": "code",
   "execution_count": null,
   "metadata": {},
   "outputs": [],
   "source": [
    "'''\n",
    "T.C = O(N)\n",
    "S.C = O(1)\n",
    "'''"
   ]
  },
  {
   "attachments": {},
   "cell_type": "markdown",
   "metadata": {},
   "source": [
    "QUESTION 4"
   ]
  },
  {
   "cell_type": "code",
   "execution_count": null,
   "metadata": {},
   "outputs": [],
   "source": [
    "'''\n",
    "**Question 4**\n",
    "Given a binary array nums, return *the maximum length of a contiguous subarray with an equal number of* 0 *and* 1.\n",
    "**Example 1:**\n",
    "**Input:** nums = [0,1]\n",
    "**Output:** 2\n",
    "**Explanation:**\n",
    "[0, 1] is the longest contiguous subarray with an equal number of 0 and 1.\n",
    "'''"
   ]
  },
  {
   "cell_type": "code",
   "execution_count": 8,
   "metadata": {},
   "outputs": [],
   "source": [
    "def binarraysum(nums):\n",
    "    d = dict() #store all the difference count\n",
    "    curr = 0 #store difference of 0s and 1s\n",
    "    ans = 0\n",
    "    for i in range(len(nums)):\n",
    "\n",
    "        if nums[i] == 1:\n",
    "            curr += 1 #add one to count if element is 1\n",
    "        else:\n",
    "            curr -= 1 #decrement one to count if element is 0\n",
    "            \n",
    "        if curr == 0: #current subarray has equal zero and ones\n",
    "            ans = max(ans, i+1)\n",
    "            \n",
    "        if curr in d: #if count is already seen\n",
    "            ans = max(ans, i-d[curr])\n",
    "        else:\n",
    "            d[curr] = i\n",
    "        \n",
    "    return ans"
   ]
  },
  {
   "cell_type": "code",
   "execution_count": 9,
   "metadata": {},
   "outputs": [
    {
     "name": "stdout",
     "output_type": "stream",
     "text": [
      "2\n"
     ]
    }
   ],
   "source": [
    "nums = [0,1]\n",
    "print(binarraysum(nums))"
   ]
  },
  {
   "cell_type": "code",
   "execution_count": null,
   "metadata": {},
   "outputs": [],
   "source": [
    "'''\n",
    "T.C = O(N)\n",
    "S.C = O(N)\n",
    "'''"
   ]
  },
  {
   "attachments": {},
   "cell_type": "markdown",
   "metadata": {},
   "source": [
    "QUESTION 5"
   ]
  },
  {
   "cell_type": "code",
   "execution_count": null,
   "metadata": {},
   "outputs": [],
   "source": [
    "'''\n",
    "**Question 5**\n",
    "The **product sum** of two equal-length arrays a and b is equal to the sum of a[i] * b[i] for \n",
    "all 0 <= i < a.length (**0-indexed**).\n",
    "- For example, if a = [1,2,3,4] and b = [5,2,3,1], the **product sum** would be 1*5 + 2*2 + 3*3 + 4*1 = 22.\n",
    "Given two arrays nums1 and nums2 of length n, return *the **minimum product sum** if you are allowed to \n",
    "**rearrange** the **order** of the elements in* nums1.\n",
    "**Example 1:**\n",
    "**Input:** nums1 = [5,3,4,2], nums2 = [4,2,2,5]\n",
    "**Output:** 40\n",
    "**Explanation:**\n",
    "We can rearrange nums1 to become [3,5,4,2]. The product sum of [3,5,4,2] and [4,2,2,5] is 3*4 + 5*2 + 4*2 + 2*5 = 40.\n",
    "'''"
   ]
  },
  {
   "cell_type": "code",
   "execution_count": 5,
   "metadata": {},
   "outputs": [],
   "source": [
    "def minimizeproductsum(nums1,nums2):\n",
    "    \n",
    "    # any product sum obtained from reordering both arrays can also be obtained \n",
    "    # from only reordering one array so we can sort both the arrays by concept\n",
    "    nums1.sort()\n",
    "    nums2.sort()\n",
    "    res = 0\n",
    "    n = len(nums1)\n",
    "    \n",
    "    for i in range(n):\n",
    "        res += nums1[i] * nums2[n - i - 1]\n",
    "    \n",
    "    return res"
   ]
  },
  {
   "cell_type": "code",
   "execution_count": 6,
   "metadata": {},
   "outputs": [
    {
     "name": "stdout",
     "output_type": "stream",
     "text": [
      "40\n"
     ]
    }
   ],
   "source": [
    "nums1 = [5,3,4,2]\n",
    "nums2 = [4,2,2,5]\n",
    "print(minimizeproductsum(nums1,nums2))"
   ]
  },
  {
   "cell_type": "code",
   "execution_count": null,
   "metadata": {},
   "outputs": [],
   "source": [
    "'''\n",
    "T.C = O(N) where N is the size of array nums1\n",
    "S.C = O(1)\n",
    "'''"
   ]
  },
  {
   "attachments": {},
   "cell_type": "markdown",
   "metadata": {},
   "source": [
    "QUESTION 6"
   ]
  },
  {
   "cell_type": "code",
   "execution_count": null,
   "metadata": {},
   "outputs": [],
   "source": [
    "'''\n",
    "**Question 6**\n",
    "An integer array original is transformed into a **doubled** array changed by appending **twice the value** \n",
    "of every element in original, and then randomly **shuffling** the resulting array.\n",
    "Given an array changed, return original *if* changed *is a **doubled** array. \n",
    "If* changed *is not a **doubled** array, return an empty array. The elements in* original *may be \n",
    "returned in **any** order*.\n",
    "**Example 1:**\n",
    "**Input:** changed = [1,3,4,2,6,8]\n",
    "**Output:** [1,3,4]\n",
    "**Explanation:** One possible original array could be [1,3,4]:\n",
    "- Twice the value of 1 is 1 * 2 = 2.\n",
    "- Twice the value of 3 is 3 * 2 = 6.\n",
    "- Twice the value of 4 is 4 * 2 = 8.\n",
    "Other original arrays could be [4,3,1] or [3,1,4].\n",
    "'''"
   ]
  },
  {
   "cell_type": "code",
   "execution_count": 7,
   "metadata": {},
   "outputs": [],
   "source": [
    "from collections import deque\n",
    "def doubletosingle(changed):\n",
    "    changed.sort() # sorting to get the order of elements\n",
    "    que=deque([]) # we store the doubles here\n",
    "    output=[]\n",
    "        \n",
    "    for i in changed:\n",
    "        if que and que[0]==i: #double encountered\n",
    "            que.popleft()\n",
    "        else:\n",
    "            que.append(i*2) #put the double in queue\n",
    "            output.append(i) #append i cause thats the double/2 value\n",
    "    \n",
    "    if que: \n",
    "        return []\n",
    "        \n",
    "    return output"
   ]
  },
  {
   "cell_type": "code",
   "execution_count": 8,
   "metadata": {},
   "outputs": [
    {
     "name": "stdout",
     "output_type": "stream",
     "text": [
      "[1, 3, 4]\n"
     ]
    }
   ],
   "source": [
    "changed = [1,3,4,2,6,8]\n",
    "print(doubletosingle(changed))"
   ]
  },
  {
   "cell_type": "code",
   "execution_count": null,
   "metadata": {},
   "outputs": [],
   "source": [
    "'''\n",
    "T.C = O(NlogN)\n",
    "S.C = O(N)\n",
    "'''"
   ]
  },
  {
   "attachments": {},
   "cell_type": "markdown",
   "metadata": {},
   "source": [
    "QUESTION 7"
   ]
  },
  {
   "cell_type": "code",
   "execution_count": null,
   "metadata": {},
   "outputs": [],
   "source": [
    "'''\n",
    "**Question 7**\n",
    "Given a positive integer n, generate an n x n matrix filled with elements from 1 to n2 in spiral order.\n",
    "**Example 1:**\n",
    "**Input:** n = 3\n",
    "**Output:** [[1,2,3],[8,9,4],[7,6,5]]\n",
    "'''"
   ]
  },
  {
   "cell_type": "code",
   "execution_count": 9,
   "metadata": {},
   "outputs": [],
   "source": [
    "def matrixgen(n):\n",
    "    top = 0\n",
    "    left = 0\n",
    "    right = n-1\n",
    "    bottom = n-1\n",
    "    i = 0\n",
    "    res = [[0]*n for _ in range(n)]\n",
    "\n",
    "    while left <= right and top <= bottom:\n",
    "            \n",
    "        #traverse from left to right\n",
    "        for c in range(left, right+1):\n",
    "            i += 1\n",
    "            res[top][c] = i\n",
    "            \n",
    "        #traverse from top to bottom\n",
    "        for r in range(top+1, bottom+1):\n",
    "            i+= 1\n",
    "            res[r][right] = i\n",
    "            \n",
    "        #traverse from right to left\n",
    "        for c in range(right-1, left-1, -1):\n",
    "            i+= 1\n",
    "            res[bottom][c] = i\n",
    "\n",
    "        #traverse from bottom to top    \n",
    "        for r in range(bottom-1, top, -1):\n",
    "            i+= 1\n",
    "            res[r][left] = i\n",
    "                \n",
    "        top += 1\n",
    "        left += 1\n",
    "        bottom -= 1\n",
    "        right -= 1\n",
    "        \n",
    "    return res"
   ]
  },
  {
   "cell_type": "code",
   "execution_count": 10,
   "metadata": {},
   "outputs": [
    {
     "name": "stdout",
     "output_type": "stream",
     "text": [
      "[[1, 2, 3], [8, 9, 4], [7, 6, 5]]\n"
     ]
    }
   ],
   "source": [
    "n = 3\n",
    "print(matrixgen(n))"
   ]
  },
  {
   "cell_type": "code",
   "execution_count": null,
   "metadata": {},
   "outputs": [],
   "source": [
    "'''\n",
    "T.C = O(N^2)\n",
    "S.C = O(1)\n",
    "'''\n",
    "pass"
   ]
  },
  {
   "attachments": {},
   "cell_type": "markdown",
   "metadata": {},
   "source": [
    "QUESTION 8"
   ]
  },
  {
   "cell_type": "code",
   "execution_count": null,
   "metadata": {},
   "outputs": [],
   "source": [
    "'''\n",
    "**Question 8**\n",
    "Given two [sparse matrices](https://en.wikipedia.org/wiki/Sparse_matrix) \n",
    "mat1 of size m x k and mat2 of size k x n, return the result of mat1 x mat2. \n",
    "You may assume that multiplication is always possible.\n",
    "**Example 1:**\n",
    "**Input:** mat1 = [[1,0,0],[-1,0,3]], mat2 = [[7,0,0],[0,0,0],[0,0,1]]\n",
    "**Output:**\n",
    "[[7,0,0],[-7,0,3]]\n",
    "'''"
   ]
  },
  {
   "cell_type": "code",
   "execution_count": 11,
   "metadata": {},
   "outputs": [],
   "source": [
    "def matmul(mat1,mat2):\n",
    "    m = len(mat1)\n",
    "    n = len(mat2)\n",
    "    l = len(mat2[0])\n",
    "    ans = [[0] * l for _ in range(m)]\n",
    "\n",
    "    for i in range(m):\n",
    "      for j in range(l):\n",
    "        for k in range(n):\n",
    "          ans[i][j] += mat1[i][k] * mat2[k][j]\n",
    "\n",
    "    return ans"
   ]
  },
  {
   "cell_type": "code",
   "execution_count": 12,
   "metadata": {},
   "outputs": [
    {
     "name": "stdout",
     "output_type": "stream",
     "text": [
      "[[7, 0, 0], [-7, 0, 3]]\n"
     ]
    }
   ],
   "source": [
    "mat1 = [[1,0,0],[-1,0,3]]\n",
    "mat2 = [[7,0,0],[0,0,0],[0,0,1]]\n",
    "print(matmul(mat1,mat2))"
   ]
  },
  {
   "cell_type": "code",
   "execution_count": null,
   "metadata": {},
   "outputs": [],
   "source": [
    "'''\n",
    "T.C = O(mnl) , where m = length of matrix mat1, n = length of matrix mat2, l = number of elements in one row of mat1\n",
    "S.C = O(nl)\n",
    "'''\n",
    "pass"
   ]
  },
  {
   "cell_type": "code",
   "execution_count": null,
   "metadata": {},
   "outputs": [],
   "source": []
  },
  {
   "cell_type": "code",
   "execution_count": null,
   "metadata": {},
   "outputs": [],
   "source": []
  },
  {
   "cell_type": "code",
   "execution_count": null,
   "metadata": {},
   "outputs": [],
   "source": []
  },
  {
   "cell_type": "code",
   "execution_count": null,
   "metadata": {},
   "outputs": [],
   "source": []
  }
 ],
 "metadata": {
  "kernelspec": {
   "display_name": "gendev",
   "language": "python",
   "name": "python3"
  },
  "language_info": {
   "codemirror_mode": {
    "name": "ipython",
    "version": 3
   },
   "file_extension": ".py",
   "mimetype": "text/x-python",
   "name": "python",
   "nbconvert_exporter": "python",
   "pygments_lexer": "ipython3",
   "version": "3.8.13"
  },
  "orig_nbformat": 4
 },
 "nbformat": 4,
 "nbformat_minor": 2
}
