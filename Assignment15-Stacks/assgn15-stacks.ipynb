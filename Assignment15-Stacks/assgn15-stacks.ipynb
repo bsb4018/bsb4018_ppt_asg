{
 "cells": [
  {
   "cell_type": "code",
   "execution_count": null,
   "metadata": {},
   "outputs": [],
   "source": []
  },
  {
   "cell_type": "markdown",
   "metadata": {},
   "source": [
    "QUESTION 1"
   ]
  },
  {
   "cell_type": "code",
   "execution_count": null,
   "metadata": {},
   "outputs": [],
   "source": [
    "'''\n",
    "Question 1\n",
    "\n",
    "Given an array arr[ ] of size N having elements, the task is to find the next greater element \n",
    "for each element of the array in order of their appearance in the array.Next greater element of an \n",
    "element in the array is the nearest element on the right which is greater than the current element.\n",
    "If there does not exist next greater of current element, then next greater element for current element\n",
    "is -1. For example, next greater of the last element is always -1.\n",
    "\n",
    "Example 1:\n",
    "\n",
    "```\n",
    "Input:\n",
    "N = 4, arr[] = [1 3 2 4]\n",
    "Output:\n",
    "3 4 4 -1\n",
    "Explanation:\n",
    "In the array, the next larger element\n",
    "to 1 is 3 , 3 is 4 , 2 is 4 and for 4 ?\n",
    "since it doesn't exist, it is -1.\n",
    "\n",
    "```\n",
    "Example 2:\n",
    "Input:\n",
    "N = 5, arr[] [6 8 0 1 3]\n",
    "Output:\n",
    "8 -1 1 3 -1\n",
    "Explanation:\n",
    "In the array, the next larger element to\n",
    "6 is 8, for 8 there is no larger elements\n",
    "hence it is -1, for 0 it is 1 , for 1 it\n",
    "is 3 and then for 3 there is no larger\n",
    "element on right and hence -1.\n",
    "'''"
   ]
  },
  {
   "cell_type": "code",
   "execution_count": 3,
   "metadata": {},
   "outputs": [
    {
     "name": "stdout",
     "output_type": "stream",
     "text": [
      "[8, -1, 1, 3, -1]\n"
     ]
    }
   ],
   "source": [
    "def nextLargerElement(arr,n):\n",
    "\n",
    "    mylist = []\n",
    "    stack = []\n",
    "    for i in range(n-1,-1,-1):\n",
    "        while(len(stack)>0 and stack[len(stack)-1]<=arr[i]):\n",
    "            stack.pop()\n",
    "        if(len(stack)==0):\n",
    "            mylist.append(-1)\n",
    "        else:\n",
    "            mylist.append(stack[len(stack)-1])\n",
    "        stack.append(arr[i])\n",
    "    return mylist[::-1]\n",
    "\n",
    "arr = [6,8,0,1,3]\n",
    "print(nextLargerElement(arr,len(arr)))"
   ]
  },
  {
   "cell_type": "code",
   "execution_count": null,
   "metadata": {},
   "outputs": [],
   "source": [
    "'''\n",
    "T.C = O(N^2)\n",
    "S.C = O(N)\n",
    "'''"
   ]
  },
  {
   "cell_type": "markdown",
   "metadata": {},
   "source": [
    "QUESTION 2"
   ]
  },
  {
   "cell_type": "code",
   "execution_count": null,
   "metadata": {},
   "outputs": [],
   "source": [
    "'''\n",
    "Question 2\n",
    "\n",
    "Given an array a of integers of length n, find the nearest smaller number for every element such that the \n",
    "smaller element is on left side. If no small element present on the left print -1.\n",
    "\n",
    "Example 1:\n",
    "\n",
    "```\n",
    "Input: n = 3\n",
    "a = {1, 6, 2}\n",
    "Output: -1 1 1\n",
    "Explaination: There is no number at the\n",
    "left of 1. Smaller number than 6 and 2 is 1.\n",
    "```\n",
    "Example 2:\n",
    "Input: n = 6\n",
    "a = {1, 5, 0, 3, 4, 5}\n",
    "Output: -1 1 -1 0 3 4\n",
    "Explaination: Upto 3 it is easy to see\n",
    "the smaller numbers. But for 4 the smaller\n",
    "numbers are 1, 0 and 3. But among them 3\n",
    "is closest. Similary for 5 it is 4.\n",
    "'''"
   ]
  },
  {
   "cell_type": "code",
   "execution_count": 6,
   "metadata": {},
   "outputs": [
    {
     "name": "stdout",
     "output_type": "stream",
     "text": [
      "[-1, 1, -1, 0, 3, 4]\n"
     ]
    }
   ],
   "source": [
    "def leftSmaller(a,n):        \n",
    "    res = []\n",
    "    st = []\n",
    "    res.append(-1)\n",
    "    st.append(a[0])\n",
    "        \n",
    "    for i in range(1,n):\n",
    "        top = len(st)\n",
    "        while top > 0:\n",
    "            var = False\n",
    "            if a[i] > st[top-1]:\n",
    "                res.append(st[top-1])\n",
    "                st.append(a[i])\n",
    "                var = True\n",
    "                break\n",
    "            else:\n",
    "                top -= 1\n",
    "            \n",
    "        if var == False:\n",
    "            res.append(-1)\n",
    "            st.append(a[i])\n",
    "        \n",
    "    return res\n",
    "\n",
    "arr = [1,5,0,3,4,5]\n",
    "print(leftSmaller(arr,len(arr)))"
   ]
  },
  {
   "cell_type": "code",
   "execution_count": null,
   "metadata": {},
   "outputs": [],
   "source": [
    "'''\n",
    "T.C = O(N^2)\n",
    "S.C = O(N)\n",
    "'''"
   ]
  },
  {
   "cell_type": "markdown",
   "metadata": {},
   "source": [
    "QUESTION 3"
   ]
  },
  {
   "cell_type": "code",
   "execution_count": null,
   "metadata": {},
   "outputs": [],
   "source": [
    "'''\n",
    "Question 3\n",
    "\n",
    "Implement a Stack using two queues q1 and q2.\n",
    "\n",
    "Example 1:\n",
    "Input:\n",
    "push(2)\n",
    "push(3)\n",
    "pop()\n",
    "push(4)\n",
    "pop()\n",
    "Output:3 4\n",
    "Explanation:\n",
    "push(2) the stack will be {2}\n",
    "push(3) the stack will be {2 3}\n",
    "pop()   poped element will be 3 the\n",
    "        stack will be {2}\n",
    "push(4) the stack will be {2 4}\n",
    "pop() poped element will be 4\n",
    "\n",
    "'''"
   ]
  },
  {
   "cell_type": "code",
   "execution_count": null,
   "metadata": {},
   "outputs": [],
   "source": [
    "#Function to push an element into stack using two queues.\n",
    "def push(x):\n",
    "    \n",
    "    # global declaration\n",
    "    global queue_1\n",
    "    global queue_2\n",
    "    \n",
    "    queue_1.append(x)\n",
    "\n",
    "\n",
    "#Function to pop an element from stack using two queues.     \n",
    "def pop():\n",
    "    \n",
    "    # global declaration\n",
    "    global queue_1\n",
    "    global queue_2\n",
    "    \n",
    "    res = -1\n",
    "       \n",
    "    if len(queue_1) == 0:\n",
    "        return -1\n",
    "       \n",
    "    while len(queue_1) > 1:\n",
    "        top = queue_1[0]\n",
    "        queue_1.pop(0)\n",
    "        queue_2.append(top)\n",
    "             \n",
    "    if len(queue_1) == 1:\n",
    "        res = queue_1[0]\n",
    "        queue_1.pop(0)\n",
    "        queue_1, queue_2 = queue_2, queue_1\n",
    "       \n",
    "       \n",
    "    return res"
   ]
  },
  {
   "cell_type": "code",
   "execution_count": null,
   "metadata": {},
   "outputs": [],
   "source": [
    "'''\n",
    "Time Complexity: O(1) for push() and O(N) for pop()\n",
    "Auxiliary Space: O(1) for both push() and pop()\n",
    "'''"
   ]
  },
  {
   "cell_type": "markdown",
   "metadata": {},
   "source": [
    "QUESTION 4"
   ]
  },
  {
   "cell_type": "code",
   "execution_count": null,
   "metadata": {},
   "outputs": [],
   "source": [
    "'''\n",
    "Question 4 \n",
    "\n",
    "You are given a stack_ St . You have to reverse the stack using recursion.\n",
    "\n",
    "Example 1: \n",
    "\n",
    "```\n",
    "Input:St = {3,2,1,7,6}\n",
    "Output:{6,7,1,2,3}\n",
    "```\n",
    "'''"
   ]
  },
  {
   "cell_type": "code",
   "execution_count": 3,
   "metadata": {},
   "outputs": [
    {
     "name": "stdout",
     "output_type": "stream",
     "text": [
      "None\n"
     ]
    }
   ],
   "source": [
    "class Solution:\n",
    "    \n",
    "    def reverse(self,St): \n",
    "        #code here\n",
    "        a = []\n",
    "        while(St):\n",
    "            a.append(St[-1])\n",
    "            St.pop()\n",
    "        for i in a:\n",
    "            St.append(i)\n",
    "        return St\n",
    "        pass"
   ]
  },
  {
   "cell_type": "code",
   "execution_count": null,
   "metadata": {},
   "outputs": [],
   "source": []
  },
  {
   "cell_type": "code",
   "execution_count": null,
   "metadata": {},
   "outputs": [],
   "source": []
  },
  {
   "cell_type": "code",
   "execution_count": null,
   "metadata": {},
   "outputs": [],
   "source": []
  },
  {
   "cell_type": "code",
   "execution_count": null,
   "metadata": {},
   "outputs": [],
   "source": []
  },
  {
   "cell_type": "code",
   "execution_count": null,
   "metadata": {},
   "outputs": [],
   "source": []
  },
  {
   "cell_type": "code",
   "execution_count": null,
   "metadata": {},
   "outputs": [],
   "source": []
  },
  {
   "cell_type": "code",
   "execution_count": null,
   "metadata": {},
   "outputs": [],
   "source": []
  },
  {
   "cell_type": "code",
   "execution_count": null,
   "metadata": {},
   "outputs": [],
   "source": []
  },
  {
   "cell_type": "code",
   "execution_count": null,
   "metadata": {},
   "outputs": [],
   "source": []
  },
  {
   "cell_type": "code",
   "execution_count": null,
   "metadata": {},
   "outputs": [],
   "source": []
  },
  {
   "cell_type": "code",
   "execution_count": null,
   "metadata": {},
   "outputs": [],
   "source": []
  },
  {
   "cell_type": "code",
   "execution_count": null,
   "metadata": {},
   "outputs": [],
   "source": []
  },
  {
   "cell_type": "code",
   "execution_count": null,
   "metadata": {},
   "outputs": [],
   "source": []
  },
  {
   "cell_type": "code",
   "execution_count": null,
   "metadata": {},
   "outputs": [],
   "source": []
  },
  {
   "cell_type": "code",
   "execution_count": null,
   "metadata": {},
   "outputs": [],
   "source": []
  },
  {
   "cell_type": "code",
   "execution_count": null,
   "metadata": {},
   "outputs": [],
   "source": []
  },
  {
   "cell_type": "code",
   "execution_count": null,
   "metadata": {},
   "outputs": [],
   "source": []
  },
  {
   "cell_type": "code",
   "execution_count": null,
   "metadata": {},
   "outputs": [],
   "source": []
  },
  {
   "cell_type": "code",
   "execution_count": null,
   "metadata": {},
   "outputs": [],
   "source": []
  },
  {
   "cell_type": "code",
   "execution_count": null,
   "metadata": {},
   "outputs": [],
   "source": []
  },
  {
   "cell_type": "code",
   "execution_count": null,
   "metadata": {},
   "outputs": [],
   "source": []
  },
  {
   "cell_type": "code",
   "execution_count": null,
   "metadata": {},
   "outputs": [],
   "source": []
  },
  {
   "cell_type": "code",
   "execution_count": null,
   "metadata": {},
   "outputs": [],
   "source": []
  },
  {
   "cell_type": "code",
   "execution_count": null,
   "metadata": {},
   "outputs": [],
   "source": []
  },
  {
   "cell_type": "code",
   "execution_count": null,
   "metadata": {},
   "outputs": [],
   "source": []
  },
  {
   "cell_type": "code",
   "execution_count": null,
   "metadata": {},
   "outputs": [],
   "source": []
  },
  {
   "cell_type": "code",
   "execution_count": null,
   "metadata": {},
   "outputs": [],
   "source": []
  },
  {
   "cell_type": "code",
   "execution_count": null,
   "metadata": {},
   "outputs": [],
   "source": []
  },
  {
   "cell_type": "code",
   "execution_count": null,
   "metadata": {},
   "outputs": [],
   "source": []
  },
  {
   "cell_type": "code",
   "execution_count": null,
   "metadata": {},
   "outputs": [],
   "source": []
  },
  {
   "cell_type": "code",
   "execution_count": null,
   "metadata": {},
   "outputs": [],
   "source": []
  },
  {
   "cell_type": "code",
   "execution_count": null,
   "metadata": {},
   "outputs": [],
   "source": []
  },
  {
   "cell_type": "code",
   "execution_count": null,
   "metadata": {},
   "outputs": [],
   "source": []
  },
  {
   "cell_type": "code",
   "execution_count": null,
   "metadata": {},
   "outputs": [],
   "source": []
  }
 ],
 "metadata": {
  "kernelspec": {
   "display_name": "Python 3",
   "language": "python",
   "name": "python3"
  },
  "language_info": {
   "codemirror_mode": {
    "name": "ipython",
    "version": 3
   },
   "file_extension": ".py",
   "mimetype": "text/x-python",
   "name": "python",
   "nbconvert_exporter": "python",
   "pygments_lexer": "ipython3",
   "version": "3.8.17"
  },
  "orig_nbformat": 4
 },
 "nbformat": 4,
 "nbformat_minor": 2
}
