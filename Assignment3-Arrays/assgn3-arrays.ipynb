{
 "cells": [
  {
   "attachments": {},
   "cell_type": "markdown",
   "metadata": {},
   "source": [
    "QUESTION 1"
   ]
  },
  {
   "cell_type": "code",
   "execution_count": null,
   "metadata": {},
   "outputs": [],
   "source": [
    "'''\n",
    "Question 1\n",
    "Given an integer array nums of length n and an integer target, find three integers\n",
    "in nums such that the sum is closest to the target.\n",
    "Return the sum of the three integers.\n",
    "You may assume that each input would have exactly one solution.\n",
    "Example 1:\n",
    "Input: nums = [-1,2,1,-4], target = 1\n",
    "Output: 2\n",
    "Explanation: The sum that is closest to the target is 2. (-1 + 2 + 1 = 2).\n",
    "'''\n",
    "pass"
   ]
  },
  {
   "cell_type": "code",
   "execution_count": 1,
   "metadata": {},
   "outputs": [],
   "source": [
    "def threeclosest(nums,target):\n",
    "\n",
    "    closest = nums[0] + nums[1] + nums[2]\n",
    "    nums.sort()\n",
    "\n",
    "    #loop till second last position so that we have the last 3 numbers correctly\n",
    "    for i in range(0,len(nums) - 2):\n",
    "        \n",
    "        #fix one number\n",
    "        current_fixed = nums[i]\n",
    "        start = i+1\n",
    "        end = len(nums) - 1\n",
    "        \n",
    "        # use binary search since array is sorted to find the other two numbers that sum to target or are closest to target\n",
    "        while start < end:\n",
    "            current_sum = current_fixed + nums[start] + nums[end]\n",
    "\n",
    "            if current_sum == target: #target itself is found\n",
    "                return current_sum\n",
    "                \n",
    "            current_closest = abs(target - current_sum) #closest found for current combination of three numbers\n",
    "            closest_till_now = abs(target - closest) #closest found for all combinations of three numbers\n",
    "\n",
    "            if current_closest < closest_till_now:\n",
    "                closest = current_sum\n",
    "            \n",
    "\n",
    "            if current_sum < target:\n",
    "                start += 1\n",
    "            else:\n",
    "                end -= 1\n",
    "\n",
    "    return closest\n"
   ]
  },
  {
   "cell_type": "code",
   "execution_count": 2,
   "metadata": {},
   "outputs": [
    {
     "name": "stdout",
     "output_type": "stream",
     "text": [
      "2\n"
     ]
    }
   ],
   "source": [
    "nums = [-1,2,1,-4]\n",
    "target = 1\n",
    "print(threeclosest(nums,target))"
   ]
  },
  {
   "cell_type": "code",
   "execution_count": null,
   "metadata": {},
   "outputs": [],
   "source": [
    "'''\n",
    "T.C  = O(NlogN) for sorting + O(NlogN) for loop and binary search = O(NlogN)\n",
    "S.C = O(1)\n",
    "'''"
   ]
  },
  {
   "attachments": {},
   "cell_type": "markdown",
   "metadata": {},
   "source": [
    "QUESTION 2"
   ]
  },
  {
   "cell_type": "code",
   "execution_count": null,
   "metadata": {},
   "outputs": [],
   "source": [
    "'''\n",
    "Question 2\n",
    "Given an array nums of n integers, return an array of all the unique quadruplets\n",
    "[nums[a], nums[b], nums[c], nums[d]] such that:\n",
    "● 0 <= a, b, c, d < n\n",
    "● a, b, c, and d are distinct.\n",
    "● nums[a] + nums[b] + nums[c] + nums[d] == target\n",
    "You may return the answer in any order.\n",
    "Example 1:\n",
    "Input: nums = [1,0,-1,0,-2,2], target = 0\n",
    "Output: [[-2,-1,1,2],[-2,0,0,2],[-1,0,0,1]]\n",
    "'''"
   ]
  },
  {
   "cell_type": "code",
   "execution_count": 4,
   "metadata": {},
   "outputs": [],
   "source": [
    "def quadruplets(nums,target):\n",
    "    if len(nums)<4:\n",
    "            return []\n",
    "    res = []\n",
    "    nums.sort()\n",
    "\n",
    "    for i in range(len(nums)-1): #fix first element\n",
    "        if i>0 and nums[i] == nums[i-1]:\n",
    "            continue\n",
    "        for j in range(i+1,len(nums)): # fix second element\n",
    "            if j>i+1 and nums[j] == nums[j-1]: #if consecutive elements same then not unique\n",
    "                continue\n",
    "            l = j+1\n",
    "            r = len(nums)-1\n",
    "            while l<r: #bianry search for third element and fourth element\n",
    "                quad_sum = nums[i] + nums[j] + nums[l] + nums[r]\n",
    "                if quad_sum > target:\n",
    "                    r -= 1\n",
    "                elif quad_sum < target:\n",
    "                    l += 1\n",
    "                else:\n",
    "                    res.append([nums[i],nums[j],nums[l],nums[r]])\n",
    "                    l += 1\n",
    "                    while l < r and nums[l] == nums[l-1]:\n",
    "                        l += 1\n",
    "    \n",
    "    return res"
   ]
  },
  {
   "cell_type": "code",
   "execution_count": 5,
   "metadata": {},
   "outputs": [
    {
     "name": "stdout",
     "output_type": "stream",
     "text": [
      "[[-2, -1, 1, 2], [-2, 0, 0, 2], [-1, 0, 0, 1]]\n"
     ]
    }
   ],
   "source": [
    "nums = [1,0,-1,0,-2,2]\n",
    "target = 0\n",
    "print(quadruplets(nums,target))"
   ]
  },
  {
   "cell_type": "code",
   "execution_count": null,
   "metadata": {},
   "outputs": [],
   "source": [
    "'''\n",
    "T.C = O(N^3)\n",
    "S.C = O(N)\n",
    "'''"
   ]
  },
  {
   "attachments": {},
   "cell_type": "markdown",
   "metadata": {},
   "source": [
    "QUESTION 3"
   ]
  },
  {
   "cell_type": "code",
   "execution_count": null,
   "metadata": {},
   "outputs": [],
   "source": [
    "'''\n",
    "Question 3\n",
    "A permutation of an array of integers is an arrangement of its members into a\n",
    "sequence or linear order.\n",
    "● For example, for arr = [1,2,3], the following are all the permutations of arr:\n",
    "[1,2,3], [1,3,2], [2, 1, 3], [2, 3, 1], [3,1,2], [3,2,1].\n",
    "The next permutation of an array of integers is the next lexicographically greater\n",
    "permutation of its integer. More formally, if all the permutations of the array are\n",
    "sorted in one container according to their lexicographical order, then the next\n",
    "permutation of that array is the permutation that follows it in the sorted container.\n",
    "Pre Placement Training Program | iNeuron\n",
    "Assignment 3 Questions - Arrays | DSA\n",
    "If such an arrangement is not possible, the array must be rearranged as the\n",
    "lowest possible order (i.e., sorted in ascending order).\n",
    "● For example, the next permutation of arr = [1,2,3] is [1,3,2].\n",
    "● Similarly, the next permutation of arr = [2,3,1] is [3,1,2].\n",
    "● While the next permutation of arr = [3,2,1] is [1,2,3] because [3,2,1] does not\n",
    "have a lexicographical larger rearrangement.\n",
    "Given an array of integers nums, find the next permutation of nums.\n",
    "The replacement must be in place and use only constant extra memory.\n",
    "Example 1:\n",
    "Input: nums = [1,2,3]\n",
    "Output: [1,3,2]\n",
    "'''\n",
    "pass"
   ]
  },
  {
   "cell_type": "code",
   "execution_count": 1,
   "metadata": {},
   "outputs": [],
   "source": [
    "def permf(nums):\n",
    "        \n",
    "    n = len(nums)\n",
    "        \n",
    "    # Find the break point:\n",
    "    ind = -1 # break point\n",
    "    for i in range(n-2, -1, -1):\n",
    "        if nums[i] < nums[i + 1]:\n",
    "            # index i is the break point\n",
    "            ind = i\n",
    "            break\n",
    "\n",
    "    # If break point does not exist:\n",
    "    if ind == -1:\n",
    "        # reverse the whole array\n",
    "        nums.reverse()\n",
    "        return nums\n",
    "\n",
    "    # Find the next greater element and swap it with arr[ind]:\n",
    "    for i in range(n - 1, ind, -1):\n",
    "        if nums[i] > nums[ind]:\n",
    "            nums[i], nums[ind] = nums[ind], nums[i]\n",
    "            break\n",
    "\n",
    "    # reverse the right half:\n",
    "    nums[ind+1:] = reversed(nums[ind+1:])\n",
    "\n",
    "    return nums"
   ]
  },
  {
   "cell_type": "code",
   "execution_count": 2,
   "metadata": {},
   "outputs": [
    {
     "name": "stdout",
     "output_type": "stream",
     "text": [
      "[1, 3, 2]\n"
     ]
    }
   ],
   "source": [
    "nums = [1,2,3]\n",
    "print(permf(nums))"
   ]
  },
  {
   "cell_type": "code",
   "execution_count": null,
   "metadata": {},
   "outputs": [],
   "source": [
    "'''\n",
    "T.C = O(3N) = O(N)\n",
    "S.C = O(1)\n",
    "'''\n",
    "pass"
   ]
  },
  {
   "attachments": {},
   "cell_type": "markdown",
   "metadata": {},
   "source": [
    "QUESTION 4"
   ]
  },
  {
   "cell_type": "code",
   "execution_count": null,
   "metadata": {},
   "outputs": [],
   "source": [
    "'''\n",
    "Question 4\n",
    "Given a sorted array of distinct integers and a target value, return the index if the\n",
    "target is found. If not, return the index where it would be if it were inserted in\n",
    "order.\n",
    "You must write an algorithm with O(log n) runtime complexity.\n",
    "Example 1:\n",
    "Input: nums = [1,3,5,6], target = 5\n",
    "Output: 2\n",
    "'''"
   ]
  },
  {
   "cell_type": "code",
   "execution_count": 3,
   "metadata": {},
   "outputs": [],
   "source": [
    "def dsort(nums,target):\n",
    "    left = 0\n",
    "    right = len(nums)\n",
    "    while left < right:\n",
    "        mid = int((left + right) / 2)\n",
    "        if nums[mid] == target:\n",
    "            return mid\n",
    "        elif nums[mid] < target:\n",
    "            left = mid + 1\n",
    "        else:\n",
    "            right = mid\n",
    "    \n",
    "    return left"
   ]
  },
  {
   "cell_type": "code",
   "execution_count": 4,
   "metadata": {},
   "outputs": [
    {
     "name": "stdout",
     "output_type": "stream",
     "text": [
      "2\n"
     ]
    }
   ],
   "source": [
    "nums = [1,3,5,6]\n",
    "target = 5\n",
    "print(dsort(nums,target))"
   ]
  },
  {
   "cell_type": "code",
   "execution_count": null,
   "metadata": {},
   "outputs": [],
   "source": [
    "'''\n",
    "T.C = O(logN)\n",
    "S.C = O(1)\n",
    "'''"
   ]
  },
  {
   "attachments": {},
   "cell_type": "markdown",
   "metadata": {},
   "source": [
    "QUESTION 5"
   ]
  },
  {
   "cell_type": "code",
   "execution_count": null,
   "metadata": {},
   "outputs": [],
   "source": [
    "'''\n",
    "Question 5\n",
    "You are given a large integer represented as an integer array digits, where each\n",
    "digits[i] is the ith digit of the integer. The digits are ordered from most significant\n",
    "to least significant in left-to-right order. The large integer does not contain any\n",
    "leading 0's.\n",
    "Increment the large integer by one and return the resulting array of digits.\n",
    "Example 1:\n",
    "Input: digits = [1,2,3]\n",
    "Output: [1,2,4]\n",
    "Explanation: The array represents the integer 123.\n",
    "Incrementing by one gives 123 + 1 = 124.\n",
    "Thus, the result should be [1,2,4].\n",
    "'''\n",
    "pass"
   ]
  },
  {
   "cell_type": "code",
   "execution_count": 5,
   "metadata": {},
   "outputs": [],
   "source": [
    "def largeint(digits):\n",
    "    l = len(digits)\n",
    "    last_dig = digits[l-1]\n",
    "    if last_dig >= 0 and last_dig<=8:\n",
    "        digits[l-1] = digits[l-1] + 1\n",
    "\n",
    "    if last_dig == 9:\n",
    "        res = []\n",
    "        nos=0\n",
    "        for i in range(l):\n",
    "            nos = (nos*10) + digits[i]\n",
    "\n",
    "        nos = nos + 1\n",
    "        while nos > 0:\n",
    "            rem = nos % 10\n",
    "            res.append(rem)\n",
    "            nos = nos // 10\n",
    "\n",
    "        res.reverse()\n",
    "        return res\n",
    "    \n",
    "    return digits"
   ]
  },
  {
   "cell_type": "code",
   "execution_count": 6,
   "metadata": {},
   "outputs": [
    {
     "name": "stdout",
     "output_type": "stream",
     "text": [
      "[1, 2, 4]\n"
     ]
    }
   ],
   "source": [
    "digits = [1,2,3]\n",
    "print(largeint(digits))"
   ]
  },
  {
   "cell_type": "code",
   "execution_count": null,
   "metadata": {},
   "outputs": [],
   "source": [
    "'''\n",
    "Time complexity: O(N)\n",
    "where N is the number of digits\n",
    "Space complexity: O(N)\n",
    "The extra space required depends if we have the last digit == 9, it can at most be N elements.\n",
    "'''\n",
    "pass"
   ]
  },
  {
   "attachments": {},
   "cell_type": "markdown",
   "metadata": {},
   "source": [
    "QUESTION 6"
   ]
  },
  {
   "cell_type": "code",
   "execution_count": null,
   "metadata": {},
   "outputs": [],
   "source": [
    "'''\n",
    "Question 6\n",
    "Given a non-empty array of integers nums, every element appears twice except\n",
    "for one. Find that single one.\n",
    "You must implement a solution with a linear runtime complexity and use only\n",
    "constant extra space.\n",
    "Example 1:\n",
    "Input: nums = [2,2,1]\n",
    "Output: 1\n",
    "'''\n",
    "pass"
   ]
  },
  {
   "cell_type": "code",
   "execution_count": 7,
   "metadata": {},
   "outputs": [],
   "source": [
    "def findsingle(nums):\n",
    "    ans = 0\n",
    "    for i in nums:\n",
    "        ans = ans ^ i\n",
    "        \n",
    "    return ans"
   ]
  },
  {
   "cell_type": "code",
   "execution_count": 8,
   "metadata": {},
   "outputs": [
    {
     "name": "stdout",
     "output_type": "stream",
     "text": [
      "1\n"
     ]
    }
   ],
   "source": [
    "nums = [2,2,1]\n",
    "print(findsingle(nums))"
   ]
  },
  {
   "attachments": {},
   "cell_type": "markdown",
   "metadata": {},
   "source": [
    "QUESTION 7"
   ]
  },
  {
   "cell_type": "code",
   "execution_count": null,
   "metadata": {},
   "outputs": [],
   "source": [
    "'''\n",
    "Question 7\n",
    "You are given an inclusive range [lower, upper] and a sorted unique integer array\n",
    "nums, where all elements are within the inclusive range.\n",
    "A number x is considered missing if x is in the range [lower, upper] and x is not in\n",
    "nums.\n",
    "Return the shortest sorted list of ranges that exactly covers all the missing\n",
    "numbers. That is, no element of nums is included in any of the ranges, and each\n",
    "missing number is covered by one of the ranges.\n",
    "Example 1:\n",
    "Input: nums = [0,1,3,50,75], lower = 0, upper = 99\n",
    "Output: [[2,2],[4,49],[51,74],[76,99]]\n",
    "Explanation: The ranges are:\n",
    "[2,2]\n",
    "[4,49]\n",
    "[51,74]\n",
    "[76,99]\n",
    "'''\n",
    "pass"
   ]
  },
  {
   "cell_type": "code",
   "execution_count": 45,
   "metadata": {},
   "outputs": [],
   "source": [
    "def missrange(nums,lower,upper):\n",
    "    \n",
    "    res = []\n",
    "    nums = nums + [upper+1]\n",
    "    previous = lower - 1\n",
    "\n",
    "    for num in nums:\n",
    "        if num == previous+2:\n",
    "            res.append([previous+1, previous+1])\n",
    "        \n",
    "        elif num > previous+2:\n",
    "            res.append([previous+1,num-1])\n",
    "        \n",
    "        previous = num\n",
    "\n",
    "    return res"
   ]
  },
  {
   "cell_type": "code",
   "execution_count": 46,
   "metadata": {},
   "outputs": [
    {
     "name": "stdout",
     "output_type": "stream",
     "text": [
      "[[2, 2], [4, 49], [51, 74], [76, 99]]\n"
     ]
    }
   ],
   "source": [
    "nums = [0,1,3,50,75]\n",
    "lower = 0\n",
    "upper = 99\n",
    "print(missrange(nums,lower,upper))"
   ]
  },
  {
   "cell_type": "code",
   "execution_count": null,
   "metadata": {},
   "outputs": [],
   "source": [
    "'''\n",
    "T.C = O(N)\n",
    "S.C = O(N)\n",
    "'''"
   ]
  },
  {
   "attachments": {},
   "cell_type": "markdown",
   "metadata": {},
   "source": [
    "QUESTION 8"
   ]
  },
  {
   "cell_type": "code",
   "execution_count": null,
   "metadata": {},
   "outputs": [],
   "source": [
    "'''\n",
    "Given an array of meeting time intervals where intervals[i] = [starti, endi],\n",
    "determine if a person could attend all meetings.\n",
    "Example 1:\n",
    "Input: intervals = [[0,30],[5,10],[15,20]]\n",
    "Output: false\n",
    "'''"
   ]
  },
  {
   "cell_type": "code",
   "execution_count": 29,
   "metadata": {},
   "outputs": [],
   "source": [
    "def meet(intervals):\n",
    "    new_intervals = sorted(intervals, key=lambda x: x[0])\n",
    "    for i in range(1,len(new_intervals)):\n",
    "        if new_intervals[i-1][1] > new_intervals[i][0]:return False\n",
    "    return True"
   ]
  },
  {
   "cell_type": "code",
   "execution_count": 30,
   "metadata": {},
   "outputs": [
    {
     "name": "stdout",
     "output_type": "stream",
     "text": [
      "False\n"
     ]
    }
   ],
   "source": [
    "intervals = [[0,30],[5,10],[15,20]]\n",
    "print(meet(intervals))"
   ]
  },
  {
   "cell_type": "code",
   "execution_count": null,
   "metadata": {},
   "outputs": [],
   "source": [
    "'''\n",
    "T.C = O(NlogN)\n",
    "S.C = O(1)\n",
    "'''"
   ]
  }
 ],
 "metadata": {
  "kernelspec": {
   "display_name": "gendev",
   "language": "python",
   "name": "python3"
  },
  "language_info": {
   "codemirror_mode": {
    "name": "ipython",
    "version": 3
   },
   "file_extension": ".py",
   "mimetype": "text/x-python",
   "name": "python",
   "nbconvert_exporter": "python",
   "pygments_lexer": "ipython3",
   "version": "3.8.13"
  },
  "orig_nbformat": 4
 },
 "nbformat": 4,
 "nbformat_minor": 2
}
