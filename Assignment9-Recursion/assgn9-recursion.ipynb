{
 "cells": [
  {
   "attachments": {},
   "cell_type": "markdown",
   "metadata": {},
   "source": [
    "QUESTION 1"
   ]
  },
  {
   "cell_type": "code",
   "execution_count": null,
   "metadata": {},
   "outputs": [],
   "source": [
    "'''\n",
    "**Question 1**\n",
    "\n",
    "Given an integer `n`, return *`true` if it is a power of two. Otherwise, return `false`*.\n",
    "An integer `n` is a power of two, if there exists an integer `x` such that `n == 2x`.\n",
    "\n",
    "**Example 1:**\n",
    "Input: n = 1 \n",
    "Output: true\n",
    "\n",
    "**Example 2:**\n",
    "Input: n = 16 \n",
    "Output: true\n",
    "\n",
    "**Example 3:**\n",
    "Input: n = 3 \n",
    "Output: false\n",
    "\n",
    "'''\n",
    "pass"
   ]
  },
  {
   "cell_type": "code",
   "execution_count": 2,
   "metadata": {},
   "outputs": [],
   "source": [
    "def poweroftwo(n):\n",
    "\n",
    "    if n == 0: \n",
    "         return False\n",
    "    \n",
    "    while n % 2 == 0:\n",
    "            n /= 2\n",
    "    \n",
    "    return n == 1"
   ]
  },
  {
   "cell_type": "code",
   "execution_count": 4,
   "metadata": {},
   "outputs": [
    {
     "name": "stdout",
     "output_type": "stream",
     "text": [
      "True\n",
      "False\n"
     ]
    }
   ],
   "source": [
    "n = 16\n",
    "print(poweroftwo(n))\n",
    "\n",
    "n = 3\n",
    "print(poweroftwo(n))"
   ]
  },
  {
   "cell_type": "code",
   "execution_count": null,
   "metadata": {},
   "outputs": [],
   "source": [
    "'''\n",
    "T.C = O(log n)\n",
    "S.C = O(1)\n",
    "'''\n",
    "pass"
   ]
  },
  {
   "attachments": {},
   "cell_type": "markdown",
   "metadata": {},
   "source": [
    "QUESTION 2"
   ]
  },
  {
   "cell_type": "code",
   "execution_count": null,
   "metadata": {},
   "outputs": [],
   "source": [
    "'''\n",
    "**Question 2**\n",
    "Given a number n, find the sum of the first natural numbers.\n",
    "**Example 1:**\n",
    "Input: n = 3 \n",
    "Output: 6\n",
    "**Example 2:**\n",
    "Input  : 5 \n",
    "Output : 15\n",
    "'''\n",
    "pass"
   ]
  },
  {
   "cell_type": "code",
   "execution_count": 6,
   "metadata": {},
   "outputs": [],
   "source": [
    "def firstnnaturals(n):\n",
    "    sums = 0\n",
    "    x = 1\n",
    "    while x <= n:\n",
    "        sums = sums + x\n",
    "        x = x + 1\n",
    "    return sums"
   ]
  },
  {
   "cell_type": "code",
   "execution_count": 7,
   "metadata": {},
   "outputs": [
    {
     "name": "stdout",
     "output_type": "stream",
     "text": [
      "6\n",
      "15\n"
     ]
    }
   ],
   "source": [
    "n = 3 \n",
    "print(firstnnaturals(n))\n",
    "\n",
    "n = 5\n",
    "print(firstnnaturals(n))"
   ]
  },
  {
   "cell_type": "code",
   "execution_count": null,
   "metadata": {},
   "outputs": [],
   "source": [
    "'''\n",
    "T.C = O(N)\n",
    "S.C = O(1)\n",
    "'''\n",
    "pass"
   ]
  },
  {
   "attachments": {},
   "cell_type": "markdown",
   "metadata": {},
   "source": [
    "QUESTION 3"
   ]
  },
  {
   "cell_type": "code",
   "execution_count": null,
   "metadata": {},
   "outputs": [],
   "source": [
    "'''\n",
    "**Question 3**\n",
    "****Given a positive integer, N. Find the factorial of N. \n",
    "**Example 1:**\n",
    "Input: N = 5 \n",
    "Output: 120\n",
    "**Example 2:**\n",
    "Input: N = 4\n",
    "Output: 24\n",
    "'''\n",
    "pass"
   ]
  },
  {
   "cell_type": "code",
   "execution_count": 1,
   "metadata": {},
   "outputs": [],
   "source": [
    "def factorial(n):      \n",
    "    if n == 0:\n",
    "        return 1\n",
    "      \n",
    "    return n * factorial(n-1)\n"
   ]
  },
  {
   "cell_type": "code",
   "execution_count": 2,
   "metadata": {},
   "outputs": [
    {
     "name": "stdout",
     "output_type": "stream",
     "text": [
      "120\n",
      "24\n"
     ]
    }
   ],
   "source": [
    "n = 5\n",
    "print(factorial(n))\n",
    "n = 4\n",
    "print(factorial(n))"
   ]
  },
  {
   "cell_type": "code",
   "execution_count": null,
   "metadata": {},
   "outputs": [],
   "source": [
    "'''\n",
    "T.C = O(N) where N is the number\n",
    "S.C = O(N)\n",
    "'''"
   ]
  },
  {
   "attachments": {},
   "cell_type": "markdown",
   "metadata": {},
   "source": [
    "QUESTION 4"
   ]
  },
  {
   "cell_type": "code",
   "execution_count": null,
   "metadata": {},
   "outputs": [],
   "source": [
    "'''\n",
    "**Question 4**\n",
    "Given a number N and a power P, the task is to find the exponent of this number raised to the given power, i.e. N^P.\n",
    "**Example 1 :** \n",
    "Input: N = 5, P = 2\n",
    "Output: 25\n",
    "**Example 2 :**\n",
    "Input: N = 2, P = 5\n",
    "Output: 32\n",
    "'''"
   ]
  },
  {
   "cell_type": "code",
   "execution_count": 3,
   "metadata": {},
   "outputs": [],
   "source": [
    "def powfinder(N, P):\n",
    "\n",
    "    # If power is 0 then return 1\n",
    "    if P == 0:\n",
    "        return 1\n",
    "  \n",
    "    if P%2 == 0:  #Even Number Recurence\n",
    "      result = powfinder(N, P//2)\n",
    "      return result * result\n",
    "    else :\n",
    "      result = powfinder(N, (P-1)//2) #Odd Number Recurence\n",
    "      return N * result * result"
   ]
  },
  {
   "cell_type": "code",
   "execution_count": 4,
   "metadata": {},
   "outputs": [
    {
     "name": "stdout",
     "output_type": "stream",
     "text": [
      "25\n",
      "32\n"
     ]
    }
   ],
   "source": [
    "N = 5\n",
    "P = 2\n",
    "print(powfinder(N, P))\n",
    "\n",
    "N = 2\n",
    "P = 5\n",
    "print(powfinder(N, P))"
   ]
  },
  {
   "cell_type": "code",
   "execution_count": null,
   "metadata": {},
   "outputs": [],
   "source": [
    "'''\n",
    "T.C = O(log P) \n",
    "S.C =  O(log P)\n",
    "'''"
   ]
  },
  {
   "attachments": {},
   "cell_type": "markdown",
   "metadata": {},
   "source": [
    "QUESTION 5"
   ]
  },
  {
   "cell_type": "code",
   "execution_count": 5,
   "metadata": {},
   "outputs": [],
   "source": [
    "'''\n",
    "**Question 5**\n",
    "Given an array of integers **arr**, the task is to find maximum element of that array using recursion.\n",
    "**Example 1:**\n",
    "Input: arr = {1, 4, 3, -5, -4, 8, 6};\n",
    "Output: 8\n",
    "**Example 2:**\n",
    "Input: arr = {1, 4, 45, 6, 10, -8};\n",
    "Output: 45\n",
    "'''\n",
    "pass"
   ]
  },
  {
   "cell_type": "code",
   "execution_count": 6,
   "metadata": {},
   "outputs": [],
   "source": [
    "def findmaximumelement(arr,n):\n",
    " \n",
    "    if (n == 1):\n",
    "        return arr[0]\n",
    "    \n",
    "    return max(arr[n - 1], findmaximumelement(arr, n - 1))"
   ]
  },
  {
   "cell_type": "code",
   "execution_count": 8,
   "metadata": {},
   "outputs": [
    {
     "name": "stdout",
     "output_type": "stream",
     "text": [
      "8\n",
      "45\n"
     ]
    }
   ],
   "source": [
    "arr = [1, 4, 3, -5, -4, 8, 6]\n",
    "print(findmaximumelement(arr,len(arr)))\n",
    "\n",
    "arr = [1, 4, 45, 6, 10, -8]\n",
    "print(findmaximumelement(arr,len(arr)))"
   ]
  },
  {
   "cell_type": "code",
   "execution_count": null,
   "metadata": {},
   "outputs": [],
   "source": [
    "'''\n",
    "T.C = O(N)\n",
    "S.C = O(N)\n",
    "'''"
   ]
  },
  {
   "attachments": {},
   "cell_type": "markdown",
   "metadata": {},
   "source": [
    "QUESTION 6"
   ]
  },
  {
   "cell_type": "code",
   "execution_count": null,
   "metadata": {},
   "outputs": [],
   "source": [
    "'''\n",
    "**Question 6**\n",
    "Given first term (a), common difference (d) and a integer N of the Arithmetic Progression series, \n",
    "the task is to find Nth term of the series.\n",
    "**Example 1:**\n",
    "Input : a = 2 d = 1 N = 5\n",
    "Output : 6\n",
    "The 5th term of the series is : 6\n",
    "\n",
    "**Example 2:**\n",
    "Input : a = 5 d = 2 N = 10\n",
    "Output : 23\n",
    "The 10th term of the series is : 23\n",
    "'''\n",
    "pass"
   ]
  },
  {
   "cell_type": "code",
   "execution_count": 10,
   "metadata": {},
   "outputs": [],
   "source": [
    "def nthapterm(a,d,N) :\n",
    " \n",
    "    # using formula to find Nth term t(n) = a(1) + (n-1)*d\n",
    "    return (a + (N - 1) * d)"
   ]
  },
  {
   "cell_type": "code",
   "execution_count": 12,
   "metadata": {},
   "outputs": [
    {
     "name": "stdout",
     "output_type": "stream",
     "text": [
      "6\n",
      "23\n"
     ]
    }
   ],
   "source": [
    "a = 2 \n",
    "d = 1 \n",
    "N = 5\n",
    "print(nthapterm(a,d,N))\n",
    "\n",
    "a = 5 \n",
    "d = 2 \n",
    "N = 10\n",
    "print(nthapterm(a,d,N))"
   ]
  },
  {
   "attachments": {},
   "cell_type": "markdown",
   "metadata": {},
   "source": [
    "QUESTION 7"
   ]
  },
  {
   "cell_type": "code",
   "execution_count": null,
   "metadata": {},
   "outputs": [],
   "source": [
    "'''\n",
    "**Question 7**\n",
    "Given a string S, the task is to write a program to print all permutations of a given string.\n",
    "**Example 1:**\n",
    "***Input:***\n",
    "*S = “ABC”*\n",
    "***Output:***\n",
    "*“ABC”, “ACB”, “BAC”, “BCA”, “CBA”, “CAB”*\n",
    "**Example 2:**\n",
    "***Input:***\n",
    "*S = “XY”*\n",
    "***Output:***\n",
    "*“XY”, “YX”*\n",
    "'''\n",
    "pass"
   ]
  },
  {
   "cell_type": "code",
   "execution_count": 50,
   "metadata": {},
   "outputs": [],
   "source": [
    "def allstrpermutations(str):\n",
    "    def recursivePermutation(index,nums,length,lists):\n",
    "            if(index==length):\n",
    "                ans=[]\n",
    "                for i in range(0,length):\n",
    "                    ans.append(nums[i])\n",
    "                lists.append(ans[:])\n",
    "                return\n",
    "            else:\n",
    "                for i in range(index,length):\n",
    "                    swap(i,index,nums) #include the index\n",
    "                    recursivePermutation(index+1,nums,length,lists) #recur for next index\n",
    "                    swap(i,index,nums) #exclude the index\n",
    "    \n",
    "    def swap(i,j,nums):\n",
    "        temp = nums[i]\n",
    "        nums[i]=nums[j]\n",
    "        nums[j]=temp\n",
    "        \n",
    "    lists=[]\n",
    "    nums = list(str)\n",
    "    recursivePermutation(0,nums,len(nums),lists)\n",
    "    \n",
    "    for elem in lists:\n",
    "        newstr = \"\".join(elem)\n",
    "        print(newstr)\n",
    "    \n",
    "    return \"All permutations printed\""
   ]
  },
  {
   "cell_type": "code",
   "execution_count": 51,
   "metadata": {},
   "outputs": [
    {
     "name": "stdout",
     "output_type": "stream",
     "text": [
      "ABC\n",
      "ACB\n",
      "BAC\n",
      "BCA\n",
      "CBA\n",
      "CAB\n",
      "All permutations printed\n"
     ]
    }
   ],
   "source": [
    "S = \"ABC\"\n",
    "print(allstrpermutations(S))"
   ]
  },
  {
   "cell_type": "code",
   "execution_count": null,
   "metadata": {},
   "outputs": [],
   "source": [
    "'''\n",
    "T.C = O(N * N!) where N is the length of the string\n",
    "S.C = O(N)\n",
    "'''\n",
    "pass"
   ]
  },
  {
   "attachments": {},
   "cell_type": "markdown",
   "metadata": {},
   "source": [
    "QUESTION 8"
   ]
  },
  {
   "cell_type": "code",
   "execution_count": null,
   "metadata": {},
   "outputs": [],
   "source": [
    "'''\n",
    " **Question 8**\n",
    "Given an array, find a product of all array elements.\n",
    "**Example 1:**\n",
    "Input  : arr[] = {1, 2, 3, 4, 5}\n",
    "Output : 120\n",
    "**Example 2:**\n",
    "\n",
    "Input  : arr[] = {1, 6, 3}\n",
    "Output : 18\n",
    "'''\n",
    "pass"
   ]
  },
  {
   "cell_type": "code",
   "execution_count": 54,
   "metadata": {},
   "outputs": [],
   "source": [
    "def arrprod(arr,start,end):\n",
    "    \n",
    "    if start == end:\n",
    "      return 1\n",
    "    \n",
    "    return arr[start] * arrprod(arr,start+1,end) #recur for the next index\n"
   ]
  },
  {
   "cell_type": "code",
   "execution_count": 55,
   "metadata": {},
   "outputs": [
    {
     "name": "stdout",
     "output_type": "stream",
     "text": [
      "120\n",
      "18\n"
     ]
    }
   ],
   "source": [
    "arr = [1, 2, 3, 4, 5]\n",
    "print(arrprod(arr,0,len(arr)))\n",
    "\n",
    "arr = [1, 6, 3]\n",
    "print(arrprod(arr,0,len(arr)))"
   ]
  },
  {
   "cell_type": "code",
   "execution_count": null,
   "metadata": {},
   "outputs": [],
   "source": [
    "'''\n",
    "T.C = O(N) where N is the length of the array\n",
    "S.C = O(N) where N is the length of the array\n",
    "'''\n",
    "pass"
   ]
  },
  {
   "cell_type": "code",
   "execution_count": null,
   "metadata": {},
   "outputs": [],
   "source": []
  }
 ],
 "metadata": {
  "kernelspec": {
   "display_name": "gendev",
   "language": "python",
   "name": "python3"
  },
  "language_info": {
   "codemirror_mode": {
    "name": "ipython",
    "version": 3
   },
   "file_extension": ".py",
   "mimetype": "text/x-python",
   "name": "python",
   "nbconvert_exporter": "python",
   "pygments_lexer": "ipython3",
   "version": "3.8.13"
  },
  "orig_nbformat": 4
 },
 "nbformat": 4,
 "nbformat_minor": 2
}
