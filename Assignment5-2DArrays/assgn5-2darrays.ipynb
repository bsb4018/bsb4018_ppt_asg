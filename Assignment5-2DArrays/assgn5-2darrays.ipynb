{
 "cells": [
  {
   "attachments": {},
   "cell_type": "markdown",
   "metadata": {},
   "source": [
    "QUESTION 1"
   ]
  },
  {
   "cell_type": "code",
   "execution_count": null,
   "metadata": {},
   "outputs": [],
   "source": [
    "'''\n",
    "**Question 1**\n",
    "Convert 1D Array Into 2D Array\n",
    "You are given a **0-indexed** 1-dimensional (1D) integer array original, and two integers, m and n. \n",
    "You are tasked with creating a 2-dimensional (2D) array with  m rows and n columns using **all** the \n",
    "elements from original.\n",
    "The elements from indices 0 to n - 1 (**inclusive**) of original should form the first row of the \n",
    "constructed 2D array, the elements from indices n to 2 * n - 1 (**inclusive**) should form the second \n",
    "row of the constructed 2D array, and so on.\n",
    "Return *an* m x n *2D array constructed according to the above procedure, or an empty 2D array if it is impossible*.\n",
    "Example 1\n",
    "**Input:** original = [1,2,3,4], m = 2, n = 2\n",
    "**Output:** [[1,2],[3,4]]\n",
    "**Explanation:** The constructed 2D array should contain 2 rows and 2 columns.\n",
    "The first group of n=2 elements in original, [1,2], becomes the first row in the constructed 2D array.\n",
    "The second group of n=2 elements in original, [3,4], becomes the second row in the constructed 2D array.\n",
    "'''"
   ]
  },
  {
   "cell_type": "code",
   "execution_count": 1,
   "metadata": {},
   "outputs": [],
   "source": [
    "def oned2twod(original,m,n):\n",
    "\n",
    "    if len(original)!=m*n:\n",
    "        return []\n",
    "        \n",
    "    ans = [] #form the main answer\n",
    "    temp = [] #form temporary rows\n",
    "        \n",
    "    for i in range(len(original)):\n",
    "        if len(temp)<n: #accomodation in a row possible\n",
    "            temp.append(original[i])\n",
    "        else:\n",
    "            ans.append(temp) #add the whole row formed\n",
    "            temp = []\n",
    "            temp.append(original[i]) #add the current element for next row\n",
    "        \n",
    "    ans.append(temp)\n",
    "    return ans"
   ]
  },
  {
   "cell_type": "code",
   "execution_count": 2,
   "metadata": {},
   "outputs": [
    {
     "name": "stdout",
     "output_type": "stream",
     "text": [
      "[[1, 2], [3, 4]]\n"
     ]
    }
   ],
   "source": [
    "original = [1,2,3,4]\n",
    "m = 2\n",
    "n = 2\n",
    "print(oned2twod(original,m,n))"
   ]
  },
  {
   "cell_type": "code",
   "execution_count": null,
   "metadata": {},
   "outputs": [],
   "source": [
    "'''\n",
    "T.C = O(N) where N = size of the original array\n",
    "S.C = O(n) where n = number of elements in one row\n",
    "'''"
   ]
  },
  {
   "attachments": {},
   "cell_type": "markdown",
   "metadata": {},
   "source": [
    "QUESTION 2"
   ]
  },
  {
   "cell_type": "code",
   "execution_count": null,
   "metadata": {},
   "outputs": [],
   "source": [
    "'''\n",
    "**Question 2**\n",
    "You have n coins and you want to build a staircase with these coins. \n",
    "The staircase consists of k rows where the ith row has exactly i coins. \n",
    "The last row of the staircase **may be** incomplete.\n",
    "Given the integer n, return *the number of **complete rows** of the staircase you will build*.\n",
    "**Example 1:**\n",
    "**Input:** n = 5\n",
    "**Output:** 2\n",
    "**Explanation:** Because the 3rd row is incomplete, we return 2.\n",
    "'''"
   ]
  },
  {
   "cell_type": "code",
   "execution_count": 3,
   "metadata": {},
   "outputs": [],
   "source": [
    "def staircoins(n):\n",
    "    left, right = 0, n\n",
    "    while left <= right:\n",
    "        k = (right + left) // 2  #assume k coins completed\n",
    "        curr = k * (k + 1) // 2 #current sum of k coins\n",
    "        if curr == n: #we reach n\n",
    "            return k\n",
    "        if n < curr: #we over reached n\n",
    "            right = k - 1\n",
    "        else:  #we under reached n\n",
    "            left = k + 1\n",
    "    return right"
   ]
  },
  {
   "cell_type": "code",
   "execution_count": 4,
   "metadata": {},
   "outputs": [
    {
     "name": "stdout",
     "output_type": "stream",
     "text": [
      "2\n"
     ]
    }
   ],
   "source": [
    "n = 5\n",
    "print(staircoins(n))"
   ]
  },
  {
   "cell_type": "code",
   "execution_count": null,
   "metadata": {},
   "outputs": [],
   "source": [
    "'''\n",
    "T.C = O(logN)\n",
    "S.C = O(1)\n",
    "'''"
   ]
  },
  {
   "attachments": {},
   "cell_type": "markdown",
   "metadata": {},
   "source": [
    "QUESTION 3"
   ]
  },
  {
   "cell_type": "code",
   "execution_count": null,
   "metadata": {},
   "outputs": [],
   "source": [
    "'''\n",
    "**Question 3**\n",
    "Given an integer array nums sorted in **non-decreasing** order, return *an array of **the squares of each number**\n",
    "sorted in non-decreasing order*.\n",
    "**Example 1:**\n",
    "**Input:** nums = [-4,-1,0,3,10]\n",
    "**Output:** [0,1,9,16,100]\n",
    "**Explanation:** After squaring, the array becomes [16,1,0,9,100].\n",
    "After sorting, it becomes [0,1,9,16,100].\n",
    "'''\n",
    "pass"
   ]
  },
  {
   "cell_type": "code",
   "execution_count": 11,
   "metadata": {},
   "outputs": [],
   "source": [
    "def nondecreasingsq(nums):\n",
    "    res = [0 for _ in nums]\n",
    "    left = 0\n",
    "    right = len(nums)-1\n",
    "\n",
    "    for i in reversed(range(len(nums))): # loop from end\n",
    "        if abs(nums[left]) > abs(nums[right]): # left element is greater so pick it\n",
    "            res[i] = nums[left] ** 2 # square it and add to new list\n",
    "            left += 1 #increment left index\n",
    "        else:\n",
    "            res[i] = nums[right] ** 2 #right element greater so pick and sqaure it and add to new list\n",
    "            right -= 1 #decrement right index\n",
    "\n",
    "    return res"
   ]
  },
  {
   "cell_type": "code",
   "execution_count": 12,
   "metadata": {},
   "outputs": [
    {
     "name": "stdout",
     "output_type": "stream",
     "text": [
      "[0, 1, 9, 16, 100]\n"
     ]
    }
   ],
   "source": [
    "nums = [-4,-1,0,3,10]\n",
    "print(nondecreasingsq(nums))"
   ]
  },
  {
   "cell_type": "code",
   "execution_count": null,
   "metadata": {},
   "outputs": [],
   "source": [
    "'''\n",
    "T.C  = O(N)\n",
    "S.C = O(1)\n",
    "'''\n",
    "pass"
   ]
  },
  {
   "attachments": {},
   "cell_type": "markdown",
   "metadata": {},
   "source": [
    "QUESTION 4"
   ]
  },
  {
   "cell_type": "code",
   "execution_count": null,
   "metadata": {},
   "outputs": [],
   "source": [
    "'''\n",
    "**Question 4**\n",
    "Given two **0-indexed** integer arrays nums1 and nums2, return *a list* answer *of size* 2 *where:*\n",
    "- answer[0] *is a list of all **distinct** integers in* nums1 *which are **not** present in* nums2*.*\n",
    "- answer[1] *is a list of all **distinct** integers in* nums2 *which are **not** present in* nums1.\n",
    "**Note** that the integers in the lists may be returned in **any** order.\n",
    "**Example 1:**\n",
    "**Input:** nums1 = [1,2,3], nums2 = [2,4,6]\n",
    "**Output:** [[1,3],[4,6]]\n",
    "**Explanation:**\n",
    "For nums1, nums1[1] = 2 is present at index 0 of nums2, whereas nums1[0] = 1 and nums1[2] = 3 are not present in nums2. \n",
    "Therefore, answer[0] = [1,3].\n",
    "For nums2, nums2[0] = 2 is present at index 1 of nums1, whereas nums2[1] = 4 and nums2[2] = 6 are not present in nums2. \n",
    "Therefore, answer[1] = [4,6].\n",
    "'''"
   ]
  },
  {
   "cell_type": "code",
   "execution_count": 5,
   "metadata": {},
   "outputs": [],
   "source": [
    "def bothfunc(nums1, nums2):\n",
    "    mp1 = {}\n",
    "    mp2 = {}\n",
    "    res1 = []\n",
    "    res2 = []\n",
    "\n",
    "    # store distinct elements of nums1\n",
    "    for i in range(len(nums1)):\n",
    "        if mp1.get(nums1[i], 0) == 0 :\n",
    "            mp1[nums1[i]] = 1\n",
    "\n",
    "    # store distinct elements of nums2\n",
    "    for i in range(len(nums2)):\n",
    "        if mp2.get(nums2[i], 0) == 0 :\n",
    "            mp2[nums2[i]] = 1\n",
    "        \n",
    "    #  iterate both arrays again and check if the ith element is present\n",
    "    for x in nums1:\n",
    "        if mp2.get(x, 0) == 0 :\n",
    "            res1.append(x)\n",
    "            mp2[x] = 1\n",
    "\n",
    "    for y in nums2 : \n",
    "        if mp1.get(y, 0) == 0 :\n",
    "            res2.append(y)\n",
    "            mp1[y] = 1\n",
    "        \n",
    "    return [res1, res2]"
   ]
  },
  {
   "cell_type": "code",
   "execution_count": 6,
   "metadata": {},
   "outputs": [
    {
     "name": "stdout",
     "output_type": "stream",
     "text": [
      "[[1, 3], [4, 6]]\n"
     ]
    }
   ],
   "source": [
    "nums1 = [1,2,3]\n",
    "nums2 = [2,4,6]\n",
    "print(bothfunc(nums1,nums2))"
   ]
  },
  {
   "cell_type": "code",
   "execution_count": 8,
   "metadata": {},
   "outputs": [],
   "source": [
    "'''\n",
    "T.C = O(M+N)\n",
    "S.C = O(M+N) where M and N are the size of the arrays\n",
    "'''\n",
    "pass"
   ]
  },
  {
   "attachments": {},
   "cell_type": "markdown",
   "metadata": {},
   "source": [
    "QUESTION 5"
   ]
  },
  {
   "cell_type": "code",
   "execution_count": null,
   "metadata": {},
   "outputs": [],
   "source": [
    "'''\n",
    "**Question 5**\n",
    "Given two integer arrays arr1 and arr2, and the integer d, *return the distance value between the two arrays*.\n",
    "The distance value is defined as the number of elements arr1[i] such that there is not any element arr2[j] \n",
    "where |arr1[i]-arr2[j]| <= d.\n",
    "**Example 1:**\n",
    "**Input:** arr1 = [4,5,8], arr2 = [10,9,1,8], d = 2\n",
    "**Output:** 2\n",
    "**Explanation:**\n",
    "For arr1[0]=4 we have:\n",
    "|4-10|=6 > d=2\n",
    "|4-9|=5 > d=2\n",
    "|4-1|=3 > d=2\n",
    "|4-8|=4 > d=2\n",
    "For arr1[1]=5 we have:\n",
    "|5-10|=5 > d=2\n",
    "|5-9|=4 > d=2\n",
    "|5-1|=4 > d=2\n",
    "|5-8|=3 > d=2\n",
    "For arr1[2]=8 we have:\n",
    "**|8-10|=2 <= d=2**\n",
    "**|8-9|=1 <= d=2**\n",
    "|8-1|=7 > d=2\n",
    "**|8-8|=0 <= d=2**\n",
    "'''"
   ]
  },
  {
   "cell_type": "code",
   "execution_count": 9,
   "metadata": {},
   "outputs": [],
   "source": [
    "def distancecombiation(arr1,arr2,d):\n",
    "    \n",
    "    res = 0 #number of elements in arr1 which does not satisfy\n",
    "    for i in arr1:\n",
    "        ifsatisfies = False #assume no element combination satiesfies\n",
    "        for j in arr2:\n",
    "            if abs(i-j) <= d: #current element satisfies distance condition\n",
    "                ifsatisfies = True \n",
    "                break\n",
    "            \n",
    "        if ifsatisfies == False: #no element combination satisfies\n",
    "            res += 1\n",
    "\n",
    "    return res"
   ]
  },
  {
   "cell_type": "code",
   "execution_count": 10,
   "metadata": {},
   "outputs": [
    {
     "name": "stdout",
     "output_type": "stream",
     "text": [
      "2\n"
     ]
    }
   ],
   "source": [
    "arr1 = [4,5,8]\n",
    "arr2 = [10,9,1,8]\n",
    "d = 2\n",
    "print(distancecombiation(arr1,arr2,d))"
   ]
  },
  {
   "cell_type": "code",
   "execution_count": null,
   "metadata": {},
   "outputs": [],
   "source": [
    "'''\n",
    "T.C = O(N * M), N, M are length of arrays\n",
    "S.C = O(1)\n",
    "'''"
   ]
  },
  {
   "attachments": {},
   "cell_type": "markdown",
   "metadata": {},
   "source": [
    "QUESTION 6"
   ]
  },
  {
   "cell_type": "code",
   "execution_count": null,
   "metadata": {},
   "outputs": [],
   "source": [
    "'''\n",
    "**Question 6**\n",
    "Given an integer array nums of length n where all the integers of nums are in the range [1, n] \n",
    "and each integer appears **once** or **twice**, return *an array of all the integers that appears **twice***.\n",
    "You must write an algorithm that runs in O(n) time and uses only constant extra space.\n",
    "**Example 1:**\n",
    "**Input:** nums = [4,3,2,7,8,2,3,1]\n",
    "**Output:**\n",
    "[2,3]\n",
    "'''"
   ]
  },
  {
   "cell_type": "code",
   "execution_count": 17,
   "metadata": {},
   "outputs": [],
   "source": [
    "def twodup(nums):\n",
    "\n",
    "    #Store the result\n",
    "    result = []\n",
    "        \n",
    "    for num in nums:\n",
    "        # get the absolute value of the current element\n",
    "        abs_num = abs(num)\n",
    "        # if the element at index abs_num - 1 is negative, append abs_num to the result\n",
    "        if nums[abs_num - 1] < 0:\n",
    "            result.append(abs_num)\n",
    "        # otherwise, set the element at index abs_num - 1 to negative\n",
    "        else:\n",
    "            nums[abs_num - 1] *= -1\n",
    "        \n",
    "    return result"
   ]
  },
  {
   "cell_type": "code",
   "execution_count": 18,
   "metadata": {},
   "outputs": [
    {
     "name": "stdout",
     "output_type": "stream",
     "text": [
      "[2, 3]\n"
     ]
    }
   ],
   "source": [
    "nums = [4,3,2,7,8,2,3,1]\n",
    "print(twodup(nums))"
   ]
  },
  {
   "cell_type": "code",
   "execution_count": null,
   "metadata": {},
   "outputs": [],
   "source": [
    "'''\n",
    "T.C = O(N)\n",
    "S.C = O(1)\n",
    "'''"
   ]
  },
  {
   "attachments": {},
   "cell_type": "markdown",
   "metadata": {},
   "source": [
    "QUESTION 7"
   ]
  },
  {
   "cell_type": "code",
   "execution_count": null,
   "metadata": {},
   "outputs": [],
   "source": [
    "'''\n",
    "**Question 7**\n",
    "Suppose an array of length n sorted in ascending order is **rotated** between 1 and n times. \n",
    "For example, the array nums = [0,1,2,4,5,6,7] might become:\n",
    "- [4,5,6,7,0,1,2] if it was rotated 4 times.\n",
    "- [0,1,2,4,5,6,7] if it was rotated 7 times.\n",
    "Notice that **rotating** an array [a[0], a[1], a[2], ..., a[n-1]] 1 time results \n",
    "in the array [a[n-1], a[0], a[1], a[2], ..., a[n-2]].\n",
    "Given the sorted rotated array nums of **unique** elements, return *the minimum element of this array*.\n",
    "You must write an algorithm that runs in O(log n) time.\n",
    "**Example 1:**\n",
    "**Input:** nums = [3,4,5,1,2]\n",
    "**Output:** 1\n",
    "**Explanation:**\n",
    "The original array was [1,2,3,4,5] rotated 3 times.\n",
    "'''"
   ]
  },
  {
   "cell_type": "code",
   "execution_count": 21,
   "metadata": {},
   "outputs": [],
   "source": [
    "def sortandrotate(nums):\n",
    "    n = len(nums)\n",
    "    left = 0\n",
    "    right = n-1\n",
    "    \n",
    "    while left < right:\n",
    "        mid=(left+right)//2\n",
    "\n",
    "\n",
    "        #this check keeps putting left to the correct position and left will have the minimum element\n",
    "        if nums[mid] < nums[right]:\n",
    "            right = mid\n",
    "        else:\n",
    "            left = mid + 1\n",
    " \n",
    "    return nums[left]"
   ]
  },
  {
   "cell_type": "code",
   "execution_count": 22,
   "metadata": {},
   "outputs": [
    {
     "name": "stdout",
     "output_type": "stream",
     "text": [
      "1\n"
     ]
    }
   ],
   "source": [
    "nums = [3,4,5,1,2]\n",
    "print(sortandrotate(nums))"
   ]
  },
  {
   "cell_type": "code",
   "execution_count": null,
   "metadata": {},
   "outputs": [],
   "source": [
    "'''\n",
    "T.C = O(logN)\n",
    "S.C = O(1)\n",
    "'''"
   ]
  },
  {
   "attachments": {},
   "cell_type": "markdown",
   "metadata": {},
   "source": [
    "QUESTION 8"
   ]
  },
  {
   "cell_type": "code",
   "execution_count": null,
   "metadata": {},
   "outputs": [],
   "source": [
    "'''\n",
    "**Question 8**\n",
    "An integer array original is transformed into a **doubled** array changed by appending \n",
    "**twice the value** of every element in original, and then randomly **shuffling** the resulting array.\n",
    "Given an array changed, return original *if* changed *is a **doubled** array. \n",
    "If* changed *is not a **doubled** array, return an empty array. \n",
    "The elements in* original *may be returned in **any** order*.\n",
    "**Example 1:**\n",
    "**Input:** changed = [1,3,4,2,6,8]\n",
    "**Output:** [1,3,4]\n",
    "**Explanation:** One possible original array could be [1,3,4]:\n",
    "- Twice the value of 1 is 1 * 2 = 2.\n",
    "- Twice the value of 3 is 3 * 2 = 6.\n",
    "- Twice the value of 4 is 4 * 2 = 8.\n",
    "Other original arrays could be [4,3,1] or [3,1,4].\n",
    "'''\n",
    "pass"
   ]
  },
  {
   "cell_type": "code",
   "execution_count": 23,
   "metadata": {},
   "outputs": [],
   "source": [
    "from collections import deque\n",
    "def doubletosingle(changed):\n",
    "    changed.sort() # sorting to get the order of elements\n",
    "    que=deque([]) # we store the doubles here\n",
    "    output=[]\n",
    "        \n",
    "    for i in changed:\n",
    "        if que and que[0]==i: #double encountered\n",
    "            que.popleft()\n",
    "        else:\n",
    "            que.append(i*2) #put the double in queue\n",
    "            output.append(i) #append i cause thats the double/2 value\n",
    "    \n",
    "    if que: \n",
    "        return []\n",
    "        \n",
    "    return output"
   ]
  },
  {
   "cell_type": "code",
   "execution_count": 24,
   "metadata": {},
   "outputs": [
    {
     "name": "stdout",
     "output_type": "stream",
     "text": [
      "[1, 3, 4]\n"
     ]
    }
   ],
   "source": [
    "changed = [1,3,4,2,6,8]\n",
    "print(doubletosingle(changed))"
   ]
  },
  {
   "cell_type": "code",
   "execution_count": null,
   "metadata": {},
   "outputs": [],
   "source": [
    "'''\n",
    "T.C = O(NlogN)\n",
    "S.C = O(N)\n",
    "'''"
   ]
  },
  {
   "cell_type": "code",
   "execution_count": null,
   "metadata": {},
   "outputs": [],
   "source": []
  }
 ],
 "metadata": {
  "kernelspec": {
   "display_name": "gendev",
   "language": "python",
   "name": "python3"
  },
  "language_info": {
   "codemirror_mode": {
    "name": "ipython",
    "version": 3
   },
   "file_extension": ".py",
   "mimetype": "text/x-python",
   "name": "python",
   "nbconvert_exporter": "python",
   "pygments_lexer": "ipython3",
   "version": "3.8.13"
  },
  "orig_nbformat": 4
 },
 "nbformat": 4,
 "nbformat_minor": 2
}
