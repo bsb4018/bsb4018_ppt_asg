{
 "cells": [
  {
   "attachments": {},
   "cell_type": "markdown",
   "metadata": {},
   "source": [
    "QUESTION 1"
   ]
  },
  {
   "cell_type": "code",
   "execution_count": null,
   "metadata": {},
   "outputs": [],
   "source": [
    "'''\n",
    "Given an integer `n`, return *`true` if it is a power of three. Otherwise, return `false`*.\n",
    "An integer `n` is a power of three, if there exists an integer `x` such that `n == 3x`.\n",
    "**Example 1:**\n",
    "```\n",
    "Input: n = 27\n",
    "Output: true\n",
    "Explanation: 27 = 33\n",
    "```\n",
    "**Example 2:**\n",
    "Input: n = 0\n",
    "Output: false\n",
    "Explanation: There is no x where 3x = 0.\n",
    "Example 3:\n",
    "Input: n = -1\n",
    "Output: false\n",
    "Explanation: There is no x where 3x = (-1).\n",
    "'''"
   ]
  },
  {
   "cell_type": "code",
   "execution_count": 1,
   "metadata": {},
   "outputs": [],
   "source": [
    "def divby3(n):\n",
    "    \n",
    "    if n <= 0:  #power can't reach 0\n",
    "        return False\n",
    "\n",
    "    if n == 1: #3 to the power 0 is equal to 1\n",
    "        return True\n",
    "\n",
    "    if n % 3 == 0: #mod means divisible\n",
    "        return divby3(n//3)\n",
    "        \n",
    "    return False"
   ]
  },
  {
   "cell_type": "code",
   "execution_count": 2,
   "metadata": {},
   "outputs": [
    {
     "name": "stdout",
     "output_type": "stream",
     "text": [
      "True\n",
      "False\n",
      "False\n"
     ]
    }
   ],
   "source": [
    "n = 27\n",
    "print(divby3(n))\n",
    "\n",
    "n = 0\n",
    "print(divby3(n))\n",
    "\n",
    "n = -1\n",
    "print(divby3(n))"
   ]
  },
  {
   "cell_type": "code",
   "execution_count": null,
   "metadata": {},
   "outputs": [],
   "source": [
    "'''\n",
    "T.C = O(logN)\n",
    "S.C = O(1)\n",
    "'''"
   ]
  },
  {
   "attachments": {},
   "cell_type": "markdown",
   "metadata": {},
   "source": [
    "QUESTION 2"
   ]
  },
  {
   "cell_type": "code",
   "execution_count": null,
   "metadata": {},
   "outputs": [],
   "source": [
    "'''\n",
    "**Question 2**\n",
    "You have a list `arr` of all integers in the range `[1, n]` sorted in a strictly increasing order. \n",
    "Apply the following algorithm on `arr`:\n",
    "- Starting from left to right, remove the first number and every other number afterward until you reach the end of the list.\n",
    "- Repeat the previous step again, but this time from right to left, remove the rightmost number and every other number from the remaining numbers.\n",
    "- Keep repeating the steps again, alternating left to right and right to left, until a single number remains.\n",
    "\n",
    "Given the integer `n`, return *the last number that remains in* `arr`.\n",
    "\n",
    "**Example 1:**\n",
    "```\n",
    "Input: n = 9\n",
    "Output: 6\n",
    "Explanation:\n",
    "arr = [1, 2,3, 4,5, 6,7, 8,9]\n",
    "arr = [2,4, 6,8]\n",
    "arr = [2, 6]\n",
    "arr = [6]\n",
    "```\n",
    "\n",
    "**Example 2:**\n",
    "Input: n = 1\n",
    "Output: 1\n",
    "'''"
   ]
  },
  {
   "cell_type": "code",
   "execution_count": 3,
   "metadata": {},
   "outputs": [],
   "source": [
    "def remove(n):\n",
    "    if n == 1:\n",
    "            return 1\n",
    "    else:\n",
    "        #removing 2k+1 elements = removing 2k elements\n",
    "        #removing 2k elements from left = 2 * removing k elements from right \n",
    "        #removing k elements from left -1 = k - removing k elements from right\n",
    "        # ((2k+1) // 2) == (2k//2)  \n",
    "        return 2 * (n//2 - remove(n//2) + 1)"
   ]
  },
  {
   "cell_type": "code",
   "execution_count": 5,
   "metadata": {},
   "outputs": [
    {
     "name": "stdout",
     "output_type": "stream",
     "text": [
      "6\n",
      "1\n"
     ]
    }
   ],
   "source": [
    "n = 9\n",
    "print(remove(n))\n",
    "\n",
    "n = 1\n",
    "print(remove(n))"
   ]
  },
  {
   "cell_type": "code",
   "execution_count": null,
   "metadata": {},
   "outputs": [],
   "source": [
    "'''\n",
    "T.C = O(logN)\n",
    "S.C = O(1)\n",
    "'''\n",
    "pass"
   ]
  },
  {
   "attachments": {},
   "cell_type": "markdown",
   "metadata": {},
   "source": [
    "QUESTION 3"
   ]
  },
  {
   "cell_type": "code",
   "execution_count": null,
   "metadata": {},
   "outputs": [],
   "source": [
    "'''\n",
    "**Question 3**\n",
    "****Given a set represented as a string, write a recursive code to print all subsets of it. \n",
    "The subsets can be printed in any order.\n",
    "**Example 1:**\n",
    "Input : set = “abc”\n",
    "Output : { “”, “a”, “b”, “c”, “ab”, “ac”, “bc”, “abc”}\n",
    "\n",
    "**Example 2:**\n",
    "Input : set = “abcd”\n",
    "Output : { “”, “a” ,”ab” ,”abc” ,”abcd”, “abd” ,”ac” ,”acd”, “ad” ,”b”, “bc” ,”bcd” ,”bd” ,”c” ,”cd” ,”d” }\n",
    "'''"
   ]
  },
  {
   "cell_type": "code",
   "execution_count": 40,
   "metadata": {},
   "outputs": [],
   "source": [
    "def recurset(string, index, curr, ans):\n",
    "\n",
    "    if index == len(string):\n",
    "        ans.append(curr) #store subset\n",
    "        return\n",
    " \n",
    "    recurset(string, index + 1,curr + string[index], ans)  #include current character\n",
    "    recurset(string, index + 1, curr, ans)  #exclude current character\n",
    " \n"
   ]
  },
  {
   "cell_type": "code",
   "execution_count": 42,
   "metadata": {},
   "outputs": [
    {
     "name": "stdout",
     "output_type": "stream",
     "text": [
      "['abc', 'ab', 'ac', 'a', 'bc', 'b', 'c', '']\n",
      "['abcd', 'abc', 'abd', 'ab', 'acd', 'ac', 'ad', 'a', 'bcd', 'bc', 'bd', 'b', 'cd', 'c', 'd', '']\n"
     ]
    }
   ],
   "source": [
    "s1 = \"abc\"\n",
    "index = 0\n",
    "curr = \"\"\n",
    "ans = []\n",
    "recurset(s1, index, curr, ans)\n",
    "print(ans)\n",
    "\n",
    "s1 = \"abcd\"\n",
    "index = 0\n",
    "curr = \"\"\n",
    "ans = []\n",
    "recurset(s1, index, curr, ans)\n",
    "print(ans)"
   ]
  },
  {
   "cell_type": "code",
   "execution_count": null,
   "metadata": {},
   "outputs": [],
   "source": [
    "'''\n",
    "T.C = O(2^N) where N is the length of the set\n",
    "S.C = O(N) for recursive stack space\n",
    "'''\n",
    "pass"
   ]
  },
  {
   "attachments": {},
   "cell_type": "markdown",
   "metadata": {},
   "source": [
    "QUESTION 4"
   ]
  },
  {
   "cell_type": "code",
   "execution_count": null,
   "metadata": {},
   "outputs": [],
   "source": [
    "'''\n",
    "**Question 4**\n",
    "Given a string calculate length of the string using recursion.\n",
    "**Examples:**\n",
    "Input : str = \"abcd\"\n",
    "Output :4\n",
    "\n",
    "Input : str = \"GEEKSFORGEEKS\"\n",
    "Output :13\n",
    "'''"
   ]
  },
  {
   "cell_type": "code",
   "execution_count": 43,
   "metadata": {},
   "outputs": [],
   "source": [
    "def strlen(str):\n",
    "\n",
    "    if str == '': #end of string\n",
    "        return 0\n",
    "    else :\n",
    "        return 1 + strlen(str[1:]) #recur from next index"
   ]
  },
  {
   "cell_type": "code",
   "execution_count": 44,
   "metadata": {},
   "outputs": [
    {
     "name": "stdout",
     "output_type": "stream",
     "text": [
      "4\n",
      "13\n"
     ]
    }
   ],
   "source": [
    "str = \"abcd\"\n",
    "print(strlen(str))\n",
    "\n",
    "str = \"GEEKSFORGEEKS\"\n",
    "print(strlen(str))"
   ]
  },
  {
   "cell_type": "code",
   "execution_count": null,
   "metadata": {},
   "outputs": [],
   "source": [
    "'''\n",
    "T.C = O(N) \n",
    "S.C = O(N) for recursion call stack. \n",
    "'''\n",
    "pass"
   ]
  },
  {
   "attachments": {},
   "cell_type": "markdown",
   "metadata": {},
   "source": [
    "QUESTION 5"
   ]
  },
  {
   "cell_type": "code",
   "execution_count": null,
   "metadata": {},
   "outputs": [],
   "source": [
    "'''\n",
    "**Question 5**\n",
    "We are given a string S, we need to find count of all contiguous substrings starting and ending with same character.\n",
    "**Examples :**\n",
    "Input  : S = \"abcab\"\n",
    "Output : 7\n",
    "There are 15 substrings of \"abcab\"\n",
    "a, ab, abc, abca, abcab, b, bc, bca\n",
    "bcab, c, ca, cab, a, ab, b\n",
    "Out of the above substrings, there\n",
    "are 7 substrings : a, abca, b, bcab,\n",
    "c, a and b.\n",
    "\n",
    "Input  : S = \"aba\"\n",
    "Output : 4\n",
    "The substrings are a, b, a and aba\n",
    "'''"
   ]
  },
  {
   "cell_type": "code",
   "execution_count": 49,
   "metadata": {},
   "outputs": [],
   "source": [
    "def substrsamestartend(str,i,j,n):\n",
    "\n",
    "    if (n == 1):\n",
    "        return 1\n",
    "    if (n <= 0):\n",
    "        return 0\n",
    " \n",
    "    a = substrsamestartend(str, i + 1, j, n - 1) \n",
    "    b = substrsamestartend(str, i, j - 1, n - 1)\n",
    "    c = substrsamestartend(str, i + 1, j - 1, n - 2)\n",
    "    res = (a + b) - c\n",
    "    if (str[i] == str[j]):\n",
    "        res += 1\n",
    " \n",
    "    return res"
   ]
  },
  {
   "cell_type": "code",
   "execution_count": 51,
   "metadata": {},
   "outputs": [
    {
     "name": "stdout",
     "output_type": "stream",
     "text": [
      "7\n",
      "4\n"
     ]
    }
   ],
   "source": [
    "S = \"abcab\"\n",
    "print(substrsamestartend(S,0,len(S)-1,len(S)))\n",
    "\n",
    "S = \"aba\"\n",
    "print(substrsamestartend(S,0,len(S)-1,len(S)))"
   ]
  },
  {
   "cell_type": "code",
   "execution_count": null,
   "metadata": {},
   "outputs": [],
   "source": [
    "'''\n",
    "T.C = O(3^N)\n",
    "S.C = O(N)\n",
    "'''\n",
    "pass"
   ]
  },
  {
   "attachments": {},
   "cell_type": "markdown",
   "metadata": {},
   "source": [
    "QUESTION 6"
   ]
  },
  {
   "cell_type": "code",
   "execution_count": null,
   "metadata": {},
   "outputs": [],
   "source": [
    "'''\n",
    "The tower of Hanoi is a famous puzzle where we have three rods and N disks. \n",
    "The objective of the puzzle is to move the entire stack to another rod. \n",
    "You are given the number of discs N. Initially, these discs are in the rod 1. \n",
    "You need to print all the steps of discs movement so that all the discs reach the 3rd rod. \n",
    "Also, you need to find the total moves.Note: The discs are arranged such that the top disc \n",
    "is numbered 1 and the bottom-most disc is numbered N. Also, all the discs have different \n",
    "sizes and a bigger disc cannot be put on the top of a smaller disc. Refer the provided link \n",
    "to get a better clarity about the puzzle.\n",
    "\n",
    "Input:\n",
    "N = 2\n",
    "Output:\n",
    "move disk 1 from rod 1 to rod 2\n",
    "move disk 2 from rod 1 to rod 3\n",
    "move disk 1 from rod 2 to rod 3\n",
    "3\n",
    "Explanation:For N=2 , steps will be\n",
    "as follows in the example and total\n",
    "3 steps will be taken.\n",
    "\n",
    "Input:\n",
    "N = 3\n",
    "Output:\n",
    "move disk 1 from rod 1 to rod 3\n",
    "move disk 2 from rod 1 to rod 2\n",
    "move disk 1 from rod 3 to rod 2\n",
    "move disk 3 from rod 1 to rod 3\n",
    "move disk 1 from rod 2 to rod 1\n",
    "move disk 2 from rod 2 to rod 3\n",
    "move disk 1 from rod 1 to rod 3\n",
    "7\n",
    "Explanation:For N=3 , steps will be\n",
    "as follows in the example and total\n",
    "7 steps will be taken.\n",
    "'''"
   ]
  },
  {
   "cell_type": "code",
   "execution_count": 52,
   "metadata": {},
   "outputs": [],
   "source": [
    "def hanoitower(n, from_rod, to_rod, aux_rod):\n",
    "    if n == 0:\n",
    "        return \n",
    "    hanoitower(n-1, from_rod, aux_rod, to_rod)  #function call for N – 1 th disk.\n",
    "    print(\"Move disk\", n, \"from rod\", from_rod, \"to rod\", to_rod)\n",
    "    hanoitower(n-1, aux_rod, to_rod, from_rod)  #function call for N – 1 th disk.\n",
    "\n",
    "def TOH(N):\n",
    "    return hanoitower(N,'A', 'C', 'B')"
   ]
  },
  {
   "cell_type": "code",
   "execution_count": 56,
   "metadata": {},
   "outputs": [
    {
     "name": "stdout",
     "output_type": "stream",
     "text": [
      "Move disk 1 from rod A to rod B\n",
      "Move disk 2 from rod A to rod C\n",
      "Move disk 1 from rod B to rod C\n",
      "\n",
      "Move disk 1 from rod A to rod C\n",
      "Move disk 2 from rod A to rod B\n",
      "Move disk 1 from rod C to rod B\n",
      "Move disk 3 from rod A to rod C\n",
      "Move disk 1 from rod B to rod A\n",
      "Move disk 2 from rod B to rod C\n",
      "Move disk 1 from rod A to rod C\n"
     ]
    }
   ],
   "source": [
    "N = 2\n",
    "TOH(N)\n",
    "\n",
    "print()\n",
    "\n",
    "N = 3\n",
    "TOH(N)\n"
   ]
  },
  {
   "cell_type": "code",
   "execution_count": null,
   "metadata": {},
   "outputs": [],
   "source": [
    "'''\n",
    "T.C = O(2^N) 2 possible solutions for each disk\n",
    "S.C = O(N)  stack space\n",
    "'''\n",
    "pass"
   ]
  },
  {
   "attachments": {},
   "cell_type": "markdown",
   "metadata": {},
   "source": [
    "QUESTION 7"
   ]
  },
  {
   "cell_type": "code",
   "execution_count": null,
   "metadata": {},
   "outputs": [],
   "source": [
    "'''\n",
    "**Question 7**\n",
    "Given a string **str**, the task is to print all the permutations of\n",
    "**str**. A **permutation** is an arrangement of all or part of a set of objects, \n",
    "with regard to the order of the arrangement. For instance, the words ‘bat’ and ‘tab’\n",
    "represents two distinct permutation (or arrangements) of a similar three letter word.\n",
    "**Examples:**\n",
    "Input: str = “cd”\n",
    "**Output:** cd dc\n",
    " \n",
    "**Input:** str = “abb”\n",
    "**Output:** abb abb bab bba bab bba\n",
    "'''"
   ]
  },
  {
   "cell_type": "code",
   "execution_count": 59,
   "metadata": {},
   "outputs": [],
   "source": [
    "def allstrpermutations(str):\n",
    "    def recursivePermutation(index,nums,length,lists):\n",
    "            if(index==length):\n",
    "                ans=[]\n",
    "                for i in range(0,length):\n",
    "                    ans.append(nums[i])\n",
    "                lists.append(ans[:])\n",
    "                return\n",
    "            else:\n",
    "                for i in range(index,length):\n",
    "                    swap(i,index,nums) #include the index\n",
    "                    recursivePermutation(index+1,nums,length,lists) #recur for next index\n",
    "                    swap(i,index,nums) #exclude the index\n",
    "    \n",
    "    def swap(i,j,nums):\n",
    "        temp = nums[i]\n",
    "        nums[i]=nums[j]\n",
    "        nums[j]=temp\n",
    "        \n",
    "    lists=[]\n",
    "    nums = list(str)\n",
    "    recursivePermutation(0,nums,len(nums),lists)\n",
    "    \n",
    "    for elem in lists:\n",
    "        newstr = \"\".join(elem)\n",
    "        print(newstr)\n",
    "    \n",
    "    return \"All permutations printed\""
   ]
  },
  {
   "cell_type": "code",
   "execution_count": 61,
   "metadata": {},
   "outputs": [
    {
     "name": "stdout",
     "output_type": "stream",
     "text": [
      "cd\n",
      "dc\n",
      "All permutations printed\n",
      "abb\n",
      "abb\n",
      "bab\n",
      "bba\n",
      "bba\n",
      "bab\n",
      "All permutations printed\n"
     ]
    }
   ],
   "source": [
    "str = \"cd\"\n",
    "print(allstrpermutations(str))\n",
    "\n",
    "str = \"abb\"\n",
    "print(allstrpermutations(str))"
   ]
  },
  {
   "cell_type": "code",
   "execution_count": null,
   "metadata": {},
   "outputs": [],
   "source": [
    "'''\n",
    "T.C = O(N * N!) where N is the length of the string\n",
    "S.C = O(N)\n",
    "'''\n",
    "pass"
   ]
  },
  {
   "attachments": {},
   "cell_type": "markdown",
   "metadata": {},
   "source": [
    "QUESTION 8"
   ]
  },
  {
   "cell_type": "code",
   "execution_count": null,
   "metadata": {},
   "outputs": [],
   "source": [
    "'''\n",
    "**Question 8**\n",
    "Given a string, count total number of consonants in it. \n",
    "A consonant is an English alphabet character that is not vowel (a, e, i, o and u). \n",
    "Examples of constants are b, c, d, f, and g.\n",
    "**Examples :**\n",
    "Input : abc de\n",
    "Output : 3\n",
    "There are three consonants b, c and d.\n",
    "\n",
    "Input : geeksforgeeks portal\n",
    "Output : 12\n",
    "'''"
   ]
  },
  {
   "cell_type": "code",
   "execution_count": 74,
   "metadata": {},
   "outputs": [],
   "source": [
    "def check(ch): \n",
    "      \n",
    "    ch = ch.upper() #upper case all for ease of checking\n",
    "    return not (ch == 'A' or ch == 'E' or ch == 'I' or ch == 'O' or ch == 'U') and ord(ch) >= 65 and ord(ch) <= 90\n",
    "\n",
    "def countconsonants(str, n):\n",
    "      \n",
    "    if n == 1:\n",
    "        return check(str[0]) #check if consonat\n",
    "  \n",
    "    return countconsonants(str, n - 1) + check(str[n-1])"
   ]
  },
  {
   "cell_type": "code",
   "execution_count": 76,
   "metadata": {},
   "outputs": [
    {
     "name": "stdout",
     "output_type": "stream",
     "text": [
      "3\n",
      "12\n"
     ]
    }
   ],
   "source": [
    "str = \"abc de\"\n",
    "print(countconsonants(str,len(str)))\n",
    "\n",
    "str = \"geeksforgeeks portal\"\n",
    "print(countconsonants(str,len(str)))"
   ]
  },
  {
   "cell_type": "code",
   "execution_count": null,
   "metadata": {},
   "outputs": [],
   "source": [
    "'''\n",
    "T. C = O(N) where N is the length of the string\n",
    "S.C = O(N) recursive call stack space\n",
    "'''\n",
    "pass"
   ]
  },
  {
   "cell_type": "code",
   "execution_count": null,
   "metadata": {},
   "outputs": [],
   "source": []
  },
  {
   "cell_type": "code",
   "execution_count": null,
   "metadata": {},
   "outputs": [],
   "source": []
  },
  {
   "cell_type": "code",
   "execution_count": null,
   "metadata": {},
   "outputs": [],
   "source": []
  }
 ],
 "metadata": {
  "kernelspec": {
   "display_name": "gendev",
   "language": "python",
   "name": "python3"
  },
  "language_info": {
   "codemirror_mode": {
    "name": "ipython",
    "version": 3
   },
   "file_extension": ".py",
   "mimetype": "text/x-python",
   "name": "python",
   "nbconvert_exporter": "python",
   "pygments_lexer": "ipython3",
   "version": "3.8.13"
  },
  "orig_nbformat": 4
 },
 "nbformat": 4,
 "nbformat_minor": 2
}
