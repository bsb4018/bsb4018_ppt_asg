{
 "cells": [
  {
   "attachments": {},
   "cell_type": "markdown",
   "metadata": {},
   "source": [
    "QUESTION 1"
   ]
  },
  {
   "cell_type": "code",
   "execution_count": null,
   "metadata": {},
   "outputs": [],
   "source": [
    "'''\n",
    "**Question 1**\n",
    "Given three integer arrays arr1, arr2 and arr3 **sorted** in **strictly increasing** order, return a \n",
    "sorted array of **only** the integers that appeared in **all** three arrays.\n",
    "**Example 1:**\n",
    "Input: arr1 = [1,2,3,4,5], arr2 = [1,2,5,7,9], arr3 = [1,3,4,5,8]\n",
    "Output: [1,5]\n",
    "\n",
    "**Explanation:** Only 1 and 5 appeared in the three arrays.\n",
    "'''\n",
    "pass"
   ]
  },
  {
   "cell_type": "code",
   "execution_count": 3,
   "metadata": {},
   "outputs": [],
   "source": [
    "def threesort(arr1,arr2,arr3):\n",
    "    #use binary sort for sorted arrays\n",
    "    def find(arr, val):\n",
    "        left, right = 0, len(arr) - 1\n",
    "        while left < right:\n",
    "            mid = int((left + right)/2)\n",
    "            if arr[mid] >= val:\n",
    "                right = mid\n",
    "            else:\n",
    "                left = mid + 1\n",
    "        return arr[left] == val\n",
    "\n",
    "    res = []\n",
    "    for num in arr1:\n",
    "        if find(arr2, num) and find(arr3, num):\n",
    "            res.append(num)\n",
    "    return res"
   ]
  },
  {
   "cell_type": "code",
   "execution_count": 4,
   "metadata": {},
   "outputs": [
    {
     "name": "stdout",
     "output_type": "stream",
     "text": [
      "[1, 5]\n"
     ]
    }
   ],
   "source": [
    "arr1 = [1,2,3,4,5]\n",
    "arr2 = [1,2,5,7,9]\n",
    "arr3 = [1,3,4,5,8]\n",
    "print(threesort(arr1, arr2, arr3))"
   ]
  },
  {
   "cell_type": "code",
   "execution_count": null,
   "metadata": {},
   "outputs": [],
   "source": [
    "'''\n",
    "T.C = O(NLogN)\n",
    "S.C = O(1) \n",
    "'''"
   ]
  },
  {
   "attachments": {},
   "cell_type": "markdown",
   "metadata": {},
   "source": [
    "QUESTION 2"
   ]
  },
  {
   "cell_type": "code",
   "execution_count": null,
   "metadata": {},
   "outputs": [],
   "source": [
    "'''\n",
    "**Question 2**\n",
    "Given two **0-indexed** integer arrays nums1 and nums2, return *a list* answer *of size* 2 *where:*\n",
    "- answer[0] *is a list of all **distinct** integers in* nums1 *which are **not** present in* nums2*.*\n",
    "- answer[1] *is a list of all **distinct** integers in* nums2 *which are **not** present in* nums1.\n",
    "\n",
    "**Note** that the integers in the lists may be returned in **any** order.\n",
    "**Example 1:**\n",
    "**Input:** nums1 = [1,2,3], nums2 = [2,4,6]\n",
    "**Output:** [[1,3],[4,6]]\n",
    "**Explanation:**\n",
    "For nums1, nums1[1] = 2 is present at index 0 of nums2, whereas nums1[0] = 1 and nums1[2] = 3 are not present in nums2. \n",
    "Therefore, answer[0] = [1,3].\n",
    "For nums2, nums2[0] = 2 is present at index 1 of nums1, whereas nums2[1] = 4 and nums2[2] = 6 are not present in nums2. \n",
    "Therefore, answer[1] = [4,6].\n",
    "'''"
   ]
  },
  {
   "cell_type": "code",
   "execution_count": 5,
   "metadata": {},
   "outputs": [],
   "source": [
    "def bothfunc(nums1, nums2):\n",
    "    mp1 = {}\n",
    "    mp2 = {}\n",
    "    res1 = []\n",
    "    res2 = []\n",
    "\n",
    "    # store distinct elements of nums1\n",
    "    for i in range(len(nums1)):\n",
    "        if mp1.get(nums1[i], 0) == 0 :\n",
    "            mp1[nums1[i]] = 1\n",
    "\n",
    "    # store distinct elements of nums2\n",
    "    for i in range(len(nums2)):\n",
    "        if mp2.get(nums2[i], 0) == 0 :\n",
    "            mp2[nums2[i]] = 1\n",
    "        \n",
    "    #  iterate both arrays again and check if the ith element is present\n",
    "    for x in nums1:\n",
    "        if mp2.get(x, 0) == 0 :\n",
    "            res1.append(x)\n",
    "            mp2[x] = 1\n",
    "\n",
    "    for y in nums2 : \n",
    "        if mp1.get(y, 0) == 0 :\n",
    "            res2.append(y)\n",
    "            mp1[y] = 1\n",
    "        \n",
    "    return [res1, res2]"
   ]
  },
  {
   "cell_type": "code",
   "execution_count": 6,
   "metadata": {},
   "outputs": [
    {
     "name": "stdout",
     "output_type": "stream",
     "text": [
      "[[1, 3], [4, 6]]\n"
     ]
    }
   ],
   "source": [
    "nums1 = [1,2,3]\n",
    "nums2 = [2,4,6]\n",
    "print(bothfunc(nums1,nums2))"
   ]
  },
  {
   "cell_type": "code",
   "execution_count": null,
   "metadata": {},
   "outputs": [],
   "source": [
    "'''\n",
    "T.C = O(M+N)\n",
    "S.C = O(M+N) where M and N are the size of the arrays\n",
    "'''"
   ]
  },
  {
   "attachments": {},
   "cell_type": "markdown",
   "metadata": {},
   "source": [
    "QUESTION 3"
   ]
  },
  {
   "cell_type": "code",
   "execution_count": null,
   "metadata": {},
   "outputs": [],
   "source": [
    "'''\n",
    "**Question 3**\n",
    "Given a 2D integer array matrix, return *the **transpose** of* matrix.\n",
    "The **transpose** of a matrix is the matrix flipped over its main diagonal, switching the matrix's row and column indices.\n",
    "**Example 1:**\n",
    "Input: matrix = [[1,2,3],[4,5,6],[7,8,9]]\n",
    "Output: [[1,4,7],[2,5,8],[3,6,9]]\n",
    "'''\n",
    "pass"
   ]
  },
  {
   "cell_type": "code",
   "execution_count": 7,
   "metadata": {},
   "outputs": [],
   "source": [
    "def transpose(matrix):\n",
    "    res = []\n",
    "    for i in range(len(matrix[0])):\n",
    "        temp = []\n",
    "        for j in range(len(matrix)):\n",
    "            temp.append(matrix[j][i])\n",
    "\n",
    "        res.append(temp)\n",
    "    return (res)"
   ]
  },
  {
   "cell_type": "code",
   "execution_count": 8,
   "metadata": {},
   "outputs": [
    {
     "name": "stdout",
     "output_type": "stream",
     "text": [
      "[[1, 4, 7], [2, 5, 8], [3, 6, 9]]\n"
     ]
    }
   ],
   "source": [
    "matrix = [[1,2,3],[4,5,6],[7,8,9]]\n",
    "print(transpose(matrix))"
   ]
  },
  {
   "cell_type": "code",
   "execution_count": null,
   "metadata": {},
   "outputs": [],
   "source": [
    "'''\n",
    "T.C =  O(M * N), where M and N are the number of rows and columns in the given matrix\n",
    "S.C = O(M * N)\n",
    "'''\n",
    "pass"
   ]
  },
  {
   "attachments": {},
   "cell_type": "markdown",
   "metadata": {},
   "source": [
    "QUESTION 4"
   ]
  },
  {
   "cell_type": "code",
   "execution_count": null,
   "metadata": {},
   "outputs": [],
   "source": [
    "'''\n",
    "**Question 4**\n",
    "Given an integer array nums of 2n integers, group these integers into n pairs (a1, b1), (a2, b2), ..., (an, bn) \n",
    "such that the sum of min(ai, bi) for all i is **maximized**. Return *the maximized sum*.\n",
    "\n",
    "**Example 1:**\n",
    "Input: nums = [1,4,3,2]\n",
    "Output: 4\n",
    "**Explanation:** All possible pairings (ignoring the ordering of elements) are:\n",
    "1. (1, 4), (2, 3) -> min(1, 4) + min(2, 3) = 1 + 2 = 3\n",
    "2. (1, 3), (2, 4) -> min(1, 3) + min(2, 4) = 1 + 2 = 3\n",
    "3. (1, 2), (3, 4) -> min(1, 2) + min(3, 4) = 1 + 3 = 4\n",
    "So the maximum possible sum is 4.\n",
    "'''\n",
    "pass"
   ]
  },
  {
   "cell_type": "code",
   "execution_count": 9,
   "metadata": {},
   "outputs": [],
   "source": [
    "def maxsumposs(nums):\n",
    "    #sort the numbers\n",
    "    nums.sort()\n",
    "    pairsum = 0\n",
    "    for i in range(0,len(nums),2): #shift by 2, in pairs\n",
    "        pairsum += nums[i]\n",
    "    return pairsum"
   ]
  },
  {
   "cell_type": "code",
   "execution_count": 10,
   "metadata": {},
   "outputs": [
    {
     "name": "stdout",
     "output_type": "stream",
     "text": [
      "4\n"
     ]
    }
   ],
   "source": [
    "\n",
    "nums = [1,4,3,2]\n",
    "print(maxsumposs(nums))"
   ]
  },
  {
   "cell_type": "code",
   "execution_count": 11,
   "metadata": {},
   "outputs": [],
   "source": [
    "'''\n",
    "T.C = O(N/2) + O(NLogN) = O(NlogN) , N/2 for loop and NlogN for sorting\n",
    "S.C = O(1)\n",
    "'''\n",
    "pass"
   ]
  },
  {
   "attachments": {},
   "cell_type": "markdown",
   "metadata": {},
   "source": [
    "QUESTION 5"
   ]
  },
  {
   "cell_type": "code",
   "execution_count": null,
   "metadata": {},
   "outputs": [],
   "source": [
    "'''\n",
    "You have n coins and you want to build a staircase with these coins. \n",
    "The staircase consists of k rows where the ith row has exactly i coins. \n",
    "The last row of the staircase **may be** incomplete.\n",
    "Given the integer n, return *the number of **complete rows** of the staircase you will build*.\n",
    "**nput:** n = 5\n",
    "**Output:** 2\n",
    "**Explanation:** Because the 3rd row is incomplete, we return 2\n",
    "'''"
   ]
  },
  {
   "cell_type": "code",
   "execution_count": 12,
   "metadata": {},
   "outputs": [],
   "source": [
    "def staircoins(n):\n",
    "    left, right = 0, n\n",
    "    while left <= right:\n",
    "        k = (right + left) // 2  #assume k coins completed\n",
    "        curr = k * (k + 1) // 2 #current sum of k coins\n",
    "        if curr == n: #we reach n\n",
    "            return k\n",
    "        if n < curr: #we over reached n\n",
    "            right = k - 1\n",
    "        else:  #we under reached n\n",
    "            left = k + 1\n",
    "    return right"
   ]
  },
  {
   "cell_type": "code",
   "execution_count": 14,
   "metadata": {},
   "outputs": [
    {
     "name": "stdout",
     "output_type": "stream",
     "text": [
      "2\n"
     ]
    }
   ],
   "source": [
    "n = 5\n",
    "print(staircoins(n))"
   ]
  },
  {
   "cell_type": "code",
   "execution_count": null,
   "metadata": {},
   "outputs": [],
   "source": [
    "'''\n",
    "T.C = O(logN)\n",
    "S.C = O(1)\n",
    "'''"
   ]
  },
  {
   "attachments": {},
   "cell_type": "markdown",
   "metadata": {},
   "source": [
    "QUESTION 6"
   ]
  },
  {
   "cell_type": "code",
   "execution_count": null,
   "metadata": {},
   "outputs": [],
   "source": [
    "'''\n",
    "**Question 6**\n",
    "Given an integer array nums sorted in **non-decreasing** order, return *an array \n",
    "of **the squares of each number** sorted in non-decreasing order*.\n",
    "**Example 1:**\n",
    "Input: nums = [-4,-1,0,3,10]\n",
    "Output: [0,1,9,16,100]\n",
    "**Explanation:** After squaring, the array becomes [16,1,0,9,100].\n",
    "After sorting, it becomes [0,1,9,16,100]\n",
    "'''\n",
    "pass"
   ]
  },
  {
   "cell_type": "code",
   "execution_count": 20,
   "metadata": {},
   "outputs": [],
   "source": [
    "def nondecreasingsq(nums):\n",
    "    res = [0 for _ in nums]\n",
    "    left = 0\n",
    "    right = len(nums)-1\n",
    "\n",
    "    for i in reversed(range(len(nums))): # loop from end\n",
    "        if abs(nums[left]) > abs(nums[right]): # left element is greater so pick it\n",
    "            res[i] = nums[left] ** 2 # square it and add to new list\n",
    "            left += 1 #increment left index\n",
    "        else:\n",
    "            res[i] = nums[right] ** 2 #right element greater so pick and sqaure it and add to new list\n",
    "            right -= 1 #decrement right index\n",
    "\n",
    "    return res"
   ]
  },
  {
   "cell_type": "code",
   "execution_count": 21,
   "metadata": {},
   "outputs": [
    {
     "name": "stdout",
     "output_type": "stream",
     "text": [
      "[0, 1, 9, 16, 100]\n"
     ]
    }
   ],
   "source": [
    "nums = [-4,-1,0,3,10]\n",
    "print(nondecreasingsq(nums))"
   ]
  },
  {
   "cell_type": "code",
   "execution_count": null,
   "metadata": {},
   "outputs": [],
   "source": [
    "'''\n",
    "T.C  = O(N)\n",
    "S.C = O(1)\n",
    "'''"
   ]
  },
  {
   "attachments": {},
   "cell_type": "markdown",
   "metadata": {},
   "source": [
    "QUESTION 7"
   ]
  },
  {
   "cell_type": "code",
   "execution_count": null,
   "metadata": {},
   "outputs": [],
   "source": [
    "'''\n",
    "You are given an m x n matrix M initialized with all 0's and an array of operations ops, \n",
    "where ops[i] = [ai, bi] means M[x][y] should be incremented by one for all 0 <= x < ai and 0 <= y < bi.\n",
    "Count and return *the number of maximum integers in the matrix after performing all the operations*\n",
    "**Example 1:**\n",
    "**Input:** m = 3, n = 3, ops = [[2,2],[3,3]]\n",
    "**Output:** 4\n",
    "**Explanation:** The maximum integer in M is 2, and there are four of it in M. So return 4.\n",
    "'''"
   ]
  },
  {
   "cell_type": "code",
   "execution_count": 22,
   "metadata": {},
   "outputs": [],
   "source": [
    "def minops(m,n,ops):\n",
    "    for i, j in ops:\n",
    "        m = min(m, i)\n",
    "        n = min(n, j)\n",
    "\t    \n",
    "    return m * n"
   ]
  },
  {
   "cell_type": "code",
   "execution_count": 23,
   "metadata": {},
   "outputs": [
    {
     "name": "stdout",
     "output_type": "stream",
     "text": [
      "4\n"
     ]
    }
   ],
   "source": [
    "m = 3\n",
    "n = 3\n",
    "ops = [[2,2],[3,3]]\n",
    "print(minops(m,n,ops))"
   ]
  },
  {
   "cell_type": "code",
   "execution_count": null,
   "metadata": {},
   "outputs": [],
   "source": [
    "'''\n",
    "T.C = O(N) where N = Number of elements in ops i.e number of operations\n",
    "S.C = O(1)\n",
    "'''"
   ]
  },
  {
   "attachments": {},
   "cell_type": "markdown",
   "metadata": {},
   "source": [
    "QUESTION 8"
   ]
  },
  {
   "cell_type": "code",
   "execution_count": null,
   "metadata": {},
   "outputs": [],
   "source": [
    "'''\n",
    "**Question 8**\n",
    "Given the array nums consisting of 2n elements in the form [x1,x2,...,xn,y1,y2,...,yn].\n",
    "*Return the array in the form* [x1,y1,x2,y2,...,xn,yn].\n",
    "**Example 1:**\n",
    "**Input:** nums = [2,5,1,3,4,7], n = 3\n",
    "**Output:** [2,3,5,4,1,7]\n",
    "**Explanation:** Since x1=2, x2=5, x3=1, y1=3, y2=4, y3=7 then the answer is [2,3,5,4,1,7].\n",
    "'''"
   ]
  },
  {
   "cell_type": "code",
   "execution_count": 24,
   "metadata": {},
   "outputs": [],
   "source": [
    "def arrfunc(nums, n):\n",
    "        \n",
    "    i = 0\n",
    "    j = n\n",
    "    res = []\n",
    "        \n",
    "    while(j<len(nums)):\n",
    "        res.append(nums[i])\n",
    "        res.append(nums[j])\n",
    "        i += 1\n",
    "        j += 1\n",
    "        \n",
    "    return res"
   ]
  },
  {
   "cell_type": "code",
   "execution_count": 25,
   "metadata": {},
   "outputs": [
    {
     "name": "stdout",
     "output_type": "stream",
     "text": [
      "[2, 3, 5, 4, 1, 7]\n"
     ]
    }
   ],
   "source": [
    "nums = [2,5,1,3,4,7]\n",
    "n = 3\n",
    "print(arrfunc(nums,n))"
   ]
  },
  {
   "cell_type": "code",
   "execution_count": null,
   "metadata": {},
   "outputs": [],
   "source": [
    "'''\n",
    "T.C = O(N)\n",
    "S.C = O(1)\n",
    "'''"
   ]
  },
  {
   "cell_type": "code",
   "execution_count": null,
   "metadata": {},
   "outputs": [],
   "source": []
  },
  {
   "cell_type": "code",
   "execution_count": null,
   "metadata": {},
   "outputs": [],
   "source": []
  }
 ],
 "metadata": {
  "kernelspec": {
   "display_name": "gendev",
   "language": "python",
   "name": "python3"
  },
  "language_info": {
   "codemirror_mode": {
    "name": "ipython",
    "version": 3
   },
   "file_extension": ".py",
   "mimetype": "text/x-python",
   "name": "python",
   "nbconvert_exporter": "python",
   "pygments_lexer": "ipython3",
   "version": "3.8.13"
  },
  "orig_nbformat": 4
 },
 "nbformat": 4,
 "nbformat_minor": 2
}
