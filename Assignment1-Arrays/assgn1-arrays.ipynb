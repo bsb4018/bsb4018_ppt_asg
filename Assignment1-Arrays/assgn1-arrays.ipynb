{
 "cells": [
  {
   "attachments": {},
   "cell_type": "markdown",
   "metadata": {},
   "source": [
    "QUESTION 1"
   ]
  },
  {
   "cell_type": "code",
   "execution_count": null,
   "metadata": {},
   "outputs": [],
   "source": [
    "'''\n",
    "**Q1.** Given an array of integers nums and an integer target, return indices of the two numbers such \n",
    "that they add up to target.\n",
    "You may assume that each input would have exactly one solution, and you may not use the same element twice.\n",
    "You can return the answer in any order.\n",
    "\n",
    "**Example:**\n",
    "Input: nums = [2,7,11,15], target = 9\n",
    "Output0 [0,1]\n",
    "\n",
    "**Explanation:** Because nums[0] + nums[1] == 9, we return [0, 1]\n",
    "'''"
   ]
  },
  {
   "cell_type": "code",
   "execution_count": 1,
   "metadata": {},
   "outputs": [
    {
     "name": "stdout",
     "output_type": "stream",
     "text": [
      "[0, 1]\n"
     ]
    }
   ],
   "source": [
    "def addup(arr, target):\n",
    "    \n",
    "    #We store the array_value, index in this dictionary\n",
    "    store = dict()\n",
    "\n",
    "    #We store the our result here\n",
    "    ans = []\n",
    "\n",
    "    #enumerate gives index,val\n",
    "    for i,j in enumerate(arr):\n",
    "\n",
    "            #for x check if target-x is already present in the dictionary that means we got our result \n",
    "            if target-j in store:\n",
    "                ans.append(store[target-j])\n",
    "                ans.append(i)\n",
    "                break\n",
    "            else:\n",
    "                #we did not find the result so just store the {index,val} and process further\n",
    "                store[j] = i\n",
    "\n",
    "    return ans\n",
    "\n",
    "arr = [2,7,11,15]\n",
    "target = 9\n",
    "val = addup(arr, target)\n",
    "print(val)"
   ]
  },
  {
   "attachments": {},
   "cell_type": "markdown",
   "metadata": {},
   "source": [
    "QUESTION 2"
   ]
  },
  {
   "cell_type": "code",
   "execution_count": null,
   "metadata": {},
   "outputs": [],
   "source": [
    "'''\n",
    "**Q2.** Given an integer array nums and an integer val, remove all occurrences of val in nums in-place. \n",
    "The order of the elements may be changed. Then return the number of elements in nums which are not equal to val.\n",
    "Consider the number of elements in nums which are not equal to val be k, to get accepted, you need to do the following things:\n",
    "- Change the array nums such that the first k elements of nums contain the elements which are not equal to val. \n",
    "The remaining elements of nums are not important as well as the size of nums.\n",
    "- Return k.\n",
    "\n",
    "**Example :**\n",
    "Input: nums = [3,2,2,3], val = 3\n",
    "Output: 2, nums = [2,2,_*,_*]\n",
    "\n",
    "**Explanation:** Your function should return k = 2, with the first two elements of nums being 2. \n",
    "It does not matter what you leave beyond the returned k (hence they are underscores)[\n",
    "\n",
    "'''"
   ]
  },
  {
   "cell_type": "code",
   "execution_count": 5,
   "metadata": {},
   "outputs": [
    {
     "name": "stdout",
     "output_type": "stream",
     "text": [
      "2\n"
     ]
    }
   ],
   "source": [
    "def removeip(arr, val):\n",
    "\n",
    "    #for indexing the loop\n",
    "    idx = 0\n",
    "\n",
    "    #to store answer\n",
    "    count = 0\n",
    "\n",
    "    for elem in arr:\n",
    "        #current element is not equal to the gievn value\n",
    "        if elem != val:\n",
    "            arr[idx] = val\n",
    "            idx += 1\n",
    "            \n",
    "            #add 1 to result since we found one element not equal to the gievn value\n",
    "            count += 1 \n",
    "    \n",
    "    return count\n",
    "\n",
    "\n",
    "arr = [3,2,2,3]\n",
    "val = 3\n",
    "ans = removeip(arr, val)\n",
    "print(ans)"
   ]
  },
  {
   "attachments": {},
   "cell_type": "markdown",
   "metadata": {},
   "source": [
    "QUESTION 3"
   ]
  },
  {
   "cell_type": "code",
   "execution_count": null,
   "metadata": {},
   "outputs": [],
   "source": [
    "'''\n",
    "**Q3.** Given a sorted array of distinct integers and a target value, return the index if the target is found. \n",
    "If not, return the index where it would be if it were inserted in order.\n",
    "You must write an algorithm with O(log n) runtime complexity.\n",
    "**Example 1:**\n",
    "Input: nums = [1,3,5,6], target = 5\n",
    "\n",
    "Output: 2\n",
    "'''\n",
    "pass"
   ]
  },
  {
   "cell_type": "code",
   "execution_count": 11,
   "metadata": {},
   "outputs": [
    {
     "name": "stdout",
     "output_type": "stream",
     "text": [
      "2\n"
     ]
    }
   ],
   "source": [
    "def findit(nums, target):\n",
    "    left = 0\n",
    "    right = len(nums)\n",
    "\n",
    "    while left < right:\n",
    "        # Get the middle element\n",
    "        mid = int((left + right) / 2)\n",
    "\n",
    "        # Target found\n",
    "        if nums[mid] == target:\n",
    "            return mid\n",
    "        elif nums[mid] < target:\n",
    "            left = mid + 1\n",
    "        else:\n",
    "            right = mid\n",
    "    \n",
    "    # Target not found so left position indicates the expected position\n",
    "    return left\n",
    "        \n",
    "nums = [1,3,5,6]\n",
    "target = 5\n",
    "print(findit(nums, target))"
   ]
  },
  {
   "attachments": {},
   "cell_type": "markdown",
   "metadata": {},
   "source": [
    "QUESTION 4"
   ]
  },
  {
   "cell_type": "code",
   "execution_count": null,
   "metadata": {},
   "outputs": [],
   "source": [
    "'''\n",
    "*Q4.** You are given a large integer represented as an integer array digits, where each digits[i] is the ith digit of the integer. \n",
    "The digits are ordered from most significant to least significant in left-to-right order. The large integer does not contain any \n",
    "leading 0's.\n",
    "Increment the large integer by one and return the resulting array of digits.\n",
    "**Example 1:**\n",
    "Input: digits = [1,2,3]\n",
    "Output: [1,2,4]\n",
    "\n",
    "**Explanation:** The array represents the integer 123.\n",
    "\n",
    "Incrementing by one gives 123 + 1 = 124.\n",
    "Thus, the result should be [1,2,4].\n",
    "'''\n",
    "pass"
   ]
  },
  {
   "cell_type": "code",
   "execution_count": 26,
   "metadata": {},
   "outputs": [
    {
     "name": "stdout",
     "output_type": "stream",
     "text": [
      "[1, 0, 0, 0, 0]\n"
     ]
    }
   ],
   "source": [
    "def largeinc(digits):\n",
    "    \n",
    "    #Find number of digits\n",
    "    l = len(digits)\n",
    "\n",
    "    #FInd the last digit\n",
    "    last_dig = digits[l-1]\n",
    "\n",
    "    #Last digit between 0 to 8 -> just increment last digit by 1\n",
    "    if last_dig >= 0 and last_dig<=8:\n",
    "        digits[l-1] = digits[l-1] + 1\n",
    "\n",
    "    #Last digit is 9\n",
    "    if last_dig == 9:\n",
    "        res = []\n",
    "        nos=0\n",
    "\n",
    "        #Find the number \n",
    "        for i in range(l):\n",
    "            nos = (nos*10) + digits[i]\n",
    "        \n",
    "        #Increment the number\n",
    "        nos = nos + 1\n",
    "\n",
    "        #Break the number down into digits\n",
    "        while nos > 0:\n",
    "            rem = nos % 10\n",
    "            res.append(rem)\n",
    "            nos = nos // 10\n",
    "        \n",
    "        #Reverse since the answer is from MSB to LSB from left to right\n",
    "        res.reverse()\n",
    "        return res\n",
    "    \n",
    "    #return for the initial 0 to 8 case\n",
    "    return digits\n",
    "\n",
    "\n",
    "digits = [9,9,9,9]\n",
    "print(largeinc(digits))"
   ]
  },
  {
   "attachments": {},
   "cell_type": "markdown",
   "metadata": {},
   "source": [
    "QUESTION 5"
   ]
  },
  {
   "cell_type": "code",
   "execution_count": null,
   "metadata": {},
   "outputs": [],
   "source": [
    "'''\n",
    "**Q5.** You are given two integer arrays nums1 and nums2, sorted in non-decreasing order, \n",
    "and two integers m and n, representing the number of elements in nums1 and nums2 respectively.\n",
    "Merge nums1 and nums2 into a single array sorted in non-decreasing order.\n",
    "The final sorted array should not be returned by the function, but instead be stored inside the array nums1. \n",
    "To accommodate this, nums1 has a length of m + n, where the first m elements denote the elements that should be \n",
    "merged, and the last n elements are set to 0 and should be ignored. nums2 has a length of n.\n",
    "\n",
    "**Example 1:**\n",
    "Input: nums1 = [1,2,3,0,0,0], m = 3, nums2 = [2,5,6], n = 3\n",
    "Output: [1,2,2,3,5,6]\n",
    "\n",
    "**Explanation:** The arrays we are merging are [1,2,3] and [2,5,6].\n",
    "The result of the merge is [1,2,2,3,5,6] with the underlined elements coming from nums1.\n",
    "'''\n",
    "pass"
   ]
  },
  {
   "cell_type": "code",
   "execution_count": 31,
   "metadata": {},
   "outputs": [
    {
     "name": "stdout",
     "output_type": "stream",
     "text": [
      "[1, 2, 2, 3, 5, 6]\n"
     ]
    }
   ],
   "source": [
    "def merge_arrays(nums1, nums2, m, n):\n",
    "    \n",
    "    # we start traversing both the arrays from last since the arrays are \n",
    "    # sorted in non-decreasing order hence last elements must be highest\n",
    "    while m > 0 and n > 0:\n",
    "        #last element of nums1 greater than last element of nums2\n",
    "        if nums1[m - 1] > nums2[n - 1]:\n",
    "            nums1[m + n - 1] = nums1[m - 1]  #Putting the highest element at its place in the merged array\n",
    "            m -= 1\n",
    "        else:\n",
    "            nums1[m + n - 1] = nums2[n - 1]  #Putting the highest element at its place in the merged array\n",
    "            n -= 1\n",
    "    \n",
    "    nums1[:n] = nums2[:n]  #Placing the remaining elements of nums2 at the correct positions in nums1\n",
    "\n",
    "\n",
    "nums1 = [1,2,3,0,0,0]\n",
    "m = 3\n",
    "nums2 = [2,5,6]\n",
    "n = 3\n",
    "merge_arrays(nums1, nums2, m, n)\n",
    "print(nums1)"
   ]
  },
  {
   "attachments": {},
   "cell_type": "markdown",
   "metadata": {},
   "source": [
    "QUESTION 6"
   ]
  },
  {
   "cell_type": "code",
   "execution_count": null,
   "metadata": {},
   "outputs": [],
   "source": [
    "'''\n",
    "**Q6.** Given an integer array nums, return true if any value appears at least twice in the array, \n",
    "and return false if every element is distinct.\n",
    "\n",
    "**Example 1:**\n",
    "Input: nums = [1,2,3,1]\n",
    "Output: true\n",
    "'''\n",
    "pass"
   ]
  },
  {
   "cell_type": "code",
   "execution_count": 33,
   "metadata": {},
   "outputs": [
    {
     "name": "stdout",
     "output_type": "stream",
     "text": [
      "True\n"
     ]
    }
   ],
   "source": [
    "def duplicate(nums):\n",
    "    c = dict()\n",
    "    for num in nums:\n",
    "        if c.get(num) != None:\n",
    "            return True\n",
    "        c[num] = 1\n",
    "    return False\n",
    "\n",
    "nums = [1,2,3,1]\n",
    "print(duplicate(nums))"
   ]
  },
  {
   "attachments": {},
   "cell_type": "markdown",
   "metadata": {},
   "source": [
    "QUESTION 7"
   ]
  },
  {
   "cell_type": "code",
   "execution_count": null,
   "metadata": {},
   "outputs": [],
   "source": [
    "'''\n",
    "**Q7.** Given an integer array nums, move all 0's to the end of it while maintaining \n",
    "the relative order of the nonzero elements.\n",
    "Note that you must do this in-place without making a copy of the array.\n",
    "**Example 1:**\n",
    "Input: nums = [0,1,0,3,12]\n",
    "Output: [1,3,12,0,0]\n",
    "'''\n",
    "pass"
   ]
  },
  {
   "cell_type": "code",
   "execution_count": 34,
   "metadata": {},
   "outputs": [
    {
     "name": "stdout",
     "output_type": "stream",
     "text": [
      "[1, 3, 12, 0, 0]\n"
     ]
    }
   ],
   "source": [
    "def move_zero_inplace(nums):\n",
    "    cur = 0\n",
    "    for i in range(len(nums)):\n",
    "        if nums[i]:\n",
    "            nums[cur] = nums[i]\n",
    "            cur += 1\n",
    "    for i in range(cur, len(nums)):\n",
    "        nums[i] = 0\n",
    "\n",
    "\n",
    "nums = [0,1,0,3,12]\n",
    "move_zero_inplace(nums)\n",
    "print(nums)"
   ]
  },
  {
   "cell_type": "code",
   "execution_count": null,
   "metadata": {},
   "outputs": [],
   "source": []
  },
  {
   "cell_type": "code",
   "execution_count": null,
   "metadata": {},
   "outputs": [],
   "source": []
  },
  {
   "cell_type": "code",
   "execution_count": null,
   "metadata": {},
   "outputs": [],
   "source": []
  },
  {
   "cell_type": "code",
   "execution_count": null,
   "metadata": {},
   "outputs": [],
   "source": []
  },
  {
   "cell_type": "code",
   "execution_count": null,
   "metadata": {},
   "outputs": [],
   "source": []
  },
  {
   "cell_type": "code",
   "execution_count": null,
   "metadata": {},
   "outputs": [],
   "source": []
  },
  {
   "cell_type": "code",
   "execution_count": null,
   "metadata": {},
   "outputs": [],
   "source": []
  },
  {
   "cell_type": "code",
   "execution_count": null,
   "metadata": {},
   "outputs": [],
   "source": []
  },
  {
   "cell_type": "code",
   "execution_count": null,
   "metadata": {},
   "outputs": [],
   "source": []
  },
  {
   "cell_type": "code",
   "execution_count": null,
   "metadata": {},
   "outputs": [],
   "source": []
  },
  {
   "cell_type": "code",
   "execution_count": null,
   "metadata": {},
   "outputs": [],
   "source": []
  },
  {
   "cell_type": "code",
   "execution_count": null,
   "metadata": {},
   "outputs": [],
   "source": []
  },
  {
   "cell_type": "code",
   "execution_count": null,
   "metadata": {},
   "outputs": [],
   "source": []
  },
  {
   "cell_type": "code",
   "execution_count": null,
   "metadata": {},
   "outputs": [],
   "source": []
  },
  {
   "cell_type": "code",
   "execution_count": null,
   "metadata": {},
   "outputs": [],
   "source": []
  }
 ],
 "metadata": {
  "kernelspec": {
   "display_name": "gendev",
   "language": "python",
   "name": "python3"
  },
  "language_info": {
   "codemirror_mode": {
    "name": "ipython",
    "version": 3
   },
   "file_extension": ".py",
   "mimetype": "text/x-python",
   "name": "python",
   "nbconvert_exporter": "python",
   "pygments_lexer": "ipython3",
   "version": "3.8.13"
  },
  "orig_nbformat": 4
 },
 "nbformat": 4,
 "nbformat_minor": 2
}
